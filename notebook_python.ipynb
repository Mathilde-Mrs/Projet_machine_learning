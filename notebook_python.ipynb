{
 "cells": [
  {
   "cell_type": "code",
   "execution_count": null,
   "metadata": {},
   "outputs": [],
   "source": []
  }
 ],
 "metadata": {
  "language_info": {
   "name": "python"
  }
 },
 "nbformat": 4,
 "nbformat_minor": 2
}

import pandas as pd

# chemin du fichier Excel
chemin_fichier_excel = r'C:\Users\Admin\Documents\4A\Machine_learning\global-data-on-sustainable-energy.csv'

# Chargez le fichier Excel dans un DataFrame pandas
dataframe_excel = pd.read_excel(chemin_fichier_excel)

# Affichez les premières lignes du DataFrame pour vérification
print(dataframe_excel.head())
