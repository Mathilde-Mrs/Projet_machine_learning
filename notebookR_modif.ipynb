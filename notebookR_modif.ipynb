{
 "cells": [
  {
   "cell_type": "markdown",
   "id": "4f5bac2f-a34d-41db-991c-c147d72a9561",
   "metadata": {
    "tags": []
   },
   "source": [
    "# Projet Machine Learning : Prédiction de l'émission de CO2"
   ]
  },
  {
   "cell_type": "code",
   "execution_count": 21,
   "id": "878ceaf3",
   "metadata": {
    "tags": []
   },
   "outputs": [],
   "source": [
    "#install.packages('MASS')"
   ]
  },
  {
   "cell_type": "code",
   "execution_count": 22,
   "id": "c9b10311-6a63-4dcb-896c-da6a42650d9f",
   "metadata": {
    "tags": []
   },
   "outputs": [],
   "source": [
    "library(ggplot2)\n",
    "library(reshape2)\n",
    "library(gridExtra)\n",
    "library(corrplot)\n",
    "library(FactoMineR)\n",
    "library(factoextra)\n",
    "library(ggpubr)\n",
    "library(crosstable)\n",
    "library(GGally)\n",
    "library(glmnet)\n",
    "library(e1071)\n",
    "library(rpart) \n",
    "library(randomForest)\n",
    "library(DescTools)\n",
    "library(forecast)\n",
    "library(plotly)\n",
    "library(gbm)\n",
    "library(pROC)\n",
    "library(ROCR)\n",
    "library(MASS)\n",
    "library(nnet)"
   ]
  },
  {
   "cell_type": "code",
   "execution_count": 23,
   "id": "f967f7bd-f053-4937-a4fa-75d761eccc8c",
   "metadata": {
    "tags": []
   },
   "outputs": [],
   "source": [
    "energy = read.csv(\"global-data-on-sustainable-energy (1).csv\")"
   ]
  },
  {
   "cell_type": "code",
   "execution_count": 24,
   "id": "890381da-c13c-4e74-bd05-028e940e43d6",
   "metadata": {
    "tags": []
   },
   "outputs": [
    {
     "data": {
      "text/html": [
       "<table class=\"dataframe\">\n",
       "<caption>A data.frame: 6 × 21</caption>\n",
       "<thead>\n",
       "\t<tr><th></th><th scope=col>Entity</th><th scope=col>Year</th><th scope=col>Access.to.electricity....of.population.</th><th scope=col>Access.to.clean.fuels.for.cooking</th><th scope=col>Renewable.electricity.generating.capacity.per.capita</th><th scope=col>Financial.flows.to.developing.countries..US...</th><th scope=col>Renewable.energy.share.in.the.total.final.energy.consumption....</th><th scope=col>Electricity.from.fossil.fuels..TWh.</th><th scope=col>Electricity.from.nuclear..TWh.</th><th scope=col>Electricity.from.renewables..TWh.</th><th scope=col>⋯</th><th scope=col>Primary.energy.consumption.per.capita..kWh.person.</th><th scope=col>Energy.intensity.level.of.primary.energy..MJ..2017.PPP.GDP.</th><th scope=col>Value_co2_emissions_kt_by_country</th><th scope=col>Renewables....equivalent.primary.energy.</th><th scope=col>gdp_growth</th><th scope=col>gdp_per_capita</th><th scope=col>Density.n.P.Km2.</th><th scope=col>Land.Area.Km2.</th><th scope=col>Latitude</th><th scope=col>Longitude</th></tr>\n",
       "\t<tr><th></th><th scope=col>&lt;chr&gt;</th><th scope=col>&lt;int&gt;</th><th scope=col>&lt;dbl&gt;</th><th scope=col>&lt;dbl&gt;</th><th scope=col>&lt;dbl&gt;</th><th scope=col>&lt;dbl&gt;</th><th scope=col>&lt;dbl&gt;</th><th scope=col>&lt;dbl&gt;</th><th scope=col>&lt;dbl&gt;</th><th scope=col>&lt;dbl&gt;</th><th scope=col>⋯</th><th scope=col>&lt;dbl&gt;</th><th scope=col>&lt;dbl&gt;</th><th scope=col>&lt;dbl&gt;</th><th scope=col>&lt;dbl&gt;</th><th scope=col>&lt;dbl&gt;</th><th scope=col>&lt;dbl&gt;</th><th scope=col>&lt;chr&gt;</th><th scope=col>&lt;int&gt;</th><th scope=col>&lt;dbl&gt;</th><th scope=col>&lt;dbl&gt;</th></tr>\n",
       "</thead>\n",
       "<tbody>\n",
       "\t<tr><th scope=row>1</th><td>Afghanistan</td><td>2000</td><td> 1.613591</td><td> 6.2</td><td>9.22</td><td>   20000</td><td>44.99</td><td>0.16</td><td>0</td><td>0.31</td><td>⋯</td><td>302.5948</td><td>1.64</td><td> 760</td><td>NA</td><td>       NA</td><td>      NA</td><td>60</td><td>652230</td><td>33.93911</td><td>67.70995</td></tr>\n",
       "\t<tr><th scope=row>2</th><td>Afghanistan</td><td>2001</td><td> 4.074574</td><td> 7.2</td><td>8.86</td><td>  130000</td><td>45.60</td><td>0.09</td><td>0</td><td>0.50</td><td>⋯</td><td>236.8919</td><td>1.74</td><td> 730</td><td>NA</td><td>       NA</td><td>      NA</td><td>60</td><td>652230</td><td>33.93911</td><td>67.70995</td></tr>\n",
       "\t<tr><th scope=row>3</th><td>Afghanistan</td><td>2002</td><td> 9.409158</td><td> 8.2</td><td>8.47</td><td> 3950000</td><td>37.83</td><td>0.13</td><td>0</td><td>0.56</td><td>⋯</td><td>210.8622</td><td>1.40</td><td>1030</td><td>NA</td><td>       NA</td><td>179.4266</td><td>60</td><td>652230</td><td>33.93911</td><td>67.70995</td></tr>\n",
       "\t<tr><th scope=row>4</th><td>Afghanistan</td><td>2003</td><td>14.738506</td><td> 9.5</td><td>8.09</td><td>25970000</td><td>36.66</td><td>0.31</td><td>0</td><td>0.63</td><td>⋯</td><td>229.9682</td><td>1.40</td><td>1220</td><td>NA</td><td> 8.832278</td><td>190.6838</td><td>60</td><td>652230</td><td>33.93911</td><td>67.70995</td></tr>\n",
       "\t<tr><th scope=row>5</th><td>Afghanistan</td><td>2004</td><td>20.064968</td><td>10.9</td><td>7.75</td><td>      NA</td><td>44.24</td><td>0.33</td><td>0</td><td>0.56</td><td>⋯</td><td>204.2312</td><td>1.20</td><td>1030</td><td>NA</td><td> 1.414118</td><td>211.3821</td><td>60</td><td>652230</td><td>33.93911</td><td>67.70995</td></tr>\n",
       "\t<tr><th scope=row>6</th><td>Afghanistan</td><td>2005</td><td>25.390894</td><td>12.2</td><td>7.51</td><td> 9830000</td><td>33.88</td><td>0.34</td><td>0</td><td>0.59</td><td>⋯</td><td>252.0691</td><td>1.41</td><td>1550</td><td>NA</td><td>11.229715</td><td>242.0313</td><td>60</td><td>652230</td><td>33.93911</td><td>67.70995</td></tr>\n",
       "</tbody>\n",
       "</table>\n"
      ],
      "text/latex": [
       "A data.frame: 6 × 21\n",
       "\\begin{tabular}{r|lllllllllllllllllllll}\n",
       "  & Entity & Year & Access.to.electricity....of.population. & Access.to.clean.fuels.for.cooking & Renewable.electricity.generating.capacity.per.capita & Financial.flows.to.developing.countries..US... & Renewable.energy.share.in.the.total.final.energy.consumption.... & Electricity.from.fossil.fuels..TWh. & Electricity.from.nuclear..TWh. & Electricity.from.renewables..TWh. & ⋯ & Primary.energy.consumption.per.capita..kWh.person. & Energy.intensity.level.of.primary.energy..MJ..2017.PPP.GDP. & Value\\_co2\\_emissions\\_kt\\_by\\_country & Renewables....equivalent.primary.energy. & gdp\\_growth & gdp\\_per\\_capita & Density.n.P.Km2. & Land.Area.Km2. & Latitude & Longitude\\\\\n",
       "  & <chr> & <int> & <dbl> & <dbl> & <dbl> & <dbl> & <dbl> & <dbl> & <dbl> & <dbl> & ⋯ & <dbl> & <dbl> & <dbl> & <dbl> & <dbl> & <dbl> & <chr> & <int> & <dbl> & <dbl>\\\\\n",
       "\\hline\n",
       "\t1 & Afghanistan & 2000 &  1.613591 &  6.2 & 9.22 &    20000 & 44.99 & 0.16 & 0 & 0.31 & ⋯ & 302.5948 & 1.64 &  760 & NA &        NA &       NA & 60 & 652230 & 33.93911 & 67.70995\\\\\n",
       "\t2 & Afghanistan & 2001 &  4.074574 &  7.2 & 8.86 &   130000 & 45.60 & 0.09 & 0 & 0.50 & ⋯ & 236.8919 & 1.74 &  730 & NA &        NA &       NA & 60 & 652230 & 33.93911 & 67.70995\\\\\n",
       "\t3 & Afghanistan & 2002 &  9.409158 &  8.2 & 8.47 &  3950000 & 37.83 & 0.13 & 0 & 0.56 & ⋯ & 210.8622 & 1.40 & 1030 & NA &        NA & 179.4266 & 60 & 652230 & 33.93911 & 67.70995\\\\\n",
       "\t4 & Afghanistan & 2003 & 14.738506 &  9.5 & 8.09 & 25970000 & 36.66 & 0.31 & 0 & 0.63 & ⋯ & 229.9682 & 1.40 & 1220 & NA &  8.832278 & 190.6838 & 60 & 652230 & 33.93911 & 67.70995\\\\\n",
       "\t5 & Afghanistan & 2004 & 20.064968 & 10.9 & 7.75 &       NA & 44.24 & 0.33 & 0 & 0.56 & ⋯ & 204.2312 & 1.20 & 1030 & NA &  1.414118 & 211.3821 & 60 & 652230 & 33.93911 & 67.70995\\\\\n",
       "\t6 & Afghanistan & 2005 & 25.390894 & 12.2 & 7.51 &  9830000 & 33.88 & 0.34 & 0 & 0.59 & ⋯ & 252.0691 & 1.41 & 1550 & NA & 11.229715 & 242.0313 & 60 & 652230 & 33.93911 & 67.70995\\\\\n",
       "\\end{tabular}\n"
      ],
      "text/markdown": [
       "\n",
       "A data.frame: 6 × 21\n",
       "\n",
       "| <!--/--> | Entity &lt;chr&gt; | Year &lt;int&gt; | Access.to.electricity....of.population. &lt;dbl&gt; | Access.to.clean.fuels.for.cooking &lt;dbl&gt; | Renewable.electricity.generating.capacity.per.capita &lt;dbl&gt; | Financial.flows.to.developing.countries..US... &lt;dbl&gt; | Renewable.energy.share.in.the.total.final.energy.consumption.... &lt;dbl&gt; | Electricity.from.fossil.fuels..TWh. &lt;dbl&gt; | Electricity.from.nuclear..TWh. &lt;dbl&gt; | Electricity.from.renewables..TWh. &lt;dbl&gt; | ⋯ ⋯ | Primary.energy.consumption.per.capita..kWh.person. &lt;dbl&gt; | Energy.intensity.level.of.primary.energy..MJ..2017.PPP.GDP. &lt;dbl&gt; | Value_co2_emissions_kt_by_country &lt;dbl&gt; | Renewables....equivalent.primary.energy. &lt;dbl&gt; | gdp_growth &lt;dbl&gt; | gdp_per_capita &lt;dbl&gt; | Density.n.P.Km2. &lt;chr&gt; | Land.Area.Km2. &lt;int&gt; | Latitude &lt;dbl&gt; | Longitude &lt;dbl&gt; |\n",
       "|---|---|---|---|---|---|---|---|---|---|---|---|---|---|---|---|---|---|---|---|---|---|\n",
       "| 1 | Afghanistan | 2000 |  1.613591 |  6.2 | 9.22 |    20000 | 44.99 | 0.16 | 0 | 0.31 | ⋯ | 302.5948 | 1.64 |  760 | NA |        NA |       NA | 60 | 652230 | 33.93911 | 67.70995 |\n",
       "| 2 | Afghanistan | 2001 |  4.074574 |  7.2 | 8.86 |   130000 | 45.60 | 0.09 | 0 | 0.50 | ⋯ | 236.8919 | 1.74 |  730 | NA |        NA |       NA | 60 | 652230 | 33.93911 | 67.70995 |\n",
       "| 3 | Afghanistan | 2002 |  9.409158 |  8.2 | 8.47 |  3950000 | 37.83 | 0.13 | 0 | 0.56 | ⋯ | 210.8622 | 1.40 | 1030 | NA |        NA | 179.4266 | 60 | 652230 | 33.93911 | 67.70995 |\n",
       "| 4 | Afghanistan | 2003 | 14.738506 |  9.5 | 8.09 | 25970000 | 36.66 | 0.31 | 0 | 0.63 | ⋯ | 229.9682 | 1.40 | 1220 | NA |  8.832278 | 190.6838 | 60 | 652230 | 33.93911 | 67.70995 |\n",
       "| 5 | Afghanistan | 2004 | 20.064968 | 10.9 | 7.75 |       NA | 44.24 | 0.33 | 0 | 0.56 | ⋯ | 204.2312 | 1.20 | 1030 | NA |  1.414118 | 211.3821 | 60 | 652230 | 33.93911 | 67.70995 |\n",
       "| 6 | Afghanistan | 2005 | 25.390894 | 12.2 | 7.51 |  9830000 | 33.88 | 0.34 | 0 | 0.59 | ⋯ | 252.0691 | 1.41 | 1550 | NA | 11.229715 | 242.0313 | 60 | 652230 | 33.93911 | 67.70995 |\n",
       "\n"
      ],
      "text/plain": [
       "  Entity      Year Access.to.electricity....of.population.\n",
       "1 Afghanistan 2000  1.613591                              \n",
       "2 Afghanistan 2001  4.074574                              \n",
       "3 Afghanistan 2002  9.409158                              \n",
       "4 Afghanistan 2003 14.738506                              \n",
       "5 Afghanistan 2004 20.064968                              \n",
       "6 Afghanistan 2005 25.390894                              \n",
       "  Access.to.clean.fuels.for.cooking\n",
       "1  6.2                             \n",
       "2  7.2                             \n",
       "3  8.2                             \n",
       "4  9.5                             \n",
       "5 10.9                             \n",
       "6 12.2                             \n",
       "  Renewable.electricity.generating.capacity.per.capita\n",
       "1 9.22                                                \n",
       "2 8.86                                                \n",
       "3 8.47                                                \n",
       "4 8.09                                                \n",
       "5 7.75                                                \n",
       "6 7.51                                                \n",
       "  Financial.flows.to.developing.countries..US...\n",
       "1    20000                                      \n",
       "2   130000                                      \n",
       "3  3950000                                      \n",
       "4 25970000                                      \n",
       "5       NA                                      \n",
       "6  9830000                                      \n",
       "  Renewable.energy.share.in.the.total.final.energy.consumption....\n",
       "1 44.99                                                           \n",
       "2 45.60                                                           \n",
       "3 37.83                                                           \n",
       "4 36.66                                                           \n",
       "5 44.24                                                           \n",
       "6 33.88                                                           \n",
       "  Electricity.from.fossil.fuels..TWh. Electricity.from.nuclear..TWh.\n",
       "1 0.16                                0                             \n",
       "2 0.09                                0                             \n",
       "3 0.13                                0                             \n",
       "4 0.31                                0                             \n",
       "5 0.33                                0                             \n",
       "6 0.34                                0                             \n",
       "  Electricity.from.renewables..TWh. ⋯\n",
       "1 0.31                              ⋯\n",
       "2 0.50                              ⋯\n",
       "3 0.56                              ⋯\n",
       "4 0.63                              ⋯\n",
       "5 0.56                              ⋯\n",
       "6 0.59                              ⋯\n",
       "  Primary.energy.consumption.per.capita..kWh.person.\n",
       "1 302.5948                                          \n",
       "2 236.8919                                          \n",
       "3 210.8622                                          \n",
       "4 229.9682                                          \n",
       "5 204.2312                                          \n",
       "6 252.0691                                          \n",
       "  Energy.intensity.level.of.primary.energy..MJ..2017.PPP.GDP.\n",
       "1 1.64                                                       \n",
       "2 1.74                                                       \n",
       "3 1.40                                                       \n",
       "4 1.40                                                       \n",
       "5 1.20                                                       \n",
       "6 1.41                                                       \n",
       "  Value_co2_emissions_kt_by_country Renewables....equivalent.primary.energy.\n",
       "1  760                              NA                                      \n",
       "2  730                              NA                                      \n",
       "3 1030                              NA                                      \n",
       "4 1220                              NA                                      \n",
       "5 1030                              NA                                      \n",
       "6 1550                              NA                                      \n",
       "  gdp_growth gdp_per_capita Density.n.P.Km2. Land.Area.Km2. Latitude Longitude\n",
       "1        NA        NA       60               652230         33.93911 67.70995 \n",
       "2        NA        NA       60               652230         33.93911 67.70995 \n",
       "3        NA  179.4266       60               652230         33.93911 67.70995 \n",
       "4  8.832278  190.6838       60               652230         33.93911 67.70995 \n",
       "5  1.414118  211.3821       60               652230         33.93911 67.70995 \n",
       "6 11.229715  242.0313       60               652230         33.93911 67.70995 "
      ]
     },
     "metadata": {},
     "output_type": "display_data"
    }
   ],
   "source": [
    "head(energy)\n"
   ]
  },
  {
   "cell_type": "markdown",
   "id": "3bbea78b-d8bc-45f0-9ec8-4fe73ca2ef0c",
   "metadata": {},
   "source": [
    "## Renomination des variables pour plus de clarté dans les graphiques "
   ]
  },
  {
   "cell_type": "code",
   "execution_count": 25,
   "id": "198bd8aa-3549-471c-a5f8-a0619c0677a8",
   "metadata": {
    "tags": []
   },
   "outputs": [
    {
     "name": "stdout",
     "output_type": "stream",
     "text": [
      " [1] \"Entity\"                \"Year\"                  \"Access_elec\"          \n",
      " [4] \"Access_fuels\"          \"Renewable_elec\"        \"Financial_flows\"      \n",
      " [7] \"Renewable_energy\"      \"Elec_fossil\"           \"Elec_nuclear\"         \n",
      "[10] \"Elec_renew\"            \"Low_carbon\"            \"Primary_energy\"       \n",
      "[13] \"Energy_intensity\"      \"Value_co2\"             \"Renewables_equivalent\"\n",
      "[16] \"gdp_growth\"            \"gdp_capita\"            \"Density\"              \n",
      "[19] \"Land_area\"             \"Latitude\"              \"Longitude\"            \n"
     ]
    }
   ],
   "source": [
    "# Accès et modification des noms des colonnes\n",
    "column_names=names(energy)\n",
    "#print(column_names)\n",
    "new_column_names=c(\"Entity\", \"Year\",\"Access_elec\",\"Access_fuels\",\"Renewable_elec\",\"Financial_flows\",\"Renewable_energy\",\"Elec_fossil\",\"Elec_nuclear\",\"Elec_renew\",\"Low_carbon\",\"Primary_energy\",\"Energy_intensity\",\"Value_co2\",\"Renewables_equivalent\",\"gdp_growth\",\"gdp_capita\",\"Density\",\"Land_area\",\"Latitude\",\"Longitude\")  # Remplacez ... par les nouveaux noms des colonnes\n",
    "\n",
    "# Réassigner les noms des colonnes\n",
    "names(energy)=new_column_names\n",
    "print(names(energy))"
   ]
  },
  {
   "cell_type": "markdown",
   "id": "8e945483-2382-420a-9cb0-3dd55bed4d94",
   "metadata": {},
   "source": [
    "# Analyse exploratoire"
   ]
  },
  {
   "cell_type": "markdown",
   "id": "465358e3-1a35-4f5c-be96-f1f422edf3b4",
   "metadata": {},
   "source": [
    "## Question 1 "
   ]
  },
  {
   "cell_type": "markdown",
   "id": "ee92bf08-aea7-4d4f-8035-c49fd8c19b74",
   "metadata": {
    "tags": []
   },
   "source": [
    "### Nature des différentes variables"
   ]
  },
  {
   "cell_type": "code",
   "execution_count": 26,
   "id": "4be7a48a-d9a2-47c0-abbc-74a0538dbf35",
   "metadata": {
    "tags": []
   },
   "outputs": [
    {
     "name": "stdout",
     "output_type": "stream",
     "text": [
      "'data.frame':\t3649 obs. of  21 variables:\n",
      " $ Entity               : chr  \"Afghanistan\" \"Afghanistan\" \"Afghanistan\" \"Afghanistan\" ...\n",
      " $ Year                 : int  2000 2001 2002 2003 2004 2005 2006 2007 2008 2009 ...\n",
      " $ Access_elec          : num  1.61 4.07 9.41 14.74 20.06 ...\n",
      " $ Access_fuels         : num  6.2 7.2 8.2 9.5 10.9 ...\n",
      " $ Renewable_elec       : num  9.22 8.86 8.47 8.09 7.75 7.51 7.4 7.25 7.49 7.5 ...\n",
      " $ Financial_flows      : num  20000 130000 3950000 25970000 NA ...\n",
      " $ Renewable_energy     : num  45 45.6 37.8 36.7 44.2 ...\n",
      " $ Elec_fossil          : num  0.16 0.09 0.13 0.31 0.33 0.34 0.2 0.2 0.19 0.16 ...\n",
      " $ Elec_nuclear         : num  0 0 0 0 0 0 0 0 0 0 ...\n",
      " $ Elec_renew           : num  0.31 0.5 0.56 0.63 0.56 0.59 0.64 0.75 0.54 0.78 ...\n",
      " $ Low_carbon           : num  66 84.7 81.2 67 62.9 ...\n",
      " $ Primary_energy       : num  303 237 211 230 204 ...\n",
      " $ Energy_intensity     : num  1.64 1.74 1.4 1.4 1.2 1.41 1.5 1.53 1.94 2.25 ...\n",
      " $ Value_co2            : num  760 730 1030 1220 1030 ...\n",
      " $ Renewables_equivalent: num  NA NA NA NA NA NA NA NA NA NA ...\n",
      " $ gdp_growth           : num  NA NA NA 8.83 1.41 ...\n",
      " $ gdp_capita           : num  NA NA 179 191 211 ...\n",
      " $ Density              : chr  \"60\" \"60\" \"60\" \"60\" ...\n",
      " $ Land_area            : int  652230 652230 652230 652230 652230 652230 652230 652230 652230 652230 ...\n",
      " $ Latitude             : num  33.9 33.9 33.9 33.9 33.9 ...\n",
      " $ Longitude            : num  67.7 67.7 67.7 67.7 67.7 ...\n"
     ]
    }
   ],
   "source": [
    "str(energy)"
   ]
  },
  {
   "cell_type": "markdown",
   "id": "01efd354-5c67-4f74-bb97-d79d5ab7c45f",
   "metadata": {
    "tags": []
   },
   "source": [
    "Nous pouvons voir ici que toutes les variables sont quantitatives à l'exception de \"Entity\" et \"Density\". Cette dernière devrait être plutôt être une variable quanitative"
   ]
  },
  {
   "cell_type": "markdown",
   "id": "47a0ccd4-5098-431f-9030-d6dca77944d8",
   "metadata": {
    "tags": []
   },
   "source": [
    "### Convertir Year et Entity en  variables  qualitatives"
   ]
  },
  {
   "cell_type": "code",
   "execution_count": 27,
   "id": "a3e540a2-e623-46ca-88c8-98e51573c53e",
   "metadata": {
    "tags": []
   },
   "outputs": [],
   "source": [
    "energy$Year = as.factor(energy$Year)\n",
    "energy$Entity= as.factor(energy$Entity)"
   ]
  },
  {
   "cell_type": "markdown",
   "id": "a48cda5d-3b12-430d-af16-421dca33af7d",
   "metadata": {
    "tags": []
   },
   "source": [
    "### Convertir Density en une variable numérique"
   ]
  },
  {
   "cell_type": "code",
   "execution_count": 28,
   "id": "aeb43c67-469b-451f-95cb-c68b0b62db3b",
   "metadata": {
    "tags": []
   },
   "outputs": [],
   "source": [
    "energy$Density = as.numeric(gsub(\",\",\"\",energy$Density))"
   ]
  },
  {
   "cell_type": "code",
   "execution_count": 29,
   "id": "df9eb5b1-fa1a-4f8c-bbda-7041e814a029",
   "metadata": {
    "tags": []
   },
   "outputs": [
    {
     "name": "stdout",
     "output_type": "stream",
     "text": [
      "'data.frame':\t3649 obs. of  21 variables:\n",
      " $ Entity               : Factor w/ 176 levels \"Afghanistan\",..: 1 1 1 1 1 1 1 1 1 1 ...\n",
      " $ Year                 : Factor w/ 21 levels \"2000\",\"2001\",..: 1 2 3 4 5 6 7 8 9 10 ...\n",
      " $ Access_elec          : num  1.61 4.07 9.41 14.74 20.06 ...\n",
      " $ Access_fuels         : num  6.2 7.2 8.2 9.5 10.9 ...\n",
      " $ Renewable_elec       : num  9.22 8.86 8.47 8.09 7.75 7.51 7.4 7.25 7.49 7.5 ...\n",
      " $ Financial_flows      : num  20000 130000 3950000 25970000 NA ...\n",
      " $ Renewable_energy     : num  45 45.6 37.8 36.7 44.2 ...\n",
      " $ Elec_fossil          : num  0.16 0.09 0.13 0.31 0.33 0.34 0.2 0.2 0.19 0.16 ...\n",
      " $ Elec_nuclear         : num  0 0 0 0 0 0 0 0 0 0 ...\n",
      " $ Elec_renew           : num  0.31 0.5 0.56 0.63 0.56 0.59 0.64 0.75 0.54 0.78 ...\n",
      " $ Low_carbon           : num  66 84.7 81.2 67 62.9 ...\n",
      " $ Primary_energy       : num  303 237 211 230 204 ...\n",
      " $ Energy_intensity     : num  1.64 1.74 1.4 1.4 1.2 1.41 1.5 1.53 1.94 2.25 ...\n",
      " $ Value_co2            : num  760 730 1030 1220 1030 ...\n",
      " $ Renewables_equivalent: num  NA NA NA NA NA NA NA NA NA NA ...\n",
      " $ gdp_growth           : num  NA NA NA 8.83 1.41 ...\n",
      " $ gdp_capita           : num  NA NA 179 191 211 ...\n",
      " $ Density              : num  60 60 60 60 60 60 60 60 60 60 ...\n",
      " $ Land_area            : int  652230 652230 652230 652230 652230 652230 652230 652230 652230 652230 ...\n",
      " $ Latitude             : num  33.9 33.9 33.9 33.9 33.9 ...\n",
      " $ Longitude            : num  67.7 67.7 67.7 67.7 67.7 ...\n"
     ]
    }
   ],
   "source": [
    "str(energy)"
   ]
  },
  {
   "cell_type": "markdown",
   "id": "b14be4fb-e27a-4495-9504-35bdbd60283f",
   "metadata": {},
   "source": [
    "## Question 2"
   ]
  },
  {
   "cell_type": "markdown",
   "id": "fecbc816-086a-4895-8195-275f902b89cf",
   "metadata": {
    "tags": []
   },
   "source": [
    "### Taux de valeurs manquantes"
   ]
  },
  {
   "cell_type": "code",
   "execution_count": 30,
   "id": "474f5aec-aca7-4835-bdca-61605b26ead8",
   "metadata": {
    "tags": []
   },
   "outputs": [
    {
     "data": {
      "text/html": [
       "9.10621305249971"
      ],
      "text/latex": [
       "9.10621305249971"
      ],
      "text/markdown": [
       "9.10621305249971"
      ],
      "text/plain": [
       "[1] 9.106213"
      ]
     },
     "metadata": {},
     "output_type": "display_data"
    }
   ],
   "source": [
    "sum(is.na(energy))*100/(21*3649)"
   ]
  },
  {
   "cell_type": "markdown",
   "id": "70a987cc-5a91-49ae-996e-ca092ce61fc6",
   "metadata": {},
   "source": [
    "### Taux de valeurs manquantes par colonne"
   ]
  },
  {
   "cell_type": "code",
   "execution_count": 31,
   "id": "bd551502-c729-4948-a7fd-70dfbe9b8474",
   "metadata": {
    "tags": []
   },
   "outputs": [
    {
     "name": "stdout",
     "output_type": "stream",
     "text": [
      "Renewables_equivalent       Financial_flows        Renewable_elec \n",
      "                 2137                  2089                   931 \n",
      "            Value_co2            gdp_growth            gdp_capita \n",
      "                  428                   317                   282 \n",
      "     Energy_intensity      Renewable_energy          Access_fuels \n",
      "                  207                   194                   169 \n",
      "         Elec_nuclear            Low_carbon           Elec_fossil \n",
      "                  126                    42                    21 \n",
      "           Elec_renew           Access_elec               Density \n",
      "                   21                    10                     1 \n",
      "            Land_area              Latitude             Longitude \n",
      "                    1                     1                     1 \n",
      "               Entity                  Year        Primary_energy \n",
      "                    0                     0                     0 \n",
      "Renewables_equivalent       Financial_flows        Renewable_elec \n",
      "          58.56399013           57.24856125           25.51383941 \n",
      "            Value_co2            gdp_growth            gdp_capita \n",
      "          11.72924089            8.68731159            7.72814470 \n",
      "     Energy_intensity      Renewable_energy          Access_fuels \n",
      "           5.67278706            5.31652508            4.63140586 \n",
      "         Elec_nuclear            Low_carbon           Elec_fossil \n",
      "           3.45300082            1.15100027            0.57550014 \n",
      "           Elec_renew           Access_elec               Density \n",
      "           0.57550014            0.27404768            0.02740477 \n",
      "            Land_area              Latitude             Longitude \n",
      "           0.02740477            0.02740477            0.02740477 \n",
      "               Entity                  Year        Primary_energy \n",
      "           0.00000000            0.00000000            0.00000000 \n"
     ]
    }
   ],
   "source": [
    "#tx = colMeans(is.na(energy))*100\n",
    "missing = sort(colSums(is.na(energy)),decreasing = TRUE )\n",
    "tx = missing*100/(3649) \n",
    "print(missing)\n",
    "print(tx)"
   ]
  },
  {
   "cell_type": "markdown",
   "id": "85fa90c6-f711-49d4-bf11-7fca9f168359",
   "metadata": {
    "tags": []
   },
   "source": [
    "### Suppression des variables corrompues"
   ]
  },
  {
   "cell_type": "code",
   "execution_count": 32,
   "id": "090dc4c6-b6a8-4b3b-b37c-489024ae350f",
   "metadata": {
    "tags": []
   },
   "outputs": [],
   "source": [
    "energy$Renewable_elec = NULL\n",
    "energy$Financial_flows= NULL\n",
    "energy$Renewables_equivalent = NULL"
   ]
  },
  {
   "cell_type": "code",
   "execution_count": 33,
   "id": "98b5e7ee",
   "metadata": {},
   "outputs": [],
   "source": [
    "energy_pt2 = energy"
   ]
  },
  {
   "cell_type": "markdown",
   "id": "38b81ead-ba76-4750-9d38-f33edd161f5e",
   "metadata": {},
   "source": [
    "## Question 3 "
   ]
  },
  {
   "cell_type": "markdown",
   "id": "e15380a0-50e6-41ab-ae15-172d00e7b46b",
   "metadata": {},
   "source": [
    "### Suppression des individus ayant des valeurs manquantes"
   ]
  },
  {
   "cell_type": "code",
   "execution_count": null,
   "id": "9857c280-26e2-40d6-bdce-989442358e55",
   "metadata": {
    "tags": []
   },
   "outputs": [],
   "source": [
    "complete_energy = na.omit(energy)"
   ]
  },
  {
   "cell_type": "code",
   "execution_count": null,
   "id": "59a7b102-bfca-4c51-a219-38138b7a3eaa",
   "metadata": {
    "tags": []
   },
   "outputs": [],
   "source": [
    "str(complete_energy)"
   ]
  },
  {
   "cell_type": "markdown",
   "id": "2272b11b-89ce-4010-92c6-2d3b11e6238a",
   "metadata": {},
   "source": [
    "Il y a bien 2868 observations."
   ]
  },
  {
   "cell_type": "code",
   "execution_count": null,
   "id": "3152e443-3646-4f85-9b10-e6196e57a335",
   "metadata": {
    "tags": []
   },
   "outputs": [],
   "source": [
    "sum(is.na(complete_energy))*100/(21*3649)"
   ]
  },
  {
   "cell_type": "markdown",
   "id": "763bddaf-4f2e-4515-af2c-03fa2cc34833",
   "metadata": {},
   "source": [
    "On retrouve bien un taux de valeurs manquantes nul. "
   ]
  },
  {
   "cell_type": "markdown",
   "id": "a2453d18-cc3b-42ff-9fe0-da6315df86b3",
   "metadata": {},
   "source": [
    "## Question 5"
   ]
  },
  {
   "cell_type": "markdown",
   "id": "f67646dc-d9ba-4426-80f3-98326d335877",
   "metadata": {
    "tags": []
   },
   "source": [
    "### Hétérogénéité d'émission de CO2 de pays"
   ]
  },
  {
   "cell_type": "code",
   "execution_count": null,
   "id": "93e4e21d-6b9a-4599-b05f-c8c4fcd546de",
   "metadata": {
    "tags": []
   },
   "outputs": [],
   "source": [
    "ggplot(complete_energy) + \n",
    "  aes(x = Year, y = Value_co2, color = Entity, group = Entity) + \n",
    "  geom_line(show.legend = FALSE) \n",
    "#complete energy avec les valeurs transformées mais on garde value_Co2\n",
    "#parfoisun groupe contient une seule observation et je pense que cela ne s'affiche donc pas "
   ]
  },
  {
   "cell_type": "code",
   "execution_count": null,
   "id": "d02b38ed-5e28-4616-bddc-216df979fd4a",
   "metadata": {
    "tags": []
   },
   "outputs": [],
   "source": [
    "paste('ecart type')\n",
    "sd(complete_energy$Value_co2)\n",
    "paste('moyenne :')\n",
    "mean(complete_energy$Value_co2)\n",
    "paste('min')\n",
    "min(complete_energy$Value_co2)\n",
    "paste('max')\n",
    "max(complete_energy$Value_co2)"
   ]
  },
  {
   "cell_type": "markdown",
   "id": "e5371fd4-a71d-4a83-9882-dd4ea8bbab0e",
   "metadata": {},
   "source": [
    "Ici nous pouvons observer que l'écart type de la variable Value CO2 est très grande, ce qui témoigne d'une hétérogéneité des valeurs par rapport à la répartition moyenne. De plus le graphique que les 5 pays ayant une emission de CO2 la plus importante sont : Chine / Etats-Unis / Inde / Japon / Allemagne"
   ]
  },
  {
   "cell_type": "markdown",
   "id": "23ff02d8-5b45-4bc6-acd4-156e7e53b5b6",
   "metadata": {},
   "source": [
    "### Les pays les plus émetteurs de CO2"
   ]
  },
  {
   "cell_type": "code",
   "execution_count": null,
   "id": "98f30cd3-43d9-4cdd-a82e-b5881f55dc1c",
   "metadata": {
    "tags": []
   },
   "outputs": [],
   "source": [
    "Moy = aggregate(data=complete_energy,Value_co2~Entity,FUN=mean)\n",
    "index = order(Moy$Value_co2, decreasing = TRUE )\n",
    "Moy_classe = Moy[index,]\n",
    "head(Moy_classe,10)\n",
    "barplot(Moy[,2])"
   ]
  },
  {
   "cell_type": "markdown",
   "id": "ac179192-32c4-47fd-8d02-55c65418d124",
   "metadata": {},
   "source": [
    "## Question 4"
   ]
  },
  {
   "cell_type": "markdown",
   "id": "552beaaf-66dc-42f3-942b-4901a6697ce2",
   "metadata": {},
   "source": [
    "### Analyse descriptive unidimensionnelle"
   ]
  },
  {
   "cell_type": "markdown",
   "id": "2e67a75c-0f95-4f62-a1ce-082c337b172b",
   "metadata": {},
   "source": [
    "#### Variables qualitatives : Year et Entity "
   ]
  },
  {
   "cell_type": "code",
   "execution_count": null,
   "id": "46262bea-9f9f-438a-9907-284663d959ef",
   "metadata": {
    "tags": []
   },
   "outputs": [],
   "source": [
    "occ_y = table(complete_energy$Year)\n",
    "print(occ_y)\n",
    "barplot(occ_y, col=\"gold\")"
   ]
  },
  {
   "cell_type": "markdown",
   "id": "5c080fa6-dff9-49b1-9ba8-9c78d2a8417e",
   "metadata": {},
   "source": [
    "Chaque année n'a pas le même nombre d'observations."
   ]
  },
  {
   "cell_type": "code",
   "execution_count": null,
   "id": "a559e97b-2f8d-4888-9608-aa3d60716c39",
   "metadata": {
    "tags": []
   },
   "outputs": [],
   "source": [
    "occ_e = table(complete_energy$Entity)\n",
    "#print(occ_e)\n",
    "barplot(occ_e,col = \"darkorchid\")\n"
   ]
  },
  {
   "cell_type": "code",
   "execution_count": null,
   "id": "95dab1e5-4f01-4f2c-a686-a9e42b7ff688",
   "metadata": {
    "tags": []
   },
   "outputs": [],
   "source": [
    "occ_e20 = occ_e[occ_e<20]\n",
    "barplot(occ_e20,col = \"darkorchid\")"
   ]
  },
  {
   "cell_type": "markdown",
   "id": "7b13d740-0e48-4d47-b300-c61e271ef65e",
   "metadata": {},
   "source": [
    "Chaque pays n'a pas le même nombre d'observations. Il y en a 12 qui n'ont pas été observés durant les 20 années de l'étude"
   ]
  },
  {
   "cell_type": "markdown",
   "id": "07498e18-6982-4431-be54-144d47c99868",
   "metadata": {},
   "source": [
    "#### Pour les variables quantitatives"
   ]
  },
  {
   "cell_type": "code",
   "execution_count": null,
   "id": "58a205a1-19a8-425e-9b7a-bcac72dca9b9",
   "metadata": {
    "tags": []
   },
   "outputs": [],
   "source": [
    "summary(complete_energy)"
   ]
  },
  {
   "cell_type": "code",
   "execution_count": null,
   "id": "6dd22646-8911-4a4d-9dde-1b266a5cc381",
   "metadata": {
    "tags": []
   },
   "outputs": [],
   "source": [
    "options(repr.plot.width = 15, repr.plot.height = 12)\n",
    "par(mfrow = c(7,2) , mar = c(4,4,2,1))\n",
    "\n",
    "for (i in 3:length(names(complete_energy))) {\n",
    "    dfi = complete_energy[,c(i)]\n",
    "    hist(dfi, main=names(complete_energy)[i],xlab='Values')\n",
    "}"
   ]
  },
  {
   "cell_type": "code",
   "execution_count": null,
   "id": "a7b9161f-dc42-461a-b271-2205831738b6",
   "metadata": {
    "tags": []
   },
   "outputs": [],
   "source": [
    "options(repr.plot.width = 15, repr.plot.height = 10)\n",
    "\n",
    "df = complete_energy[,-c(1,2)]\n",
    "boxplot(df)"
   ]
  },
  {
   "cell_type": "code",
   "execution_count": null,
   "id": "84cae828-ba87-46a1-b704-a583a084279c",
   "metadata": {
    "tags": []
   },
   "outputs": [],
   "source": [
    "boxplot(df$Value_co2)"
   ]
  },
  {
   "cell_type": "markdown",
   "id": "69888a60-5ae8-4fb7-86c2-f60b783dfae6",
   "metadata": {},
   "source": [
    "Les échelles de valeurs sont très différentes en fonction des variables que nous regardons dans notre energyset, nos avons choisi de nous focaliser sur Value_CO2 et nous voyons que celle-ci est composée de beaucoup d'outliers. Donc l'observation en boxplot n'est pas forcément pertinente."
   ]
  },
  {
   "cell_type": "markdown",
   "id": "2694fd2f-fdfb-4cf7-98f7-d15e07e3d79c",
   "metadata": {},
   "source": [
    "##### Transformation des variables"
   ]
  },
  {
   "cell_type": "code",
   "execution_count": null,
   "id": "10fbdef0-73b5-4a9b-9f69-37ba51f8876c",
   "metadata": {
    "tags": []
   },
   "outputs": [],
   "source": [
    "complete_energy[, \"SAccess_elec\"] = log(complete_energy[, \"Access_elec\"])\n",
    "\n",
    "g1 = ggplot(complete_energy,aes(x=Access_elec))+ geom_histogram(aes(y=..density..),binwidth = 5)+geom_density(alpha=.1,col=\"blue\") \n",
    "g2 = ggplot(complete_energy,aes(x=SAccess_elec))+ geom_histogram(aes(y=..density..),binwidth = 0.2)+geom_density(alpha=.1, col=\"blue\") \n",
    "\n",
    "grid.arrange(g1,g2,ncol=2)"
   ]
  },
  {
   "cell_type": "code",
   "execution_count": null,
   "id": "ab2337b4-b8f7-4d47-a500-396ba82987f0",
   "metadata": {
    "tags": []
   },
   "outputs": [],
   "source": [
    "complete_energy[, \"SAccess_fuels\"] = log(1+complete_energy[, \"Access_fuels\"])\n",
    "\n",
    "g1 = ggplot(complete_energy,aes(x=Access_fuels))+ geom_histogram(aes(y=..density..),binwidth = 5)+geom_density(alpha=.1,col=\"blue\") \n",
    "g2 = ggplot(complete_energy,aes(x=SAccess_fuels))+ geom_histogram(aes(y=..density..),binwidth = 0.2)+geom_density(alpha=.1, col=\"blue\") \n",
    "\n",
    "grid.arrange(g1,g2,ncol=2)"
   ]
  },
  {
   "cell_type": "code",
   "execution_count": null,
   "id": "5f7008d4-0de6-41bb-a3bf-7a1f5ba8d08d",
   "metadata": {
    "tags": []
   },
   "outputs": [],
   "source": [
    "complete_energy[, \"SRenewable_energy\"] = sqrt(complete_energy[, \"Renewable_energy\"])\n",
    "\n",
    "g1 = ggplot(complete_energy,aes(x=Renewable_energy))+ geom_histogram(aes(y=..density..),binwidth = 5)+geom_density(alpha=.1,col=\"blue\") \n",
    "g2 = ggplot(complete_energy,aes(x=SRenewable_energy))+ geom_histogram(aes(y=..density..),binwidth = 0.5)+geom_density(alpha=.1, col=\"blue\") \n",
    "grid.arrange(g1,g2,ncol=2)"
   ]
  },
  {
   "cell_type": "code",
   "execution_count": null,
   "id": "222bff85-ee83-47a1-9d0c-c845ec9f4c17",
   "metadata": {
    "tags": []
   },
   "outputs": [],
   "source": [
    "complete_energy[, \"SElec_fossil\"] = sqrt(complete_energy[, \"Elec_fossil\"])\n",
    "\n",
    "g1 = ggplot(complete_energy,aes(x=Elec_fossil))+ geom_histogram(aes(y=..density..),binwidth = 25)+geom_density(alpha=.1,col=\"blue\") \n",
    "g2 = ggplot(complete_energy,aes(x=SElec_fossil))+ geom_histogram(aes(y=..density..),binwidth = 1)+geom_density(alpha=.1, col=\"blue\") \n",
    "\n",
    "grid.arrange(g1,g2,ncol=2)"
   ]
  },
  {
   "cell_type": "code",
   "execution_count": null,
   "id": "1b7d172f-7cac-4146-b92c-97b8e4aa40e8",
   "metadata": {
    "tags": []
   },
   "outputs": [],
   "source": [
    "complete_energy[, \"SElec_nuclear\"] = log(1+complete_energy[, \"Elec_nuclear\"])\n",
    "\n",
    "g1 = ggplot(complete_energy,aes(x=Elec_nuclear))+ geom_histogram(aes(y=..density..),binwidth = 25)+geom_density(alpha=.1,col=\"blue\") \n",
    "g2 = ggplot(complete_energy,aes(x=SElec_nuclear))+ geom_histogram(aes(y=..density..),binwidth = 0.5)+geom_density(alpha=.1, col=\"blue\") \n",
    "\n",
    "grid.arrange(g1,g2,ncol=2)"
   ]
  },
  {
   "cell_type": "code",
   "execution_count": null,
   "id": "51c0d9cb-b7a7-413d-87ec-395cab357bd9",
   "metadata": {
    "tags": []
   },
   "outputs": [],
   "source": [
    "complete_energy[, \"SElec_renew\"] = log(1+complete_energy[, \"Elec_renew\"])\n",
    "\n",
    "g1 = ggplot(complete_energy,aes(x=Elec_renew))+ geom_histogram(aes(y=..density..),binwidth = 10)+geom_density(alpha=.1,col=\"blue\") \n",
    "g2 = ggplot(complete_energy,aes(x=SElec_renew))+ geom_histogram(aes(y=..density..),binwidth = 0.5)+geom_density(alpha=.1, col=\"blue\") \n",
    "\n",
    "grid.arrange(g1,g2,ncol=2)"
   ]
  },
  {
   "cell_type": "code",
   "execution_count": null,
   "id": "c12e26b0-3e24-4cd7-82d3-898fbd827284",
   "metadata": {
    "tags": []
   },
   "outputs": [],
   "source": [
    "complete_energy[, \"SLow_carbon\"] = sqrt(complete_energy[, \"Low_carbon\"])\n",
    "\n",
    "g1 = ggplot(complete_energy,aes(x=Low_carbon))+ geom_histogram(aes(y=..density..),binwidth = 5)+geom_density(alpha=.1,col=\"blue\") \n",
    "g2 = ggplot(complete_energy,aes(x=SLow_carbon))+ geom_histogram(aes(y=..density..),binwidth = 0.2)+geom_density(alpha=.1, col=\"blue\") \n",
    "\n",
    "grid.arrange(g1,g2,ncol=2)"
   ]
  },
  {
   "cell_type": "code",
   "execution_count": null,
   "id": "e0f19320-9a1c-43cf-9d06-33ee3f0f6b39",
   "metadata": {
    "tags": []
   },
   "outputs": [],
   "source": [
    "complete_energy[, \"SPrimary_energy\"] = log(complete_energy[, \"Primary_energy\"])\n",
    "\n",
    "g1 = ggplot(complete_energy,aes(x=Primary_energy))+ geom_histogram(aes(y=..density..),binwidth = 10000)+geom_density(alpha=.1,col=\"blue\") \n",
    "g2 = ggplot(complete_energy,aes(x=SPrimary_energy))+ geom_histogram(aes(y=..density..),binwidth = 0.2)+geom_density(alpha=.1, col=\"blue\") \n",
    "\n",
    "grid.arrange(g1,g2,ncol=2)"
   ]
  },
  {
   "cell_type": "code",
   "execution_count": null,
   "id": "d9ff2f5e-238b-4a3d-8227-a8cd324be761",
   "metadata": {
    "tags": []
   },
   "outputs": [],
   "source": [
    "complete_energy[, \"SEnergy_intensity\"] = log(complete_energy[, \"Energy_intensity\"])\n",
    "\n",
    "g1 = ggplot(complete_energy,aes(x=Energy_intensity))+ geom_histogram(aes(y=..density..),binwidth = 1)+geom_density(alpha=.1,col=\"blue\") \n",
    "g2 = ggplot(complete_energy,aes(x=SEnergy_intensity))+ geom_histogram(aes(y=..density..),binwidth = 0.2)+geom_density(alpha=.1, col=\"blue\") \n",
    "\n",
    "grid.arrange(g1,g2,ncol=2)"
   ]
  },
  {
   "cell_type": "code",
   "execution_count": null,
   "id": "3ae708b5-780a-4099-a653-38c5f6c36c9b",
   "metadata": {
    "tags": []
   },
   "outputs": [],
   "source": [
    "complete_energy[, \"Sgdp_capita\"] = log(sqrt(complete_energy[, \"gdp_capita\"]))\n",
    "\n",
    "g1 = ggplot(complete_energy,aes(x=gdp_capita))+ geom_histogram(aes(y=..density..),binwidth = 6000)+geom_density(alpha=.1,col=\"blue\") \n",
    "g2 = ggplot(complete_energy,aes(x=Sgdp_capita))+ geom_histogram(aes(y=..density..),binwidth = 0.2)+geom_density(alpha=.1, col=\"blue\") \n",
    "\n",
    "grid.arrange(g1,g2,ncol=2)"
   ]
  },
  {
   "cell_type": "code",
   "execution_count": null,
   "id": "10f7c530-b912-4cb9-9636-cb1344b432af",
   "metadata": {
    "tags": []
   },
   "outputs": [],
   "source": [
    "complete_energy[, \"SDensity\"] = log(complete_energy[, \"Density\"])\n",
    "\n",
    "g1 = ggplot(complete_energy,aes(x=Density))+ geom_histogram(aes(y=..density..),binwidth = 25)+geom_density(alpha=.1,col=\"blue\") \n",
    "g2 = ggplot(complete_energy,aes(x=SDensity))+ geom_histogram(aes(y=..density..),binwidth = 0.3)+geom_density(alpha=.1, col=\"blue\") \n",
    "\n",
    "grid.arrange(g1,g2,ncol=2)"
   ]
  },
  {
   "cell_type": "code",
   "execution_count": null,
   "id": "21e9bb1a-cf61-4b87-85fd-d75b81f50d34",
   "metadata": {
    "tags": []
   },
   "outputs": [],
   "source": [
    "complete_energy[, \"SLand_area\"] = log(complete_energy[, \"Land_area\"])\n",
    "\n",
    "g1 = ggplot(complete_energy,aes(x=Land_area))+ geom_histogram(aes(y=..density..),binwidth = 200000)+geom_density(alpha=.1,col=\"blue\") \n",
    "g2 = ggplot(complete_energy,aes(x=SLand_area))+ geom_histogram(aes(y=..density..),binwidth = 0.3)+geom_density(alpha=.1, col=\"blue\") \n",
    "\n",
    "grid.arrange(g1,g2,ncol=2)"
   ]
  },
  {
   "cell_type": "code",
   "execution_count": null,
   "id": "0efa73ae-6c34-43a9-9497-efd4990798b8",
   "metadata": {
    "tags": []
   },
   "outputs": [],
   "source": [
    "complete_energy[, \"SValue_co2\"] = log(complete_energy[, \"Value_co2\"])\n",
    "\n",
    "g1 = ggplot(complete_energy,aes(x=Value_co2))+ geom_histogram(aes(y=..density..),binwidth = 100000)+geom_density(alpha=.1,col=\"blue\") \n",
    "g2 = ggplot(complete_energy,aes(x=SValue_co2))+ geom_histogram(aes(y=..density..),binwidth = 0.3)+geom_density(alpha=.1, col=\"blue\") \n",
    "\n",
    "grid.arrange(g1,g2,ncol=2)"
   ]
  },
  {
   "cell_type": "code",
   "execution_count": null,
   "id": "072444bb-4e34-490a-b072-d9c3b1db6a58",
   "metadata": {
    "tags": []
   },
   "outputs": [],
   "source": [
    "# complete_energy[, \"SAccess_elec\"] = log(complete_energy[, \"Access_elec\"])\n",
    "\n",
    "# g1 = ggplot(complete_energy,aes(x=Access_elec))+ geom_histogram(aes(y=..density..),binwidth = 5)+geom_density(alpha=.1,col=\"blue\") \n",
    "# g2 = ggplot(complete_energy,aes(x=SAccess_elec))+ geom_histogram(aes(y=..density..),binwidth =0.3)+geom_density(alpha=.1, col=\"blue\") \n",
    "\n",
    "# grid.arrange(g1,g2,ncol=2)\n",
    "\n",
    "# #Pourquoi deux fois ? "
   ]
  },
  {
   "cell_type": "code",
   "execution_count": null,
   "id": "3d603eb7-c29b-4e82-9c08-bf3d4f781800",
   "metadata": {
    "tags": []
   },
   "outputs": [],
   "source": [
    "#for (i in 3:length(names(complete_energy))) {\n",
    "\n",
    "#complete_energy[, \"SAccess.to.electricity....of.population.\"] = log(complete_energy[, \"Access.to.electricity....of.population.\"])\n",
    "\n",
    "#g1 = ggplot(complete_energy,aes(x=Access.to.electricity....of.population.))+ geom_histogram(aes(y=..density..),binwidth = 5)+geom_density(alpha=.1,col=\"blue\") \n",
    "#g2 = ggplot(complete_energy,aes(x=SAccess.to.electricity....of.population.))+ geom_histogram(aes(y=..density..),binwidth = 0.2)+geom_density(alpha=.1, col=\"blue\") \n",
    "\n",
    "#grid.arrange(g1,g2,ncol=2)\n",
    "    \n",
    "#}"
   ]
  },
  {
   "cell_type": "code",
   "execution_count": null,
   "id": "05e93765-4f1e-44be-ba91-e1f32b1b1e9c",
   "metadata": {},
   "outputs": [],
   "source": [
    "#summary(complete_energy)"
   ]
  },
  {
   "cell_type": "code",
   "execution_count": null,
   "id": "268b285f-966b-433f-bdce-074db76b5e03",
   "metadata": {
    "tags": []
   },
   "outputs": [],
   "source": [
    "complete_energy = complete_energy[-c(3,4,5,6,7,8,9,10,11,14,15,16)]"
   ]
  },
  {
   "cell_type": "code",
   "execution_count": null,
   "id": "964d3f1c-ed27-4c01-bda9-88bbc7f1bf5f",
   "metadata": {
    "tags": []
   },
   "outputs": [],
   "source": [
    "summary(complete_energy)"
   ]
  },
  {
   "cell_type": "code",
   "execution_count": null,
   "id": "6f910650-982e-4f82-86e6-3d3c7e17fa22",
   "metadata": {
    "tags": []
   },
   "outputs": [],
   "source": [
    "boxplot(complete_energy[,-c(1,2)])"
   ]
  },
  {
   "cell_type": "markdown",
   "id": "55bc30a6-18e9-4583-a769-e79e07555b43",
   "metadata": {},
   "source": [
    "On affiche toutes les variables, mais comme elles n'ont pas la même échelle, c'est difficile à interpréter."
   ]
  },
  {
   "cell_type": "code",
   "execution_count": null,
   "id": "fe2a0cba-ab6c-4802-9198-4cc9bc947962",
   "metadata": {
    "tags": []
   },
   "outputs": [],
   "source": [
    "boxplot(complete_energy[,-c(1:6,11)])"
   ]
  },
  {
   "cell_type": "code",
   "execution_count": null,
   "id": "ae311f99-100c-4a82-b1c1-3f927afffaa2",
   "metadata": {
    "tags": []
   },
   "outputs": [],
   "source": [
    "boxplot(complete_energy[,c(5:6)])"
   ]
  },
  {
   "cell_type": "code",
   "execution_count": null,
   "id": "e95583c6",
   "metadata": {
    "tags": []
   },
   "outputs": [],
   "source": [
    "boxplot(complete_energy[,c(11)]) #nuclear"
   ]
  },
  {
   "cell_type": "code",
   "execution_count": null,
   "id": "6b666f15",
   "metadata": {
    "tags": []
   },
   "outputs": [],
   "source": [
    "boxplot(complete_energy[,c(4)]) #gdp growth"
   ]
  },
  {
   "cell_type": "markdown",
   "id": "ad169af2-64ba-497f-9478-eef4cdf766bd",
   "metadata": {
    "tags": []
   },
   "source": [
    "On ne regarde à présent que les variables transformée. L'échelle est meilleure"
   ]
  },
  {
   "cell_type": "markdown",
   "id": "c6bbdde5-4e57-447e-987e-faad50987e93",
   "metadata": {},
   "source": [
    "## Question 6 "
   ]
  },
  {
   "cell_type": "markdown",
   "id": "8b7e628b-e212-4735-9212-d64be1d7352b",
   "metadata": {},
   "source": [
    "### Analyse descriptive multidimensionnelle"
   ]
  },
  {
   "cell_type": "markdown",
   "id": "564c723a",
   "metadata": {},
   "source": [
    "#### Variable quantitative"
   ]
  },
  {
   "cell_type": "code",
   "execution_count": null,
   "id": "d9a9a3a6-8c79-4011-921c-56f53fabaa07",
   "metadata": {},
   "outputs": [],
   "source": [
    "numeric_energy =complete_energy[sapply(complete_energy, is.numeric)]\n",
    "mcor <- cor(numeric_energy)\n",
    "par(mfrow=c(1,1), mar=c(5,5,2,2))\n",
    "corrplot(mcor, order=\"hclust\", tl.col=\"black\")"
   ]
  },
  {
   "cell_type": "code",
   "execution_count": null,
   "id": "e2c4d110-5c5f-430d-8251-91852085b996",
   "metadata": {
    "tags": []
   },
   "outputs": [],
   "source": [
    "#par(mfrow = c(6,3) , mar = c(4,4,2,1))\n",
    "\n",
    "#for (i in 3:length(names(complete_energy))) {\n",
    " #   dfi = complete_energy[,c(2,i)]\n",
    "   # plot(dfi, main=names(complete_energy)[i],xlab='Values')\n",
    "#}"
   ]
  },
  {
   "cell_type": "markdown",
   "id": "6801feb5",
   "metadata": {},
   "source": [
    "#### Variable qualitative"
   ]
  },
  {
   "cell_type": "markdown",
   "id": "2f46da06",
   "metadata": {},
   "source": [
    "Pour cette étude, nous avons essayé plusieurs techniques pour visualiser nos données. Cependant nous avons pu remarquer que le nombre d'observations par pays n'est pas identique en fonction des années (voir graphique ci-dessous), ce qui ne rend pas forcément fiable nos exploitations.En effet, nous avons également essayé d'afficher des boxplots de l'ensemble des variables en fonction de Year, mais ce n'était pas très pertinent.   "
   ]
  },
  {
   "cell_type": "code",
   "execution_count": null,
   "id": "d2daa184",
   "metadata": {},
   "outputs": [],
   "source": [
    "quali= xtabs(~Year + Entity, data = complete_energy)\n",
    "mosaicplot(quali)"
   ]
  },
  {
   "cell_type": "markdown",
   "id": "f84cb7ba",
   "metadata": {},
   "source": [
    "## Question 8"
   ]
  },
  {
   "cell_type": "markdown",
   "id": "e1a06edf",
   "metadata": {},
   "source": [
    "### Dépendance entre Year et la variable à prédire"
   ]
  },
  {
   "cell_type": "code",
   "execution_count": null,
   "id": "003634be",
   "metadata": {},
   "outputs": [],
   "source": [
    "Moy = aggregate( Value_co2 ~ Year, data = complete_energy, FUN = mean)\n",
    "\n",
    "ggplot(Moy) + \n",
    "  aes(x = Year, y = Value_co2) + \n",
    "  geom_point() +\n",
    "  labs(x = \"Année\", y = \"Moyenne des émissions de CO2 (kt)\", title = \"Évolution moyenne des émissions de CO2 par année\")"
   ]
  },
  {
   "cell_type": "code",
   "execution_count": null,
   "id": "f7f5c88a",
   "metadata": {},
   "outputs": [],
   "source": [
    "Std = aggregate( Value_co2 ~ Year, data = complete_energy, FUN = sd )\n",
    "\n",
    "Median = aggregate( Value_co2 ~ Year, data = complete_energy, FUN = median )\n",
    "\n",
    "Stat = Moy\n",
    "Stat$std = Std$Value_co2\n",
    "Stat$median = Median$Value_co2\n",
    "\n",
    "names(Stat)[which(names(Stat) == \"Value_co2\")] = \"mean\"\n",
    "\n",
    "Stat"
   ]
  },
  {
   "cell_type": "markdown",
   "id": "447a8c22-bb07-47f5-8a46-c1f01b0264bb",
   "metadata": {},
   "source": [
    "## Question 7"
   ]
  },
  {
   "cell_type": "code",
   "execution_count": null,
   "id": "e6a8f11b",
   "metadata": {
    "tags": []
   },
   "outputs": [],
   "source": [
    "str(complete_energy)"
   ]
  },
  {
   "cell_type": "markdown",
   "id": "2c10c699-80b7-483b-8da1-02dab43e5ad5",
   "metadata": {},
   "source": [
    "### Analyse en composante principale"
   ]
  },
  {
   "cell_type": "code",
   "execution_count": null,
   "id": "09d1637c-be68-4664-8622-dd88fb22f6a6",
   "metadata": {
    "tags": []
   },
   "outputs": [],
   "source": [
    "energy_pca = scale(complete_energy[,-c(1,2,3)], center = TRUE, scale = TRUE)\n",
    "head(energy_pca)"
   ]
  },
  {
   "cell_type": "code",
   "execution_count": null,
   "id": "fe4e7e64-b081-4f4f-bd60-377629afb9ad",
   "metadata": {
    "tags": []
   },
   "outputs": [],
   "source": [
    "resultat_pca = PCA(energy_pca,ncp=16)\n",
    "get_eig(resultat_pca)"
   ]
  },
  {
   "cell_type": "code",
   "execution_count": null,
   "id": "0dfebb76-ad4d-4f3b-8041-c638e3e62b6c",
   "metadata": {
    "tags": []
   },
   "outputs": [],
   "source": [
    "fviz_screeplot(resultat_pca, addlabels=TRUE, ylim=c(0,40))"
   ]
  },
  {
   "cell_type": "markdown",
   "id": "541e01c7-5a94-4fe9-96b2-369f1cb89794",
   "metadata": {},
   "source": [
    "Nous pouvons en effet voir par cette ACP, que la première composante explique 34.3% des valeurs du energy set.La deuxième composante, elle représente 18.7%. Nous pourrions réduire notre dimension à 2 car avec ces deux-ci, nous expliquons pratiquement la moitié du energy set. Il faudrait ajouter 4 dimensions pour avoir 80% des valeurs expliquées. "
   ]
  },
  {
   "cell_type": "code",
   "execution_count": null,
   "id": "a170e29e",
   "metadata": {},
   "outputs": [],
   "source": [
    "boxplot(resultat_pca$ind$coord)"
   ]
  },
  {
   "cell_type": "code",
   "execution_count": null,
   "id": "0f0586de-52c6-4793-b97b-aaef1e27c94a",
   "metadata": {
    "tags": []
   },
   "outputs": [],
   "source": [
    "var=get_pca_var(resultat_pca)\n",
    "fviz_pca_var(resultat_pca,col.var= \"contrib\",gradient.cols=c(\"grey\", \"red\"))"
   ]
  },
  {
   "cell_type": "code",
   "execution_count": null,
   "id": "909495d5",
   "metadata": {},
   "outputs": [],
   "source": [
    "corrplot(resultat_pca$var$cor, is.corr=FALSE)"
   ]
  },
  {
   "cell_type": "markdown",
   "id": "be6464b8",
   "metadata": {},
   "source": [
    "Dim 1 : Corrélée positivement avec Access_to_Electricity, Access_Clean_Fuel, Primary_energy_consumption, gdp_per_capita / Négativement avec Renewable_share\n",
    "\n",
    "Dim 2 : Corrélée positivement Land_Area, Electricity_renewables\n",
    "\n",
    "Dim 4 : Corrélée positivement Density\n",
    "\n",
    "Dim 5 : Corrélée positivement gdp_growth\n",
    "\n",
    "Dim 6 Corrélée positivement Latitude"
   ]
  },
  {
   "cell_type": "markdown",
   "id": "4f6b18d2-98c8-4fc8-b6be-fd6529e997d9",
   "metadata": {},
   "source": [
    "# Modélisation"
   ]
  },
  {
   "cell_type": "code",
   "execution_count": null,
   "id": "078b183d-595a-4f93-82ab-169ca3baefbe",
   "metadata": {
    "tags": []
   },
   "outputs": [],
   "source": [
    "complete_energy$SElec_fossil = NULL\n",
    "complete_energy$Value_co2 = NULL"
   ]
  },
  {
   "cell_type": "markdown",
   "id": "14d17bc1-ac54-4c30-8206-d5ac92c85a5b",
   "metadata": {},
   "source": [
    "## Question 1"
   ]
  },
  {
   "cell_type": "markdown",
   "id": "89ccdb39-d8a0-41dc-a670-8bcabaec4b47",
   "metadata": {},
   "source": [
    "### Diviser échantillon d'apprentissage / de test"
   ]
  },
  {
   "cell_type": "code",
   "execution_count": null,
   "id": "5012f452-c83f-47af-b38a-1aa5105172a6",
   "metadata": {
    "tags": []
   },
   "outputs": [],
   "source": [
    "# Moy = aggregate(data=complete_energy,SValue_co2~Entity,FUN=mean)\n",
    "# index = order(Moy$SValue_co2, decreasing = TRUE )\n",
    "# Moy_classe = Moy[index,]\n",
    "# head(Moy_classe,10)\n",
    "# barplot(Moy[,2])"
   ]
  },
  {
   "cell_type": "code",
   "execution_count": null,
   "id": "eb682e52-19b2-4734-b529-f92842cd0181",
   "metadata": {
    "tags": []
   },
   "outputs": [],
   "source": [
    "# data_S = subset(complete_energy, SValue_co2 >13 )\n",
    "# data_S$Entity = as.factor (data_S$Entity)"
   ]
  },
  {
   "cell_type": "markdown",
   "id": "edcfca94-3146-463b-b335-630b96509800",
   "metadata": {},
   "source": [
    "Afin de réduire notre jeu de données, nous avons réduit l'étude sur des pays qui ont déjà une SValue_co2 supérieure à 13, nous travaillons donc sur les 11 pays les émetteurs, les plus impactants."
   ]
  },
  {
   "cell_type": "code",
   "execution_count": null,
   "id": "51fcb100-2d62-4718-97e3-9f997ce92d88",
   "metadata": {
    "tags": []
   },
   "outputs": [],
   "source": [
    "# str(data_S)"
   ]
  },
  {
   "cell_type": "code",
   "execution_count": null,
   "id": "6df1a088-fbe6-4f1c-8200-ff7b31fd7936",
   "metadata": {
    "tags": []
   },
   "outputs": [],
   "source": [
    "# data = data_S"
   ]
  },
  {
   "cell_type": "code",
   "execution_count": null,
   "id": "15c8e069-a154-4d20-a897-c614da9e5036",
   "metadata": {
    "tags": []
   },
   "outputs": [],
   "source": [
    "# str(data)"
   ]
  },
  {
   "cell_type": "code",
   "execution_count": null,
   "id": "7c803a7c-ae5b-4f10-9bd9-90c1bc23e8f9",
   "metadata": {
    "tags": []
   },
   "outputs": [],
   "source": [
    "set.seed(183) # initialisation du générateur\n",
    "\n",
    "# Extraction des échantillons\n",
    "test.ratio <- .2   # part de l'échantillon test\n",
    "npop <- nrow(complete_energy) # nombre de lignes dans les données\n",
    "nvar <- ncol(complete_energy) # nombre de colonnes\n",
    "\n",
    "# taille de l'échantillon test\n",
    "ntest <- ceiling(npop * test.ratio) \n",
    "\n",
    "# indices de l'échantillon test\n",
    "testi <- sample(1:npop, ntest)\n",
    "# indices de l'échantillon d'apprentissage\n",
    "appri <- setdiff(1:npop, testi) \n",
    "\n",
    "# construction de l'échantillon d'apprentissage\n",
    "datappr <-complete_energy[appri,] \n",
    "# construction de l'échantillon test\n",
    "datestr <- complete_energy[testi, ] \n",
    "\n",
    "# vérification\n",
    "str(datappr)\n",
    "str(datestr)\n",
    "#summary(datappr) "
   ]
  },
  {
   "cell_type": "markdown",
   "id": "664a4080-57dd-47fb-8a00-9107f6ba82cb",
   "metadata": {},
   "source": [
    "Nous avons ici créé nous échantillon test et notre échantillon d'apprentissage. Nous pourrons donc tester notre modèle sur des données encore non traitées et éviter le surajustement. "
   ]
  },
  {
   "cell_type": "code",
   "execution_count": null,
   "id": "c838ca5c-aede-4dd8-84be-e19b7635c3c7",
   "metadata": {
    "tags": []
   },
   "outputs": [],
   "source": [
    "gplot.res <- function(x, y, titre = \"titre\"){\n",
    "    ggplot(data.frame(x=x, y=y),aes(x,y))+\n",
    "    geom_point(col = \"blue\")+xlim(2, 17)+ylim(-0.8, 2)+\n",
    "    ylab(\"Résidus\")+ xlab(\"Valeurs prédites\")+\n",
    "    ggtitle(titre)+\n",
    "    geom_hline(yintercept = 0,col=\"green\")\n",
    "}"
   ]
  },
  {
   "cell_type": "markdown",
   "id": "760cf2dd-dfff-4c45-9f21-e5860a23ebcd",
   "metadata": {},
   "source": [
    "## Question 2"
   ]
  },
  {
   "cell_type": "markdown",
   "id": "b91d711e-91b1-4d36-8aa4-5fd25e8f6651",
   "metadata": {},
   "source": [
    "### Modèle linéaire"
   ]
  },
  {
   "cell_type": "markdown",
   "id": "f54d3d47-f66f-4c28-9c93-ae57407dea9a",
   "metadata": {},
   "source": [
    "#### Sans sélection de variable"
   ]
  },
  {
   "cell_type": "markdown",
   "id": "9b668d15",
   "metadata": {},
   "source": [
    "###### Sur données apprentissage"
   ]
  },
  {
   "cell_type": "code",
   "execution_count": null,
   "id": "3324426f-996e-4619-9b72-d4f3cc5e29e9",
   "metadata": {
    "tags": []
   },
   "outputs": [],
   "source": [
    "# estimation du modèle sans interaction\n",
    "reg.lm <-lm(SValue_co2 ~ ., data = datappr)\n",
    "# Extraction des résidus et des valeurs ajustées de ce modèle\n",
    "res.lm <- reg.lm$residuals\n",
    "fit.lm <- reg.lm$fitted.values\n",
    "# MSE_rl = mean((datappr$SValue_co2 - fit.lm)^2)\n",
    "# paste(\"MSE =\", MSE_rl)\n",
    "\n",
    "# Calculer le coefficient de détermination R² (R2 score)\n",
    "\n",
    "SS_Residual <- sum((datappr$SValue_co2 - fit.lm)^2)\n",
    "SS_Total <- sum((datappr$SValue_co2 - mean(datappr$SValue_co2))^2)\n",
    "R2_rl <- 1 - (SS_Residual / SS_Total)\n",
    "paste(\"R2 =\", R2_rl)\n",
    "\n",
    "plot(fit.lm,datappr$SValue_co2)"
   ]
  },
  {
   "cell_type": "code",
   "execution_count": null,
   "id": "6a300377-f7ed-44bc-9e52-701d443c2f26",
   "metadata": {
    "tags": []
   },
   "outputs": [],
   "source": [
    "\n",
    "gplot.res(fit.lm,res.lm,\"ANCOVA sans sélection de variables\")\n"
   ]
  },
  {
   "cell_type": "code",
   "execution_count": null,
   "id": "4f8a1031-7767-43f8-96ae-1172a980018e",
   "metadata": {
    "tags": []
   },
   "outputs": [],
   "source": [
    "qqnorm(res.lm , pch = 1, frame = FALSE)\n",
    "qqline(res.lm , col = \"steelblue\", lwd = 2)"
   ]
  },
  {
   "cell_type": "markdown",
   "id": "89631c50-a497-4907-a790-7f7f92cd3464",
   "metadata": {},
   "source": [
    "Ici nous remarquons que le MSE dans le cas du modèle linéaire est très faible, voire null. Plus ce dernier est petit, plus la performance du modèle est bonne. Cela signifie que les prédictions sont plus proches des valeurs réelles.\n",
    "Le coefficient de détermination, quant à lui, est très proche de 1. Plus il est proche de 1, meilleure est l'ajustement du modèle et l'explication de la variance des données."
   ]
  },
  {
   "cell_type": "code",
   "execution_count": null,
   "id": "24c6e949-7b5b-4636-ba30-0ad56243d6af",
   "metadata": {
    "tags": []
   },
   "outputs": [],
   "source": [
    "summary(reg.lm)\n",
    "print(reg.lm)\n",
    "str(datappr)"
   ]
  },
  {
   "cell_type": "markdown",
   "id": "4554d1d2-a1a7-410d-a3d8-fe7a50031092",
   "metadata": {},
   "source": [
    "**Le test de nullité des paramètres montre que les variables gdp_growth, Electricity from nuclear et Electricity from renewables, pris individuellement, n'ont pas un effet significatif sur la quantité de CO2 émise par un pays au niveau 5%. Ces variables peuvent donc être enlevées du modèle séparément**"
   ]
  },
  {
   "cell_type": "markdown",
   "id": "eed45f6f",
   "metadata": {},
   "source": [
    "###### Sur données test"
   ]
  },
  {
   "cell_type": "code",
   "execution_count": null,
   "id": "76905480-1ba6-49f8-ab64-5bc06e30e1c6",
   "metadata": {
    "tags": []
   },
   "outputs": [],
   "source": [
    "# pred.aic=predict(reg.glm.step,newdata=datestr)\n",
    "# # Erreur quadratique moyenne de prévision\n",
    "# sum((pred.aic-datestr[,\"SValue_co2\"])^2)/nrow(datestr)\n",
    "# err.aic=pred.aic-datestr[,\"SValue_co2\"]\n",
    "# gplot.res(pred.aic,err.aic,titre=\"\")\n",
    "# plot(pred.aic,datestr$SValue_co2)"
   ]
  },
  {
   "cell_type": "markdown",
   "id": "59642e4c-d642-49a8-af84-df985519c32a",
   "metadata": {},
   "source": [
    "## Modèle avec interactions"
   ]
  },
  {
   "cell_type": "code",
   "execution_count": null,
   "id": "fec5013d-b383-4394-bac1-0da3471f10c9",
   "metadata": {
    "tags": []
   },
   "outputs": [],
   "source": [
    "# estimation du modèle sans interaction\n",
    "reg.lm <-aov(SValue_co2 ~ .^2, data = datappr)\n",
    "# Extraction des résidus et des valeurs ajustées de ce modèle\n",
    "res.lm <- reg.lm$residuals\n",
    "fit.lm <- reg.lm$fitted.values\n",
    "# MSE_rl = mean((datappr$SValue_co2 - fit.lm)^2)\n",
    "# paste(\"MSE =\", MSE_rl)\n",
    "\n",
    "# Calculer le coefficient de détermination R² (R2 score)\n",
    "\n",
    "SS_Residual <- sum((datappr$SValue_co2 - fit.lm)^2)\n",
    "SS_Total <- sum((datappr$SValue_co2 - mean(datappr$SValue_co2))^2)\n",
    "R2_rl <- 1 - (SS_Residual / SS_Total)\n",
    "paste(\"R2 =\", R2_rl)\n",
    "\n",
    "plot(fit.lm,datappr$SValue_co2)"
   ]
  },
  {
   "cell_type": "markdown",
   "id": "306f59c6-fec1-481e-83f9-49785d708b12",
   "metadata": {},
   "source": [
    "**Le modèle avec interactions entre les variables surajuste les données c'est à dire qu'il s'adapte trop bien à nos données d'entrainement. En prenant en compte toutes les interactions, nous obtenons un modèle difficile à interpreter et avec un grand nombre de variables. Nous allons donc faire une sélection de variables avec le critère BIC pénalisant les modèles complexes.\n",
    "Nous avons fait le choix de ce critère car c'est celui qui pénalise le plus la dimension du modèle. Ainsi, il favorise les modèles qui expliquent efficacement les données tout en restant aussi simples que possible.** "
   ]
  },
  {
   "cell_type": "markdown",
   "id": "87cbe357-95b0-44b5-b77f-a1b7414fb3e2",
   "metadata": {},
   "source": [
    "#### Avec sélection de variable (BIC)"
   ]
  },
  {
   "cell_type": "markdown",
   "id": "c198113e-ab04-465a-8e27-417ced34fc0f",
   "metadata": {},
   "source": [
    "Le BIC, ou critère d'information bayésien, vise à choisir le modèle le plus adéquat parmi plusieurs candidats en évaluant la balance entre l'ajustement aux données et la complexité du modèle. Il pénalise les modèles plus complexes pour éviter le sur-ajustement, tout en favorisant ceux qui expliquent efficacement les données. En résumé, le BIC permet une sélection automatique des modèles les mieux adaptés en considérant à la fois leur performance et leur complexité."
   ]
  },
  {
   "cell_type": "markdown",
   "id": "1d0cbba5-0ff7-4f15-8064-f8f0db5d1bcb",
   "metadata": {},
   "source": [
    "###### Données apprentissage"
   ]
  },
  {
   "cell_type": "code",
   "execution_count": null,
   "id": "f84ecdf1-f620-447b-b153-1bef5916f43e",
   "metadata": {
    "tags": []
   },
   "outputs": [],
   "source": [
    "reg.glm <- glm(SValue_co2 ~ ., data = datappr)\n",
    "# Recherche du meilleur modèle au sens \n",
    "# du critère d'Akaïke par méthode descendante\n",
    "reg.glm.step <- stepAIC(reg.glm, direction = \"backward\",k = log(nrow(datestr)), trace = 0)"
   ]
  },
  {
   "cell_type": "code",
   "execution_count": null,
   "id": "a3dd4de5",
   "metadata": {
    "tags": []
   },
   "outputs": [],
   "source": [
    "fit.bic=reg.glm.step$fitted\n",
    "res.bic=fit.bic-datappr[,\"SValue_co2\"]\n",
    "gplot.res(fit.bic,res.bic,titre=\"Ancova avec sélection de variables\")"
   ]
  },
  {
   "cell_type": "code",
   "execution_count": null,
   "id": "0a6e17e3",
   "metadata": {
    "tags": []
   },
   "outputs": [],
   "source": [
    "plot(fit.bic,datappr$SValue_co2)"
   ]
  },
  {
   "cell_type": "code",
   "execution_count": null,
   "id": "7dd1651b",
   "metadata": {
    "tags": []
   },
   "outputs": [],
   "source": [
    "#as.data.frame(reg.glm.step$coefficients) pour la question d'après"
   ]
  },
  {
   "cell_type": "code",
   "execution_count": null,
   "id": "5f944201-6397-4cb1-8a16-a53c64edcfd9",
   "metadata": {
    "tags": []
   },
   "outputs": [],
   "source": [
    "anova(reg.glm.step, test = \"F\")"
   ]
  },
  {
   "cell_type": "markdown",
   "id": "fd285973",
   "metadata": {},
   "source": [
    "###### MSE et R2"
   ]
  },
  {
   "cell_type": "code",
   "execution_count": null,
   "id": "644b8f74",
   "metadata": {
    "tags": []
   },
   "outputs": [],
   "source": [
    "# MSE_aic = mean((datappr$SValue_co2 - fit.aic)^2)\n",
    "# paste(\"MSE =\", MSE_aic)\n",
    "\n",
    "# Calculer le coefficient de détermination R² (R2 score)\n",
    "\n",
    "SS_Residual <- sum((datappr$SValue_co2 - fit.bic)^2)\n",
    "SS_Total <- sum((datappr$SValue_co2 - mean(datappr$SValue_co2))^2)\n",
    "R2_bic <- 1 - (SS_Residual / SS_Total)\n",
    "paste(\"R2 =\", R2_bic)"
   ]
  },
  {
   "cell_type": "markdown",
   "id": "6d297680",
   "metadata": {},
   "source": [
    "###### Données tests"
   ]
  },
  {
   "cell_type": "code",
   "execution_count": null,
   "id": "d192cffe",
   "metadata": {},
   "outputs": [],
   "source": [
    "# pred.lm=predict(reg.lm,newdata=datestr)\n",
    "# # Erreur quadratique moyenne de prévision\n",
    "# sum((pred.lm-datestr[,\"SValue_co2\"])^2)/nrow(datestr)\n",
    "# err.lm=pred.lm-datestr[,\"SValue_co2\"]\n",
    "# gplot.res(pred.lm,err.lm,titre=\"\")\n",
    "# plot(pred.lm,datestr$SValue_co2)"
   ]
  },
  {
   "cell_type": "markdown",
   "id": "717a63b4-6f3e-4bda-a88f-ea67d5b5bdd8",
   "metadata": {},
   "source": [
    "#### Avec sélection de variable (LASSO)"
   ]
  },
  {
   "cell_type": "markdown",
   "id": "d03a63af-07ff-41ae-bcad-06b2d410cccd",
   "metadata": {},
   "source": [
    "Etudions notre modèle selon le critère LASSO.\n",
    "\n",
    "\n",
    "Le but du LASSO est de trouver un modèle qui minimise l'erreur de prédiction tout en contrôlant la taille des coefficients des variables explicatives. En imposant une pénalité sur la somme des valeurs absolues des coefficients, le LASSO favorise des solutions où certains coefficients sont réduits à zéro. En conséquence, il permet non seulement de prédire avec précision, mais aussi de sélectionner les variables les plus importantes pour la prédiction, ce qui réduit automatiquement la complexité du modèle en excluant les variables moins significatives."
   ]
  },
  {
   "cell_type": "markdown",
   "id": "015ef4c7",
   "metadata": {},
   "source": [
    "###### Données apprentissage"
   ]
  },
  {
   "cell_type": "code",
   "execution_count": null,
   "id": "70f3c7d9-0c2f-4507-becc-6344cd46a741",
   "metadata": {
    "tags": []
   },
   "outputs": [],
   "source": [
    "# Dans glmnet, le 17 correspond à l'indice de notre SvalueCo2 qu'il faut mettr en y ( variable à prédire) et pas dans x.\n",
    "# Il faudra aussi enlever les factors ( entity et year )\n",
    "# avec toutes les variables, créer d'abord la matrice d'expériences \n",
    "# avec 'model.matrix' (penser à retirer l'intercept du modèle)\n",
    "x.mat <- model.matrix(SValue_co2 ~ .-1, data = datappr)\n",
    "reg.lasso <- glmnet(y = datappr$SValue_co2, x = x.mat)\n",
    "options(repr.plot.width = 12, repr.plot.height = 10)\n",
    "plot(reg.lasso, xvar = \"lambda\", label = TRUE)\n",
    "#legend(\"topright\", legend = paste(1:ncol(x.mat), \" - \", colnames(x.mat)))\n",
    "\n",
    "\n",
    "\n",
    "head(x.mat)"
   ]
  },
  {
   "cell_type": "markdown",
   "id": "ce1ed614-019c-4693-858a-2fac3fd6c5d9",
   "metadata": {},
   "source": [
    "##### Choix optimal de l'hyperparamètre"
   ]
  },
  {
   "cell_type": "code",
   "execution_count": null,
   "id": "6c594cb9-8d96-41b4-b875-b16b0d048502",
   "metadata": {
    "tags": []
   },
   "outputs": [],
   "source": [
    "reg.lasso.cv <- cv.glmnet(y = datappr[, 17], x = x.mat)\n",
    "plot(reg.lasso.cv)"
   ]
  },
  {
   "cell_type": "markdown",
   "id": "c5fdfffb-8700-4cde-9335-a1baf0e134bd",
   "metadata": {},
   "source": [
    "On a le choix entre lambda min et lambda 1se. Au vue du nombre de variables conséquentes que nous avons, il est pertinent d'en supprimer un max donc on prend 1se"
   ]
  },
  {
   "cell_type": "code",
   "execution_count": null,
   "id": "93a4f36a-290c-42f2-a35f-50b20740e381",
   "metadata": {
    "tags": []
   },
   "outputs": [],
   "source": [
    "paste(\"CV estimate of lambda :\", round(reg.lasso.cv$lambda.1se, 3))\n",
    "# modèle correspondant\n",
    "coef(reg.lasso.cv, s = \"lambda.1se\")"
   ]
  },
  {
   "cell_type": "code",
   "execution_count": null,
   "id": "d9a61f05-0aaf-47d1-a229-e8c009bf7038",
   "metadata": {
    "tags": []
   },
   "outputs": [],
   "source": [
    "Coef = as.data.frame(as.matrix(coef(reg.lasso.cv, s = \"lambda.1se\")))\n",
    "Coef"
   ]
  },
  {
   "cell_type": "code",
   "execution_count": null,
   "id": "b803afc1-3c7b-4f71-b2b3-912ba588c5e5",
   "metadata": {
    "tags": []
   },
   "outputs": [],
   "source": [
    "plot(reg.lasso, xvar = \"lambda\", label = TRUE,xlim=c(-6,-5),ylim=c(-1,2))\n",
    "abline(v=log(reg.lasso.cv$lambda.1se),col=\"red\")"
   ]
  },
  {
   "cell_type": "code",
   "execution_count": null,
   "id": "7bf522cc-19f9-4c30-b9c0-5a4fc98b63ad",
   "metadata": {
    "tags": []
   },
   "outputs": [],
   "source": [
    "fit.lasso.1se <- predict(reg.lasso.cv, s = \"lambda.1se\", newx = x.mat)\n",
    "res.lasso.1se <- datappr$SValue_co2 - fit.lasso.1se "
   ]
  },
  {
   "cell_type": "code",
   "execution_count": null,
   "id": "cbbe988d-5d69-4aa6-93f6-6ec4fe48429b",
   "metadata": {
    "tags": []
   },
   "outputs": [],
   "source": [
    "plot(fit.lasso.1se,datappr$SValue_co2)"
   ]
  },
  {
   "cell_type": "markdown",
   "id": "0b2250ad-6997-425c-9833-b14c64f16092",
   "metadata": {},
   "source": [
    "##### Graphe des résidus"
   ]
  },
  {
   "cell_type": "code",
   "execution_count": null,
   "id": "f44d6ea8-4a60-4cad-b6a0-0e1dd60fbe65",
   "metadata": {
    "tags": []
   },
   "outputs": [],
   "source": [
    "gplot.res(fit.lasso.1se,res.lasso.1se,\"Résidus avec sélection de variables lasso\")"
   ]
  },
  {
   "cell_type": "markdown",
   "id": "e3bad668-d402-4b48-8e42-f4e5fb688700",
   "metadata": {},
   "source": [
    "##### MSE et R²"
   ]
  },
  {
   "cell_type": "code",
   "execution_count": null,
   "id": "83ab7e88-0489-44c2-98d0-f111c60ef53d",
   "metadata": {
    "tags": []
   },
   "outputs": [],
   "source": [
    "MSE_lse = mean((datappr$SValue_co2 - fit.lasso.1se)^2)\n",
    "paste(\"MSE =\", MSE_lse)\n",
    "\n",
    "# Calculer le coefficient de détermination R² (R2 score)\n",
    "\n",
    "SS_Residual <- sum((datappr$SValue_co2 - fit.lasso.1se)^2)\n",
    "SS_Total <- sum((datappr$SValue_co2 - mean(datappr$SValue_co2))^2)\n",
    "R2_lse <- 1 - (SS_Residual / SS_Total)\n",
    "paste(\"R2 =\", R2_lse)"
   ]
  },
  {
   "cell_type": "markdown",
   "id": "b9c57903",
   "metadata": {},
   "source": [
    "###### Données tests"
   ]
  },
  {
   "cell_type": "code",
   "execution_count": null,
   "id": "9fd00d4d",
   "metadata": {},
   "outputs": [],
   "source": [
    "#pred.lse=predict(reg.lasso.cv,newdata=datestr)\n",
    "# Erreur quadratique moyenne de prévision\n",
    "#sum((pred.lse-datestr[,\"SValue_co2\"])^2)/nrow(datestr)\n",
    "#err.lse=pred.lse-datestr[,\"SValue_co2\"]\n",
    "#gplot.res(pred.lse,err.lse,titre=\"\")\n",
    "#plot(pred.lse,datestr$SValue_co2)"
   ]
  },
  {
   "cell_type": "markdown",
   "id": "1359399f",
   "metadata": {},
   "source": [
    "### SVM"
   ]
  },
  {
   "cell_type": "markdown",
   "id": "61e15ae7-8c40-46b1-b45f-733b610115d4",
   "metadata": {},
   "source": [
    "###### Données apprentissage"
   ]
  },
  {
   "cell_type": "code",
   "execution_count": null,
   "id": "cdaf5b43-5a1e-4407-8552-11f072f9fb29",
   "metadata": {
    "tags": []
   },
   "outputs": [],
   "source": [
    "svm.reg0 = svm(SValue_co2 ~ ., data = datappr)\n",
    "summary(svm.reg0)"
   ]
  },
  {
   "cell_type": "markdown",
   "id": "6518214f-a9dd-47c4-acd8-4420cd73f581",
   "metadata": {},
   "source": [
    "#### Choix du meilleur noyau SVM"
   ]
  },
  {
   "cell_type": "code",
   "execution_count": null,
   "id": "46fd87ae-96cb-4077-9193-1c97ff3799fe",
   "metadata": {
    "tags": []
   },
   "outputs": [],
   "source": [
    "param = list(kernel = c(\"linear\", \"polynomial\", \"radial\", \"sigmoid\"),\n",
    "            cost = c(0.4, 0.5, 0.6, 0.8, 1, 1.4, 2))\n",
    "\n",
    "svm.reg.tune = tune(svm,SValue_co2 ~ ., data = datappr, ranges = param)\n",
    "\n",
    "svm.reg.tune"
   ]
  },
  {
   "cell_type": "code",
   "execution_count": null,
   "id": "875691e2-9082-4d98-ac9e-aa2738e2ddd6",
   "metadata": {
    "tags": []
   },
   "outputs": [],
   "source": [
    "#set.seed(2021)\n",
    "\n",
    "\n",
    "svm.reg = svm(SValue_co2~ ., data = datappr, cost = svm.reg.tune$best.parameters$cost, \n",
    "    kernel = svm.reg.tune$best.parameters$kernel)\n",
    "summary(svm.reg)"
   ]
  },
  {
   "cell_type": "markdown",
   "id": "32deff5a-76e6-42a4-a151-dc713ff2f772",
   "metadata": {},
   "source": [
    "#### Résidus"
   ]
  },
  {
   "cell_type": "code",
   "execution_count": null,
   "id": "59c82dbe-afb6-48dc-a479-19ab3db0759d",
   "metadata": {
    "tags": []
   },
   "outputs": [],
   "source": [
    "fit.svmr=svm.reg$fitted\n",
    "res.svmr=fit.svmr-datappr[,\"SValue_co2\"]\n",
    "gplot.res(fit.svmr,res.svmr,titre=\"\")"
   ]
  },
  {
   "cell_type": "markdown",
   "id": "5c5aa580-999d-423a-a739-e2906fa8cd7d",
   "metadata": {},
   "source": [
    "Nous visualisons bien un tube sur le grpahe des résidus, caractéristique de la méthode SVM."
   ]
  },
  {
   "cell_type": "code",
   "execution_count": null,
   "id": "7dd7a01a-9e88-4a99-9a52-c75fd6969d90",
   "metadata": {
    "tags": []
   },
   "outputs": [],
   "source": [
    "plot(fit.svmr,datappr$SValue_co2)"
   ]
  },
  {
   "cell_type": "markdown",
   "id": "5aab38c5",
   "metadata": {},
   "source": [
    "###### MSE et R2"
   ]
  },
  {
   "cell_type": "code",
   "execution_count": null,
   "id": "ecfdf70c",
   "metadata": {},
   "outputs": [],
   "source": [
    "MSE_svm = mean((datappr$SValue_co2 - fit.svmr)^2)\n",
    "paste(\"MSE =\", MSE_svm)\n",
    "\n",
    "# Calculer le coefficient de détermination R² (R2 score)\n",
    "\n",
    "SS_Residual <- sum((datappr$SValue_co2 - fit.svmr)^2)\n",
    "SS_Total <- sum((datappr$SValue_co2 - mean(datappr$SValue_co2))^2)\n",
    "R2_svm <- 1 - (SS_Residual / SS_Total)\n",
    "paste(\"R2 =\", R2_svm)"
   ]
  },
  {
   "cell_type": "markdown",
   "id": "304c5862",
   "metadata": {},
   "source": [
    "###### Données tests"
   ]
  },
  {
   "cell_type": "code",
   "execution_count": null,
   "id": "fbf45bd5",
   "metadata": {},
   "outputs": [],
   "source": [
    "pred.svm=predict(svm.reg,newdata=datestr)\n",
    "# Erreur quadratique moyenne de prévision\n",
    "sum((pred.svm-datestr[,\"SValue_co2\"])^2)/nrow(datestr)\n",
    "err.svm=pred.svm-datestr[,\"SValue_co2\"]\n",
    "gplot.res(pred.svm,err.svm,titre=\"\")\n",
    "plot(pred.svm,datestr$SValue_co2)"
   ]
  },
  {
   "cell_type": "markdown",
   "id": "dd93f98b-23a9-46b9-b973-1cd80a09aff4",
   "metadata": {},
   "source": [
    "### Arbre"
   ]
  },
  {
   "cell_type": "markdown",
   "id": "7ea39bd8",
   "metadata": {},
   "source": [
    "###### Données apprentissage"
   ]
  },
  {
   "cell_type": "code",
   "execution_count": null,
   "id": "d8ae3e21-efa6-48ca-8b94-de6cd571d46d",
   "metadata": {
    "tags": []
   },
   "outputs": [],
   "source": [
    "tree.reg=rpart(SValue_co2~.,data=datappr,control=rpart.control(cp=0.001))"
   ]
  },
  {
   "cell_type": "code",
   "execution_count": null,
   "id": "1d76081d-3cfc-45d3-837a-266da52a1690",
   "metadata": {
    "tags": []
   },
   "outputs": [],
   "source": [
    "library(rpart.plot)\n",
    "options(repr.plot.width = 15, repr.plot.height = 10)\n",
    "rpart.plot(tree.reg)"
   ]
  },
  {
   "cell_type": "code",
   "execution_count": null,
   "id": "04121e80-e59b-4ad2-84e7-23af0031e033",
   "metadata": {
    "tags": []
   },
   "outputs": [],
   "source": [
    "xmat<-xpred.rpart(tree.reg,xval=10) \n",
    "# one row for each observation and one column for each complexity value\n",
    "\n",
    "# Cross-validation error par valeur de CP\n",
    "CVerr<-apply((xmat-datappr[,\"SValue_co2\"])^2,2,sum)\n",
    "\n",
    "plotcp(tree.reg)"
   ]
  },
  {
   "cell_type": "code",
   "execution_count": null,
   "id": "984ee9bb-3e4e-4e0b-8477-239fc0aa5e67",
   "metadata": {
    "tags": []
   },
   "outputs": [],
   "source": [
    "as.numeric(attributes(which.min(CVerr))$names)\n",
    "tree.reg=rpart(SValue_co2~.,data=datappr,control=rpart.control(cp=as.numeric(attributes(which.min(CVerr))$names)))\n",
    "rpart.plot(tree.reg,type=5,extra=101)"
   ]
  },
  {
   "cell_type": "code",
   "execution_count": null,
   "id": "749449f4-1317-4c30-8d47-7d91c6243d6a",
   "metadata": {
    "tags": []
   },
   "outputs": [],
   "source": [
    "library(partykit)\n",
    "plot(as.party(tree.reg), type=\"simple\")"
   ]
  },
  {
   "cell_type": "code",
   "execution_count": null,
   "id": "8d2fedbe-265d-4986-8ffe-90ef15d32a3d",
   "metadata": {
    "tags": []
   },
   "outputs": [],
   "source": [
    "fit.tree=predict(tree.reg)\n",
    "res.tree=fit.tree-datappr[,\"SValue_co2\"]\n",
    "\n",
    "options(repr.plot.width = 12, repr.plot.height = 10)\n",
    "par(mfrow = c(1, 3))\n",
    "ggplot(data.frame(residuals = res.tree, predicted = fit.tree), aes(x = predicted, y = residuals)) +\n",
    "  geom_point() +\n",
    "  geom_hline(yintercept = 0 ,color = \"red\") +\n",
    "  ggtitle(\"Tree\")"
   ]
  },
  {
   "cell_type": "code",
   "execution_count": null,
   "id": "26aa386d-f326-4f40-87b2-4e979e5989b4",
   "metadata": {
    "tags": []
   },
   "outputs": [],
   "source": [
    "plot(fit.tree,datappr$SValue_co2)"
   ]
  },
  {
   "cell_type": "markdown",
   "id": "c4f2d7fc",
   "metadata": {},
   "source": [
    "###### MSE et R2"
   ]
  },
  {
   "cell_type": "code",
   "execution_count": null,
   "id": "048f7714",
   "metadata": {},
   "outputs": [],
   "source": [
    "MSE_a = mean((datappr$SValue_co2 - fit.tree)^2)\n",
    "paste(\"MSE =\", MSE_a)\n",
    "\n",
    "# Calculer le coefficient de détermination R² (R2 score)\n",
    "\n",
    "SS_Residual <- sum((datappr$SValue_co2 - fit.tree)^2)\n",
    "SS_Total <- sum((datappr$SValue_co2 - mean(datappr$SValue_co2))^2)\n",
    "R2_a <- 1 - (SS_Residual / SS_Total)\n",
    "paste(\"R2 =\", R2_a)"
   ]
  },
  {
   "cell_type": "markdown",
   "id": "1df49bba",
   "metadata": {},
   "source": [
    "###### Données tests"
   ]
  },
  {
   "cell_type": "code",
   "execution_count": 108,
   "id": "bf83e686",
   "metadata": {},
   "outputs": [
    {
     "data": {
      "text/html": [
       "0.118966370077472"
      ],
      "text/latex": [
       "0.118966370077472"
      ],
      "text/markdown": [
       "0.118966370077472"
      ],
      "text/plain": [
       "[1] 0.1189664"
      ]
     },
     "metadata": {},
     "output_type": "display_data"
    },
    {
     "name": "stderr",
     "output_type": "stream",
     "text": [
      "Warning message:\n",
      "\"\u001b[1m\u001b[22mRemoved 6 rows containing missing values or values outside the scale range (`geom_point()`).\"\n"
     ]
    },
    {
     "data": {
      "image/png": "[encoded data removed]",
      "text/plain": [
       "plot without title"
      ]
     },
     "metadata": {
      "image/png": {
       "height": 600,
       "width": 720
      }
     },
     "output_type": "display_data"
    },
    {
     "data": {
      "image/png": "[encoded data removed]",
      "text/plain": [
       "plot without title"
      ]
     },
     "metadata": {
      "image/png": {
       "height": 600,
       "width": 720
      }
     },
     "output_type": "display_data"
    }
   ],
   "source": [
    "pred.tree=predict(tree.reg,newdata=datestr)\n",
    "# Erreur quadratique moyenne de prévision\n",
    "sum((pred.tree-datestr[,\"SValue_co2\"])^2)/nrow(datestr)\n",
    "err.tree=pred.tree-datestr[,\"SValue_co2\"]\n",
    "gplot.res(pred.tree,err.tree,titre=\"\")\n",
    "plot(pred.tree,datestr$SValue_co2)"
   ]
  },
  {
   "cell_type": "markdown",
   "id": "43992d5c-e2a7-4fe8-98b2-30c745a0193f",
   "metadata": {},
   "source": [
    "### Random Forest"
   ]
  },
  {
   "cell_type": "markdown",
   "id": "316de224",
   "metadata": {},
   "source": [
    "###### Données apprentissage"
   ]
  },
  {
   "cell_type": "code",
   "execution_count": 125,
   "id": "94e8d968-e93b-4699-aaae-4a8c9ac1a485",
   "metadata": {
    "tags": []
   },
   "outputs": [
    {
     "ename": "ERROR",
     "evalue": "Error in randomForest.default(m, y, ...): Can not handle categorical predictors with more than 53 categories.\n",
     "output_type": "error",
     "traceback": [
      "Error in randomForest.default(m, y, ...): Can not handle categorical predictors with more than 53 categories.\nTraceback:\n",
      "1. randomForest(SValue_co2 ~ ., data = datappr, xtest = datestr[, \n .     -17], ytest = datestr[, \"SValue_co2\"], ntree = 500, do.trace = 50, \n .     importance = TRUE)",
      "2. randomForest.formula(SValue_co2 ~ ., data = datappr, xtest = datestr[, \n .     -17], ytest = datestr[, \"SValue_co2\"], ntree = 500, do.trace = 50, \n .     importance = TRUE)",
      "3. randomForest.default(m, y, ...)",
      "4. stop(\"Can not handle categorical predictors with more than 53 categories.\")"
     ]
    }
   ],
   "source": [
    "temps_debut <- Sys.time()\n",
    "rf.reg=randomForest(SValue_co2~., data=datappr,xtest=datestr[,-17],ytest=datestr[,\"SValue_co2\"],\n",
    "   ntree=500,do.trace=50,importance=TRUE)\n",
    "temps_fin <- Sys.time()\n",
    "temps_rf <- temps_fin - temps_debut\n",
    "attributes(rf.reg)\n",
    "rf.reg$mtry"
   ]
  },
  {
   "cell_type": "code",
   "execution_count": null,
   "id": "ce3177d0-d61d-4c31-a08b-2b4a1546f54d",
   "metadata": {
    "tags": []
   },
   "outputs": [],
   "source": [
    "fit.rfr=rf.reg$predicted\n",
    "res.rfr=fit.rfr-datappr[,\"SValue_co2\"]\n",
    "gplot.res(fit.rfr,res.rfr,titre=\"\")"
   ]
  },
  {
   "cell_type": "code",
   "execution_count": null,
   "id": "5f727f67-34d0-45d2-a4b3-a96ef6f6479d",
   "metadata": {},
   "outputs": [],
   "source": [
    "plot(fit.rfr,datappr$SValue_co2)"
   ]
  },
  {
   "cell_type": "markdown",
   "id": "5478f65f",
   "metadata": {},
   "source": [
    "###### MSE et R2"
   ]
  },
  {
   "cell_type": "code",
   "execution_count": null,
   "id": "768c6359",
   "metadata": {},
   "outputs": [],
   "source": [
    "MSE_rf = mean((datappr$SValue_co2 - fit.rfr)^2)\n",
    "paste(\"MSE =\", MSE_rf)\n",
    "\n",
    "# Calculer le coefficient de détermination R² (R2 score)\n",
    "\n",
    "SS_Residual <- sum((datappr$SValue_co2 - fit.rfr)^2)\n",
    "SS_Total <- sum((datappr$SValue_co2 - mean(datappr$SValue_co2))^2)\n",
    "R2_rf <- 1 - (SS_Residual / SS_Total)\n",
    "paste(\"R2 =\", R2_rf)"
   ]
  },
  {
   "cell_type": "markdown",
   "id": "3f98eed6",
   "metadata": {},
   "source": [
    "###### Données tests"
   ]
  },
  {
   "cell_type": "code",
   "execution_count": null,
   "id": "c54f2f62",
   "metadata": {},
   "outputs": [],
   "source": [
    "pred.rf=predict(rf.reg,newdata=datestr)\n",
    "# Erreur quadratique moyenne de prévision\n",
    "sum((pred.rf-datestr[,\"SValue_co2\"])^2)/nrow(datestr)\n",
    "err.rf=pred.rf-datestr[,\"SValue_co2\"]\n",
    "gplot.res(pred.rf,err.rf,titre=\"\")\n",
    "plot(pred.rf,datestr$SValue_co2)"
   ]
  },
  {
   "cell_type": "markdown",
   "id": "070f0204",
   "metadata": {},
   "source": [
    "### Boosting"
   ]
  },
  {
   "cell_type": "markdown",
   "id": "0f131db3",
   "metadata": {},
   "source": [
    "###### Données apprentissage"
   ]
  },
  {
   "cell_type": "code",
   "execution_count": 126,
   "id": "4111c11e",
   "metadata": {},
   "outputs": [
    {
     "data": {
      "image/png": "[encoded data removed]",
      "text/plain": [
       "plot without title"
      ]
     },
     "metadata": {
      "image/png": {
       "height": 600,
       "width": 720
      }
     },
     "output_type": "display_data"
    }
   ],
   "source": [
    "boost.reg = gbm(SValue_co2 ~ ., data = datappr, distribution = \"gaussian\", n.trees = 500, \n",
    "    cv.folds = 10, n.minobsinnode = 5, shrinkage = 0.03, verbose = FALSE)\n",
    "# fixer verbose à FALSE pour éviter trop de sorties\n",
    "plot(boost.reg$cv.error, type = \"l\")"
   ]
  },
  {
   "cell_type": "code",
   "execution_count": 127,
   "id": "22b08cb2",
   "metadata": {},
   "outputs": [
    {
     "data": {
      "image/png": "[encoded data removed]",
      "text/plain": [
       "plot without title"
      ]
     },
     "metadata": {
      "image/png": {
       "height": 600,
       "width": 720
      }
     },
     "output_type": "display_data"
    }
   ],
   "source": [
    "best.iter=gbm.perf(boost.reg,method=\"cv\")"
   ]
  },
  {
   "cell_type": "code",
   "execution_count": 128,
   "id": "73751502",
   "metadata": {},
   "outputs": [
    {
     "data": {
      "image/png": "[encoded data removed]",
      "text/plain": [
       "plot without title"
      ]
     },
     "metadata": {
      "image/png": {
       "height": 600,
       "width": 720
      }
     },
     "output_type": "display_data"
    }
   ],
   "source": [
    "test=numeric()\n",
    "for (i in 10:500){\n",
    "pred.test=predict(boost.reg,newdata=datestr,n.trees=i)\n",
    "err=sum((pred.test-datestr[,\"SValue_co2\"])^2)/nrow(datestr)\n",
    "test=c(test,err)}\n",
    "plot(10:500,test,type=\"l\")\n",
    "abline(v=best.iter)"
   ]
  },
  {
   "cell_type": "code",
   "execution_count": 129,
   "id": "def36ff6",
   "metadata": {},
   "outputs": [
    {
     "name": "stderr",
     "output_type": "stream",
     "text": [
      "Warning message:\n",
      "\"\u001b[1m\u001b[22mRemoved 8 rows containing missing values or values outside the scale range (`geom_point()`).\"\n"
     ]
    },
    {
     "data": {
      "image/png": "[encoded data removed]",
      "text/plain": [
       "plot without title"
      ]
     },
     "metadata": {
      "image/png": {
       "height": 600,
       "width": 720
      }
     },
     "output_type": "display_data"
    }
   ],
   "source": [
    "fit.boo=boost.reg$fit\n",
    "res.boo=fit.boo-datappr[,\"SValue_co2\"]\n",
    "gplot.res(fit.boo,res.boo,titre=\"\")"
   ]
  },
  {
   "cell_type": "code",
   "execution_count": 130,
   "id": "64bef290",
   "metadata": {},
   "outputs": [
    {
     "data": {
      "image/png": "[encoded data removed]",
      "text/plain": [
       "plot without title"
      ]
     },
     "metadata": {
      "image/png": {
       "height": 600,
       "width": 720
      }
     },
     "output_type": "display_data"
    }
   ],
   "source": [
    "plot(fit.boo,datappr$SValue_co2)"
   ]
  },
  {
   "cell_type": "markdown",
   "id": "712c5616",
   "metadata": {},
   "source": [
    "###### MSE et R2"
   ]
  },
  {
   "cell_type": "code",
   "execution_count": 131,
   "id": "fa586041",
   "metadata": {},
   "outputs": [
    {
     "data": {
      "text/html": [
       "'MSE = 0.0486305589204481'"
      ],
      "text/latex": [
       "'MSE = 0.0486305589204481'"
      ],
      "text/markdown": [
       "'MSE = 0.0486305589204481'"
      ],
      "text/plain": [
       "[1] \"MSE = 0.0486305589204481\""
      ]
     },
     "metadata": {},
     "output_type": "display_data"
    },
    {
     "data": {
      "text/html": [
       "'R2 = 0.991362070311763'"
      ],
      "text/latex": [
       "'R2 = 0.991362070311763'"
      ],
      "text/markdown": [
       "'R2 = 0.991362070311763'"
      ],
      "text/plain": [
       "[1] \"R2 = 0.991362070311763\""
      ]
     },
     "metadata": {},
     "output_type": "display_data"
    }
   ],
   "source": [
    "MSE_boo = mean((datappr$SValue_co2 - fit.boo)^2)\n",
    "paste(\"MSE =\", MSE_boo)\n",
    "\n",
    "# Calculer le coefficient de détermination R² (R2 score)\n",
    "\n",
    "SS_Residual <- sum((datappr$SValue_co2 - fit.boo)^2)\n",
    "SS_Total <- sum((datappr$SValue_co2 - mean(datappr$SValue_co2))^2)\n",
    "R2_boo <- 1 - (SS_Residual / SS_Total)\n",
    "paste(\"R2 =\", R2_boo)"
   ]
  },
  {
   "cell_type": "markdown",
   "id": "cb018b5d",
   "metadata": {},
   "source": [
    "###### Données tests"
   ]
  },
  {
   "cell_type": "code",
   "execution_count": 132,
   "id": "dac1f284",
   "metadata": {},
   "outputs": [
    {
     "name": "stderr",
     "output_type": "stream",
     "text": [
      "Using 500 trees...\n",
      "\n",
      "\n"
     ]
    },
    {
     "data": {
      "text/html": [
       "0.0550621200471978"
      ],
      "text/latex": [
       "0.0550621200471978"
      ],
      "text/markdown": [
       "0.0550621200471978"
      ],
      "text/plain": [
       "[1] 0.05506212"
      ]
     },
     "metadata": {},
     "output_type": "display_data"
    },
    {
     "name": "stderr",
     "output_type": "stream",
     "text": [
      "Warning message:\n",
      "\"\u001b[1m\u001b[22mRemoved 2 rows containing missing values or values outside the scale range (`geom_point()`).\"\n"
     ]
    },
    {
     "data": {
      "image/png": "[encoded data removed]",
      "text/plain": [
       "plot without title"
      ]
     },
     "metadata": {
      "image/png": {
       "height": 600,
       "width": 720
      }
     },
     "output_type": "display_data"
    },
    {
     "data": {
      "image/png": "[encoded data removed]",
      "text/plain": [
       "plot without title"
      ]
     },
     "metadata": {
      "image/png": {
       "height": 600,
       "width": 720
      }
     },
     "output_type": "display_data"
    }
   ],
   "source": [
    "pred.boo=predict(boost.reg,newdata=datestr)\n",
    "# Erreur quadratique moyenne de prévision\n",
    "sum((pred.boo-datestr[,\"SValue_co2\"])^2)/nrow(datestr)\n",
    "err.boo=pred.boo-datestr[,\"SValue_co2\"]\n",
    "gplot.res(pred.boo,err.boo,titre=\"\")\n",
    "plot(pred.boo,datestr$SValue_co2)"
   ]
  },
  {
   "cell_type": "markdown",
   "id": "b3ae90f1",
   "metadata": {},
   "source": [
    "### Neural network"
   ]
  },
  {
   "cell_type": "markdown",
   "id": "0a360759",
   "metadata": {},
   "source": [
    "#### Sur données d'apprentissage"
   ]
  },
  {
   "cell_type": "code",
   "execution_count": 133,
   "id": "fba91dcf",
   "metadata": {},
   "outputs": [
    {
     "ename": "ERROR",
     "evalue": "Error in nnet.default(x, y, w, ...): trop (1056) de pondérations\n",
     "output_type": "error",
     "traceback": [
      "Error in nnet.default(x, y, w, ...): trop (1056) de pondérations\nTraceback:\n",
      "1. nnet(SValue_co2 ~ ., data = datappr, size = 5, decay = 1, linout = TRUE, \n .     maxit = 500)",
      "2. nnet.formula(SValue_co2 ~ ., data = datappr, size = 5, decay = 1, \n .     linout = TRUE, maxit = 500)",
      "3. nnet.default(x, y, w, ...)",
      "4. stop(gettextf(\"too many (%d) weights\", nwts), domain = NA)"
     ]
    }
   ],
   "source": [
    "nnet.reg=nnet(SValue_co2~.,data=datappr,size=5,decay=1,linout=TRUE,maxit=500) \n",
    "summary(nnet.reg)"
   ]
  },
  {
   "cell_type": "code",
   "execution_count": null,
   "id": "200db341",
   "metadata": {},
   "outputs": [],
   "source": [
    "plot(tune.nnet(SValue_co2~.,data=datappr,size=c(2,3,4),decay=c(1,2,3),maxit=200,linout=TRUE))"
   ]
  },
  {
   "cell_type": "code",
   "execution_count": null,
   "id": "fa9c0ec1",
   "metadata": {},
   "outputs": [],
   "source": [
    "nnet.reg=nnet(SValue_co2~.,data=datappr,size=3,decay=2,linout=TRUE,maxit=200)\n",
    "# calcul et graphe des résidus\n",
    "fit.nnetr=predict(nnet.reg,data=datappr)\n",
    "res.nnetr=fit.nnetr-datappr[,\"SValue_co2\"]\n",
    "gplot.res(fit.nnetr,res.nnetr,titre=\"\")"
   ]
  },
  {
   "cell_type": "code",
   "execution_count": null,
   "id": "1e65bdee",
   "metadata": {},
   "outputs": [],
   "source": [
    "plot(fit.nnetr,datappr$SValue_co2)"
   ]
  },
  {
   "cell_type": "markdown",
   "id": "5b5b3ca8",
   "metadata": {},
   "source": [
    "##### MSE et R2"
   ]
  },
  {
   "cell_type": "code",
   "execution_count": null,
   "id": "85b1886d",
   "metadata": {},
   "outputs": [],
   "source": [
    "MSE_nn = mean((datappr$SValue_co2 - fit.nnetr)^2)\n",
    "paste(\"MSE =\", MSE_nn)\n",
    "\n",
    "# Calculer le coefficient de détermination R² (R2 score)\n",
    "\n",
    "SS_Residual <- sum((datappr$SValue_co2 - fit.nnetr)^2)\n",
    "SS_Total <- sum((datappr$SValue_co2 - mean(datappr$SValue_co2))^2)\n",
    "R2_nn <- 1 - (SS_Residual / SS_Total)\n",
    "paste(\"R2 =\", R2_nn)"
   ]
  },
  {
   "cell_type": "markdown",
   "id": "d373b6b8",
   "metadata": {},
   "source": [
    "#### Sur données test"
   ]
  },
  {
   "cell_type": "code",
   "execution_count": null,
   "id": "0325e373",
   "metadata": {},
   "outputs": [],
   "source": [
    "pred.nnetr=predict(nnet.reg,newdata=datestr)\n",
    "# Erreur quadratique moyenne de prévision\n",
    "sum((pred.nnetr-datestr[,\"SValue_co2\"])^2)/nrow(datestr)\n",
    "err.nnetr=pred.nnetr-datestr[,\"SValue_co2\"]\n",
    "gplot.res(pred.nnetr,err.nnetr,titre=\"\")\n",
    "plot(pred.nnetr,datestr$SValue_co2)"
   ]
  },
  {
   "cell_type": "markdown",
   "id": "6c369d6c",
   "metadata": {},
   "source": [
    "## Question 3"
   ]
  },
  {
   "cell_type": "code",
   "execution_count": null,
   "id": "f9bab294-bcc0-4f9f-8701-2f16685763e8",
   "metadata": {},
   "outputs": [],
   "source": [
    "Perf <- data.frame(\n",
    "  Methode = c(\"RegLig\", \"AIC\", \"LASSO\", \"SVM\", \"Arbre\",\"Forêt Aléatoire\",\"Boosting\",\"Neural Network\"),\n",
    "  MSE = c(MSE_rl,MSE_aic,MSE_lse,MSE_svm,MSE_a,MSE_rf,MSE_boo,MSE_nn),\n",
    "  R2 = c(R2_rl,R2_aic,R2_lse,R2_svm,R2_a,R2_rf,R2_boo,R2_nn)\n",
    ")\n",
    "\n",
    "Perf"
   ]
  },
  {
   "cell_type": "markdown",
   "id": "9912f4d7",
   "metadata": {},
   "source": [
    "### Retour sur l'analyse exploratoire"
   ]
  },
  {
   "cell_type": "markdown",
   "id": "2afb30a4",
   "metadata": {},
   "source": [
    "### Imputation des données manquantes"
   ]
  },
  {
   "cell_type": "code",
   "execution_count": 34,
   "id": "affa58cd",
   "metadata": {},
   "outputs": [],
   "source": [
    "energyna = energy_pt2"
   ]
  },
  {
   "cell_type": "code",
   "execution_count": 35,
   "id": "43d34e77",
   "metadata": {},
   "outputs": [
    {
     "data": {
      "text/html": [
       "<table class=\"dataframe\">\n",
       "<caption>A data.frame: 18 × 1</caption>\n",
       "<thead>\n",
       "\t<tr><th></th><th scope=col>colSums.is.na.energyna..</th></tr>\n",
       "\t<tr><th></th><th scope=col>&lt;dbl&gt;</th></tr>\n",
       "</thead>\n",
       "<tbody>\n",
       "\t<tr><th scope=row>Entity</th><td>  0</td></tr>\n",
       "\t<tr><th scope=row>Year</th><td>  0</td></tr>\n",
       "\t<tr><th scope=row>Access_elec</th><td> 10</td></tr>\n",
       "\t<tr><th scope=row>Access_fuels</th><td>169</td></tr>\n",
       "\t<tr><th scope=row>Renewable_energy</th><td>194</td></tr>\n",
       "\t<tr><th scope=row>Elec_fossil</th><td> 21</td></tr>\n",
       "\t<tr><th scope=row>Elec_nuclear</th><td>126</td></tr>\n",
       "\t<tr><th scope=row>Elec_renew</th><td> 21</td></tr>\n",
       "\t<tr><th scope=row>Low_carbon</th><td> 42</td></tr>\n",
       "\t<tr><th scope=row>Primary_energy</th><td>  0</td></tr>\n",
       "\t<tr><th scope=row>Energy_intensity</th><td>207</td></tr>\n",
       "\t<tr><th scope=row>Value_co2</th><td>428</td></tr>\n",
       "\t<tr><th scope=row>gdp_growth</th><td>317</td></tr>\n",
       "\t<tr><th scope=row>gdp_capita</th><td>282</td></tr>\n",
       "\t<tr><th scope=row>Density</th><td>  1</td></tr>\n",
       "\t<tr><th scope=row>Land_area</th><td>  1</td></tr>\n",
       "\t<tr><th scope=row>Latitude</th><td>  1</td></tr>\n",
       "\t<tr><th scope=row>Longitude</th><td>  1</td></tr>\n",
       "</tbody>\n",
       "</table>\n"
      ],
      "text/latex": [
       "A data.frame: 18 × 1\n",
       "\\begin{tabular}{r|l}\n",
       "  & colSums.is.na.energyna..\\\\\n",
       "  & <dbl>\\\\\n",
       "\\hline\n",
       "\tEntity &   0\\\\\n",
       "\tYear &   0\\\\\n",
       "\tAccess\\_elec &  10\\\\\n",
       "\tAccess\\_fuels & 169\\\\\n",
       "\tRenewable\\_energy & 194\\\\\n",
       "\tElec\\_fossil &  21\\\\\n",
       "\tElec\\_nuclear & 126\\\\\n",
       "\tElec\\_renew &  21\\\\\n",
       "\tLow\\_carbon &  42\\\\\n",
       "\tPrimary\\_energy &   0\\\\\n",
       "\tEnergy\\_intensity & 207\\\\\n",
       "\tValue\\_co2 & 428\\\\\n",
       "\tgdp\\_growth & 317\\\\\n",
       "\tgdp\\_capita & 282\\\\\n",
       "\tDensity &   1\\\\\n",
       "\tLand\\_area &   1\\\\\n",
       "\tLatitude &   1\\\\\n",
       "\tLongitude &   1\\\\\n",
       "\\end{tabular}\n"
      ],
      "text/markdown": [
       "\n",
       "A data.frame: 18 × 1\n",
       "\n",
       "| <!--/--> | colSums.is.na.energyna.. &lt;dbl&gt; |\n",
       "|---|---|\n",
       "| Entity |   0 |\n",
       "| Year |   0 |\n",
       "| Access_elec |  10 |\n",
       "| Access_fuels | 169 |\n",
       "| Renewable_energy | 194 |\n",
       "| Elec_fossil |  21 |\n",
       "| Elec_nuclear | 126 |\n",
       "| Elec_renew |  21 |\n",
       "| Low_carbon |  42 |\n",
       "| Primary_energy |   0 |\n",
       "| Energy_intensity | 207 |\n",
       "| Value_co2 | 428 |\n",
       "| gdp_growth | 317 |\n",
       "| gdp_capita | 282 |\n",
       "| Density |   1 |\n",
       "| Land_area |   1 |\n",
       "| Latitude |   1 |\n",
       "| Longitude |   1 |\n",
       "\n"
      ],
      "text/plain": [
       "                 colSums.is.na.energyna..\n",
       "Entity             0                     \n",
       "Year               0                     \n",
       "Access_elec       10                     \n",
       "Access_fuels     169                     \n",
       "Renewable_energy 194                     \n",
       "Elec_fossil       21                     \n",
       "Elec_nuclear     126                     \n",
       "Elec_renew        21                     \n",
       "Low_carbon        42                     \n",
       "Primary_energy     0                     \n",
       "Energy_intensity 207                     \n",
       "Value_co2        428                     \n",
       "gdp_growth       317                     \n",
       "gdp_capita       282                     \n",
       "Density            1                     \n",
       "Land_area          1                     \n",
       "Latitude           1                     \n",
       "Longitude          1                     "
      ]
     },
     "metadata": {},
     "output_type": "display_data"
    }
   ],
   "source": [
    "missing = data.frame(colSums(is.na(energyna)))\n",
    "missing"
   ]
  },
  {
   "cell_type": "code",
   "execution_count": 37,
   "id": "11be50cc",
   "metadata": {},
   "outputs": [
    {
     "data": {
      "text/html": [
       "<table class=\"dataframe\">\n",
       "<caption>A data.frame: 3649 × 15</caption>\n",
       "<thead>\n",
       "\t<tr><th scope=col>Access_elec</th><th scope=col>Access_fuels</th><th scope=col>Renewable_energy</th><th scope=col>Elec_nuclear</th><th scope=col>Elec_renew</th><th scope=col>Low_carbon</th><th scope=col>Primary_energy</th><th scope=col>Energy_intensity</th><th scope=col>Value_co2</th><th scope=col>gdp_growth</th><th scope=col>gdp_capita</th><th scope=col>Density</th><th scope=col>Land_area</th><th scope=col>Latitude</th><th scope=col>Longitude</th></tr>\n",
       "\t<tr><th scope=col>&lt;dbl&gt;</th><th scope=col>&lt;dbl&gt;</th><th scope=col>&lt;dbl&gt;</th><th scope=col>&lt;dbl&gt;</th><th scope=col>&lt;dbl&gt;</th><th scope=col>&lt;dbl&gt;</th><th scope=col>&lt;dbl&gt;</th><th scope=col>&lt;dbl&gt;</th><th scope=col>&lt;dbl&gt;</th><th scope=col>&lt;dbl&gt;</th><th scope=col>&lt;dbl&gt;</th><th scope=col>&lt;dbl&gt;</th><th scope=col>&lt;int&gt;</th><th scope=col>&lt;dbl&gt;</th><th scope=col>&lt;dbl&gt;</th></tr>\n",
       "</thead>\n",
       "<tbody>\n",
       "\t<tr><td>  1.613591</td><td> 6.20</td><td>44.99</td><td>0</td><td>0.31</td><td>65.95744</td><td>  302.5948</td><td>1.64</td><td> 760</td><td>        NA</td><td>       NA</td><td> 60</td><td>652230</td><td>33.93911</td><td>67.70995</td></tr>\n",
       "\t<tr><td>  4.074574</td><td> 7.20</td><td>45.60</td><td>0</td><td>0.50</td><td>84.74577</td><td>  236.8919</td><td>1.74</td><td> 730</td><td>        NA</td><td>       NA</td><td> 60</td><td>652230</td><td>33.93911</td><td>67.70995</td></tr>\n",
       "\t<tr><td>  9.409158</td><td> 8.20</td><td>37.83</td><td>0</td><td>0.56</td><td>81.15942</td><td>  210.8622</td><td>1.40</td><td>1030</td><td>        NA</td><td> 179.4266</td><td> 60</td><td>652230</td><td>33.93911</td><td>67.70995</td></tr>\n",
       "\t<tr><td> 14.738506</td><td> 9.50</td><td>36.66</td><td>0</td><td>0.63</td><td>67.02128</td><td>  229.9682</td><td>1.40</td><td>1220</td><td> 8.8322778</td><td> 190.6838</td><td> 60</td><td>652230</td><td>33.93911</td><td>67.70995</td></tr>\n",
       "\t<tr><td> 20.064968</td><td>10.90</td><td>44.24</td><td>0</td><td>0.56</td><td>62.92135</td><td>  204.2312</td><td>1.20</td><td>1030</td><td> 1.4141180</td><td> 211.3821</td><td> 60</td><td>652230</td><td>33.93911</td><td>67.70995</td></tr>\n",
       "\t<tr><td> 25.390894</td><td>12.20</td><td>33.88</td><td>0</td><td>0.59</td><td>63.44086</td><td>  252.0691</td><td>1.41</td><td>1550</td><td>11.2297148</td><td> 242.0313</td><td> 60</td><td>652230</td><td>33.93911</td><td>67.70995</td></tr>\n",
       "\t<tr><td> 30.718690</td><td>13.85</td><td>31.89</td><td>0</td><td>0.64</td><td>76.19048</td><td>  304.4209</td><td>1.50</td><td>1760</td><td> 5.3574033</td><td> 263.7336</td><td> 60</td><td>652230</td><td>33.93911</td><td>67.70995</td></tr>\n",
       "\t<tr><td> 36.051010</td><td>15.30</td><td>28.78</td><td>0</td><td>0.75</td><td>78.94737</td><td>  354.2799</td><td>1.53</td><td>1770</td><td>13.8263195</td><td> 359.6932</td><td> 60</td><td>652230</td><td>33.93911</td><td>67.70995</td></tr>\n",
       "\t<tr><td> 42.400000</td><td>16.70</td><td>21.17</td><td>0</td><td>0.54</td><td>73.97260</td><td>  607.8335</td><td>1.94</td><td>3560</td><td> 3.9249838</td><td> 364.6635</td><td> 60</td><td>652230</td><td>33.93911</td><td>67.70995</td></tr>\n",
       "\t<tr><td> 46.740050</td><td>18.40</td><td>16.53</td><td>0</td><td>0.78</td><td>82.97872</td><td>  975.0482</td><td>2.25</td><td>4880</td><td>21.3905284</td><td> 437.2687</td><td> 60</td><td>652230</td><td>33.93911</td><td>67.70995</td></tr>\n",
       "\t<tr><td> 42.700000</td><td>20.00</td><td>15.15</td><td>0</td><td>0.75</td><td>79.78723</td><td> 1182.8920</td><td>2.46</td><td>7110</td><td>14.3624415</td><td> 543.3065</td><td> 60</td><td>652230</td><td>33.93911</td><td>67.70995</td></tr>\n",
       "\t<tr><td> 43.222020</td><td>21.80</td><td>12.61</td><td>0</td><td>0.60</td><td>76.92309</td><td> 1436.1143</td><td>3.23</td><td>8930</td><td> 0.4263548</td><td> 591.1900</td><td> 60</td><td>652230</td><td>33.93911</td><td>67.70995</td></tr>\n",
       "\t<tr><td> 69.100000</td><td>23.00</td><td>15.36</td><td>0</td><td>0.74</td><td>84.09091</td><td> 1324.1211</td><td>2.61</td><td>8080</td><td>12.7522871</td><td> 638.8459</td><td> 60</td><td>652230</td><td>33.93911</td><td>67.70995</td></tr>\n",
       "\t<tr><td> 68.290650</td><td>24.80</td><td>16.86</td><td>0</td><td>0.89</td><td>80.18018</td><td> 1060.7926</td><td>2.46</td><td>5990</td><td> 5.6007447</td><td> 624.3155</td><td> 60</td><td>652230</td><td>33.93911</td><td>67.70995</td></tr>\n",
       "\t<tr><td> 89.500000</td><td>26.10</td><td>18.93</td><td>0</td><td>1.00</td><td>86.20690</td><td>  868.5762</td><td>2.25</td><td>4880</td><td> 2.7245434</td><td> 614.2233</td><td> 60</td><td>652230</td><td>33.93911</td><td>67.70995</td></tr>\n",
       "\t<tr><td> 71.500000</td><td>27.40</td><td>17.53</td><td>0</td><td>1.03</td><td>87.28814</td><td>  970.0803</td><td>2.37</td><td>5950</td><td> 1.4513147</td><td> 556.0072</td><td> 60</td><td>652230</td><td>33.93911</td><td>67.70995</td></tr>\n",
       "\t<tr><td> 97.700000</td><td>28.60</td><td>19.92</td><td>0</td><td>1.06</td><td>87.60329</td><td>  862.7911</td><td>2.24</td><td>5300</td><td> 2.2603142</td><td> 512.0128</td><td> 60</td><td>652230</td><td>33.93911</td><td>67.70995</td></tr>\n",
       "\t<tr><td> 97.700000</td><td>29.70</td><td>19.21</td><td>0</td><td>1.09</td><td>85.82677</td><td>  829.3120</td><td>2.30</td><td>4780</td><td> 2.6470032</td><td> 516.6799</td><td> 60</td><td>652230</td><td>33.93911</td><td>67.70995</td></tr>\n",
       "\t<tr><td> 96.616135</td><td>30.90</td><td>17.96</td><td>0</td><td>0.97</td><td>82.90598</td><td>  924.2509</td><td>2.44</td><td>6070</td><td> 1.1892281</td><td> 485.6684</td><td> 60</td><td>652230</td><td>33.93911</td><td>67.70995</td></tr>\n",
       "\t<tr><td> 97.700000</td><td>31.90</td><td>18.51</td><td>0</td><td>0.89</td><td>83.17757</td><td>  802.6126</td><td>2.41</td><td>6080</td><td> 3.9116034</td><td> 494.1793</td><td> 60</td><td>652230</td><td>33.93911</td><td>67.70995</td></tr>\n",
       "\t<tr><td> 97.700000</td><td>33.20</td><td>   NA</td><td>0</td><td>0.68</td><td>85.00000</td><td>  702.8880</td><td>  NA</td><td>  NA</td><td>-2.3511007</td><td> 516.7479</td><td> 60</td><td>652230</td><td>33.93911</td><td>67.70995</td></tr>\n",
       "\t<tr><td>100.000000</td><td>38.20</td><td>   NA</td><td>0</td><td>4.55</td><td>97.01493</td><td> 9029.4375</td><td>4.13</td><td>3170</td><td> 6.9462166</td><td>1126.6833</td><td>105</td><td> 28748</td><td>41.15333</td><td>20.16833</td></tr>\n",
       "\t<tr><td>100.000000</td><td>40.50</td><td>   NA</td><td>0</td><td>3.52</td><td>96.43835</td><td> 8635.5320</td><td>3.89</td><td>3230</td><td> 8.2933126</td><td>1281.6598</td><td>105</td><td> 28748</td><td>41.15333</td><td>20.16833</td></tr>\n",
       "\t<tr><td>100.000000</td><td>43.20</td><td>   NA</td><td>0</td><td>3.48</td><td>95.60439</td><td> 9443.5550</td><td>4.10</td><td>3760</td><td> 4.5365242</td><td>1425.1242</td><td>105</td><td> 28748</td><td>41.15333</td><td>20.16833</td></tr>\n",
       "\t<tr><td>100.000000</td><td>46.40</td><td>   NA</td><td>0</td><td>5.12</td><td>98.08430</td><td>10756.6120</td><td>3.80</td><td>4070</td><td> 5.5286375</td><td>1846.1201</td><td>105</td><td> 28748</td><td>41.15333</td><td>20.16833</td></tr>\n",
       "\t<tr><td>100.000000</td><td>49.00</td><td>   NA</td><td>0</td><td>5.41</td><td>97.65343</td><td>11586.9510</td><td>3.96</td><td>4250</td><td> 5.5146679</td><td>2373.5813</td><td>105</td><td> 28748</td><td>41.15333</td><td>20.16833</td></tr>\n",
       "\t<tr><td>100.000000</td><td>51.90</td><td>   NA</td><td>0</td><td>5.32</td><td>98.70130</td><td>11545.6160</td><td>3.75</td><td>4030</td><td> 5.5264242</td><td>2673.7866</td><td>105</td><td> 28748</td><td>41.15333</td><td>20.16833</td></tr>\n",
       "\t<tr><td>100.000000</td><td>54.80</td><td>   NA</td><td>0</td><td>4.95</td><td>98.21428</td><td>10976.7280</td><td>3.46</td><td>4010</td><td> 5.9026590</td><td>2972.7429</td><td>105</td><td> 28748</td><td>41.15333</td><td>20.16833</td></tr>\n",
       "\t<tr><td>100.000000</td><td>58.10</td><td>   NA</td><td>0</td><td>2.76</td><td>97.52651</td><td> 9534.8740</td><td>3.12</td><td>4140</td><td> 5.9832595</td><td>3595.0381</td><td>105</td><td> 28748</td><td>41.15333</td><td>20.16833</td></tr>\n",
       "\t<tr><td>100.000000</td><td>60.80</td><td>   NA</td><td>0</td><td>3.76</td><td>98.17233</td><td>10499.3280</td><td>3.01</td><td>4080</td><td> 7.5000414</td><td>4370.5399</td><td>105</td><td> 28748</td><td>41.15333</td><td>20.16833</td></tr>\n",
       "\t<tr><td>⋮</td><td>⋮</td><td>⋮</td><td>⋮</td><td>⋮</td><td>⋮</td><td>⋮</td><td>⋮</td><td>⋮</td><td>⋮</td><td>⋮</td><td>⋮</td><td>⋮</td><td>⋮</td><td>⋮</td></tr>\n",
       "\t<tr><td>29.01273</td><td>15.50</td><td>84.63</td><td>0</td><td>12.26</td><td>99.51299</td><td>3116.737</td><td> 7.65</td><td> 4030</td><td>  7.5975932</td><td>1763.0694</td><td>25</td><td>752618</td><td>-13.13390</td><td>27.84933</td></tr>\n",
       "\t<tr><td>29.88627</td><td>15.10</td><td>84.56</td><td>0</td><td>13.18</td><td>99.62208</td><td>3198.529</td><td> 7.49</td><td> 4240</td><td>  5.0572317</td><td>1878.3468</td><td>25</td><td>752618</td><td>-13.13390</td><td>27.84933</td></tr>\n",
       "\t<tr><td>27.90000</td><td>14.60</td><td>83.77</td><td>0</td><td>14.01</td><td>97.56267</td><td>3323.385</td><td> 7.45</td><td> 4690</td><td>  4.6979924</td><td>1762.4278</td><td>25</td><td>752618</td><td>-13.13390</td><td>27.84933</td></tr>\n",
       "\t<tr><td>31.10000</td><td>14.00</td><td>83.09</td><td>0</td><td>13.00</td><td>97.30539</td><td>3115.068</td><td> 7.41</td><td> 4960</td><td>  2.9203751</td><td>1338.2909</td><td>25</td><td>752618</td><td>-13.13390</td><td>27.84933</td></tr>\n",
       "\t<tr><td>35.42545</td><td>13.40</td><td>83.07</td><td>0</td><td>10.97</td><td>94.40620</td><td>2846.699</td><td> 7.33</td><td> 5320</td><td>  3.7766791</td><td>1280.8065</td><td>25</td><td>752618</td><td>-13.13390</td><td>27.84933</td></tr>\n",
       "\t<tr><td>40.30000</td><td>12.50</td><td>81.89</td><td>0</td><td>12.64</td><td>87.53463</td><td>3202.072</td><td> 7.44</td><td> 6810</td><td>  3.5043361</td><td>1535.1966</td><td>25</td><td>752618</td><td>-13.13390</td><td>27.84933</td></tr>\n",
       "\t<tr><td>40.31789</td><td>11.90</td><td>82.28</td><td>0</td><td>13.89</td><td>86.11284</td><td>3494.537</td><td> 7.35</td><td> 7730</td><td>  4.0344939</td><td>1516.3684</td><td>25</td><td>752618</td><td>-13.13390</td><td>27.84933</td></tr>\n",
       "\t<tr><td>43.00000</td><td>11.20</td><td>84.50</td><td>0</td><td>12.62</td><td>86.02590</td><td>2983.882</td><td> 7.09</td><td> 6800</td><td>  1.4413060</td><td>1305.0010</td><td>25</td><td>752618</td><td>-13.13390</td><td>27.84933</td></tr>\n",
       "\t<tr><td>44.52448</td><td>10.40</td><td>   NA</td><td>0</td><td>13.10</td><td>86.75497</td><td>3099.083</td><td>   NA</td><td>   NA</td><td> -2.7850551</td><td> 985.1324</td><td>25</td><td>752618</td><td>-13.13390</td><td>27.84933</td></tr>\n",
       "\t<tr><td>33.65489</td><td>33.50</td><td>69.26</td><td>0</td><td> 3.44</td><td>51.03858</td><td>4919.523</td><td> 9.39</td><td>13700</td><td> -3.0591898</td><td> 563.0575</td><td>38</td><td>390757</td><td>-19.01544</td><td>29.15486</td></tr>\n",
       "\t<tr><td>34.17284</td><td>33.60</td><td>71.53</td><td>0</td><td> 3.25</td><td>42.87599</td><td>4614.958</td><td> 9.23</td><td>13900</td><td>  1.4396154</td><td> 568.3863</td><td>38</td><td>390757</td><td>-19.01544</td><td>29.15486</td></tr>\n",
       "\t<tr><td>34.20000</td><td>33.50</td><td>74.30</td><td>0</td><td> 4.14</td><td>50.12106</td><td>4561.243</td><td> 9.96</td><td>12490</td><td> -8.8940236</td><td> 530.5304</td><td>38</td><td>390757</td><td>-19.01544</td><td>29.15486</td></tr>\n",
       "\t<tr><td>35.18835</td><td>32.80</td><td>77.83</td><td>0</td><td> 5.56</td><td>65.10538</td><td>4397.342</td><td>11.47</td><td>10180</td><td>-16.9950747</td><td> 478.0076</td><td>38</td><td>390757</td><td>-19.01544</td><td>29.15486</td></tr>\n",
       "\t<tr><td>35.69060</td><td>32.20</td><td>81.58</td><td>0</td><td> 5.78</td><td>61.42402</td><td>4045.232</td><td>11.90</td><td> 9770</td><td> -5.8075381</td><td> 482.9985</td><td>38</td><td>390757</td><td>-19.01544</td><td>29.15486</td></tr>\n",
       "\t<tr><td>36.19231</td><td>31.70</td><td>80.15</td><td>0</td><td> 5.20</td><td>57.52213</td><td>4160.413</td><td>13.24</td><td>10510</td><td> -5.7110837</td><td> 476.5554</td><td>38</td><td>390757</td><td>-19.01544</td><td>29.15486</td></tr>\n",
       "\t<tr><td>37.20000</td><td>31.40</td><td>78.59</td><td>0</td><td> 5.45</td><td>70.96355</td><td>4158.782</td><td>14.09</td><td> 9830</td><td> -3.4614952</td><td> 447.8547</td><td>38</td><td>390757</td><td>-19.01544</td><td>29.15486</td></tr>\n",
       "\t<tr><td>37.20401</td><td>31.00</td><td>77.97</td><td>0</td><td> 5.49</td><td>74.69388</td><td>4036.720</td><td>14.40</td><td> 9760</td><td> -3.6533269</td><td> 431.7873</td><td>38</td><td>390757</td><td>-19.01544</td><td>29.15486</td></tr>\n",
       "\t<tr><td>37.71934</td><td>30.50</td><td>81.86</td><td>0</td><td> 5.79</td><td>78.34912</td><td>3324.860</td><td>16.34</td><td> 7600</td><td>-17.6689463</td><td> 356.6932</td><td>38</td><td>390757</td><td>-19.01544</td><td>29.15486</td></tr>\n",
       "\t<tr><td>43.36908</td><td>30.50</td><td>82.09</td><td>0</td><td> 5.54</td><td>77.91843</td><td>3254.282</td><td>15.00</td><td> 7750</td><td> 12.0195599</td><td> 771.5990</td><td>38</td><td>390757</td><td>-19.01544</td><td>29.15486</td></tr>\n",
       "\t<tr><td>38.78255</td><td>30.15</td><td>82.27</td><td>0</td><td> 5.95</td><td>70.49764</td><td>3592.672</td><td>12.71</td><td> 9600</td><td> 19.6753231</td><td> 948.3315</td><td>38</td><td>390757</td><td>-19.01544</td><td>29.15486</td></tr>\n",
       "\t<tr><td>36.90000</td><td>30.10</td><td>79.27</td><td>0</td><td> 5.51</td><td>61.63311</td><td>3860.790</td><td>11.77</td><td>11410</td><td> 14.1939130</td><td>1093.6534</td><td>38</td><td>390757</td><td>-19.01544</td><td>29.15486</td></tr>\n",
       "\t<tr><td>44.00000</td><td>29.80</td><td>77.50</td><td>0</td><td> 5.68</td><td>63.60582</td><td>4106.950</td><td>10.42</td><td>12010</td><td> 16.6654288</td><td>1304.9680</td><td>38</td><td>390757</td><td>-19.01544</td><td>29.15486</td></tr>\n",
       "\t<tr><td>40.49838</td><td>29.80</td><td>78.87</td><td>0</td><td> 5.36</td><td>57.88337</td><td>4085.332</td><td>10.48</td><td>12280</td><td>  1.9894928</td><td>1429.9985</td><td>38</td><td>390757</td><td>-19.01544</td><td>29.15486</td></tr>\n",
       "\t<tr><td>32.30000</td><td>29.50</td><td>80.27</td><td>0</td><td> 5.79</td><td>59.62925</td><td>3940.886</td><td>10.40</td><td>12080</td><td>  2.3769293</td><td>1434.8963</td><td>38</td><td>390757</td><td>-19.01544</td><td>29.15486</td></tr>\n",
       "\t<tr><td>33.70000</td><td>29.50</td><td>80.82</td><td>0</td><td> 5.37</td><td>57.18850</td><td>3860.920</td><td>10.36</td><td>12430</td><td>  1.7798727</td><td>1445.0697</td><td>38</td><td>390757</td><td>-19.01544</td><td>29.15486</td></tr>\n",
       "\t<tr><td>42.56173</td><td>29.80</td><td>81.90</td><td>0</td><td> 3.32</td><td>48.68035</td><td>3227.680</td><td>10.00</td><td>11020</td><td>  0.7558693</td><td>1464.5890</td><td>38</td><td>390757</td><td>-19.01544</td><td>29.15486</td></tr>\n",
       "\t<tr><td>44.17863</td><td>29.80</td><td>82.46</td><td>0</td><td> 4.30</td><td>58.50341</td><td>3068.012</td><td> 9.51</td><td>10340</td><td>  4.7094922</td><td>1235.1890</td><td>38</td><td>390757</td><td>-19.01544</td><td>29.15486</td></tr>\n",
       "\t<tr><td>45.57265</td><td>29.90</td><td>80.23</td><td>0</td><td> 5.46</td><td>59.41241</td><td>3441.986</td><td> 9.83</td><td>12380</td><td>  4.8242105</td><td>1254.6423</td><td>38</td><td>390757</td><td>-19.01544</td><td>29.15486</td></tr>\n",
       "\t<tr><td>46.78148</td><td>30.10</td><td>81.50</td><td>0</td><td> 4.58</td><td>55.58253</td><td>3003.655</td><td>10.47</td><td>11760</td><td> -6.1442363</td><td>1316.7407</td><td>38</td><td>390757</td><td>-19.01544</td><td>29.15486</td></tr>\n",
       "\t<tr><td>52.74767</td><td>30.40</td><td>81.90</td><td>0</td><td> 4.19</td><td>55.20422</td><td>2680.132</td><td>10.00</td><td>   NA</td><td> -6.2487482</td><td>1214.5098</td><td>38</td><td>390757</td><td>-19.01544</td><td>29.15486</td></tr>\n",
       "</tbody>\n",
       "</table>\n"
      ],
      "text/latex": [
       "A data.frame: 3649 × 15\n",
       "\\begin{tabular}{lllllllllllllll}\n",
       " Access\\_elec & Access\\_fuels & Renewable\\_energy & Elec\\_nuclear & Elec\\_renew & Low\\_carbon & Primary\\_energy & Energy\\_intensity & Value\\_co2 & gdp\\_growth & gdp\\_capita & Density & Land\\_area & Latitude & Longitude\\\\\n",
       " <dbl> & <dbl> & <dbl> & <dbl> & <dbl> & <dbl> & <dbl> & <dbl> & <dbl> & <dbl> & <dbl> & <dbl> & <int> & <dbl> & <dbl>\\\\\n",
       "\\hline\n",
       "\t   1.613591 &  6.20 & 44.99 & 0 & 0.31 & 65.95744 &   302.5948 & 1.64 &  760 &         NA &        NA &  60 & 652230 & 33.93911 & 67.70995\\\\\n",
       "\t   4.074574 &  7.20 & 45.60 & 0 & 0.50 & 84.74577 &   236.8919 & 1.74 &  730 &         NA &        NA &  60 & 652230 & 33.93911 & 67.70995\\\\\n",
       "\t   9.409158 &  8.20 & 37.83 & 0 & 0.56 & 81.15942 &   210.8622 & 1.40 & 1030 &         NA &  179.4266 &  60 & 652230 & 33.93911 & 67.70995\\\\\n",
       "\t  14.738506 &  9.50 & 36.66 & 0 & 0.63 & 67.02128 &   229.9682 & 1.40 & 1220 &  8.8322778 &  190.6838 &  60 & 652230 & 33.93911 & 67.70995\\\\\n",
       "\t  20.064968 & 10.90 & 44.24 & 0 & 0.56 & 62.92135 &   204.2312 & 1.20 & 1030 &  1.4141180 &  211.3821 &  60 & 652230 & 33.93911 & 67.70995\\\\\n",
       "\t  25.390894 & 12.20 & 33.88 & 0 & 0.59 & 63.44086 &   252.0691 & 1.41 & 1550 & 11.2297148 &  242.0313 &  60 & 652230 & 33.93911 & 67.70995\\\\\n",
       "\t  30.718690 & 13.85 & 31.89 & 0 & 0.64 & 76.19048 &   304.4209 & 1.50 & 1760 &  5.3574033 &  263.7336 &  60 & 652230 & 33.93911 & 67.70995\\\\\n",
       "\t  36.051010 & 15.30 & 28.78 & 0 & 0.75 & 78.94737 &   354.2799 & 1.53 & 1770 & 13.8263195 &  359.6932 &  60 & 652230 & 33.93911 & 67.70995\\\\\n",
       "\t  42.400000 & 16.70 & 21.17 & 0 & 0.54 & 73.97260 &   607.8335 & 1.94 & 3560 &  3.9249838 &  364.6635 &  60 & 652230 & 33.93911 & 67.70995\\\\\n",
       "\t  46.740050 & 18.40 & 16.53 & 0 & 0.78 & 82.97872 &   975.0482 & 2.25 & 4880 & 21.3905284 &  437.2687 &  60 & 652230 & 33.93911 & 67.70995\\\\\n",
       "\t  42.700000 & 20.00 & 15.15 & 0 & 0.75 & 79.78723 &  1182.8920 & 2.46 & 7110 & 14.3624415 &  543.3065 &  60 & 652230 & 33.93911 & 67.70995\\\\\n",
       "\t  43.222020 & 21.80 & 12.61 & 0 & 0.60 & 76.92309 &  1436.1143 & 3.23 & 8930 &  0.4263548 &  591.1900 &  60 & 652230 & 33.93911 & 67.70995\\\\\n",
       "\t  69.100000 & 23.00 & 15.36 & 0 & 0.74 & 84.09091 &  1324.1211 & 2.61 & 8080 & 12.7522871 &  638.8459 &  60 & 652230 & 33.93911 & 67.70995\\\\\n",
       "\t  68.290650 & 24.80 & 16.86 & 0 & 0.89 & 80.18018 &  1060.7926 & 2.46 & 5990 &  5.6007447 &  624.3155 &  60 & 652230 & 33.93911 & 67.70995\\\\\n",
       "\t  89.500000 & 26.10 & 18.93 & 0 & 1.00 & 86.20690 &   868.5762 & 2.25 & 4880 &  2.7245434 &  614.2233 &  60 & 652230 & 33.93911 & 67.70995\\\\\n",
       "\t  71.500000 & 27.40 & 17.53 & 0 & 1.03 & 87.28814 &   970.0803 & 2.37 & 5950 &  1.4513147 &  556.0072 &  60 & 652230 & 33.93911 & 67.70995\\\\\n",
       "\t  97.700000 & 28.60 & 19.92 & 0 & 1.06 & 87.60329 &   862.7911 & 2.24 & 5300 &  2.2603142 &  512.0128 &  60 & 652230 & 33.93911 & 67.70995\\\\\n",
       "\t  97.700000 & 29.70 & 19.21 & 0 & 1.09 & 85.82677 &   829.3120 & 2.30 & 4780 &  2.6470032 &  516.6799 &  60 & 652230 & 33.93911 & 67.70995\\\\\n",
       "\t  96.616135 & 30.90 & 17.96 & 0 & 0.97 & 82.90598 &   924.2509 & 2.44 & 6070 &  1.1892281 &  485.6684 &  60 & 652230 & 33.93911 & 67.70995\\\\\n",
       "\t  97.700000 & 31.90 & 18.51 & 0 & 0.89 & 83.17757 &   802.6126 & 2.41 & 6080 &  3.9116034 &  494.1793 &  60 & 652230 & 33.93911 & 67.70995\\\\\n",
       "\t  97.700000 & 33.20 &    NA & 0 & 0.68 & 85.00000 &   702.8880 &   NA &   NA & -2.3511007 &  516.7479 &  60 & 652230 & 33.93911 & 67.70995\\\\\n",
       "\t 100.000000 & 38.20 &    NA & 0 & 4.55 & 97.01493 &  9029.4375 & 4.13 & 3170 &  6.9462166 & 1126.6833 & 105 &  28748 & 41.15333 & 20.16833\\\\\n",
       "\t 100.000000 & 40.50 &    NA & 0 & 3.52 & 96.43835 &  8635.5320 & 3.89 & 3230 &  8.2933126 & 1281.6598 & 105 &  28748 & 41.15333 & 20.16833\\\\\n",
       "\t 100.000000 & 43.20 &    NA & 0 & 3.48 & 95.60439 &  9443.5550 & 4.10 & 3760 &  4.5365242 & 1425.1242 & 105 &  28748 & 41.15333 & 20.16833\\\\\n",
       "\t 100.000000 & 46.40 &    NA & 0 & 5.12 & 98.08430 & 10756.6120 & 3.80 & 4070 &  5.5286375 & 1846.1201 & 105 &  28748 & 41.15333 & 20.16833\\\\\n",
       "\t 100.000000 & 49.00 &    NA & 0 & 5.41 & 97.65343 & 11586.9510 & 3.96 & 4250 &  5.5146679 & 2373.5813 & 105 &  28748 & 41.15333 & 20.16833\\\\\n",
       "\t 100.000000 & 51.90 &    NA & 0 & 5.32 & 98.70130 & 11545.6160 & 3.75 & 4030 &  5.5264242 & 2673.7866 & 105 &  28748 & 41.15333 & 20.16833\\\\\n",
       "\t 100.000000 & 54.80 &    NA & 0 & 4.95 & 98.21428 & 10976.7280 & 3.46 & 4010 &  5.9026590 & 2972.7429 & 105 &  28748 & 41.15333 & 20.16833\\\\\n",
       "\t 100.000000 & 58.10 &    NA & 0 & 2.76 & 97.52651 &  9534.8740 & 3.12 & 4140 &  5.9832595 & 3595.0381 & 105 &  28748 & 41.15333 & 20.16833\\\\\n",
       "\t 100.000000 & 60.80 &    NA & 0 & 3.76 & 98.17233 & 10499.3280 & 3.01 & 4080 &  7.5000414 & 4370.5399 & 105 &  28748 & 41.15333 & 20.16833\\\\\n",
       "\t ⋮ & ⋮ & ⋮ & ⋮ & ⋮ & ⋮ & ⋮ & ⋮ & ⋮ & ⋮ & ⋮ & ⋮ & ⋮ & ⋮ & ⋮\\\\\n",
       "\t 29.01273 & 15.50 & 84.63 & 0 & 12.26 & 99.51299 & 3116.737 &  7.65 &  4030 &   7.5975932 & 1763.0694 & 25 & 752618 & -13.13390 & 27.84933\\\\\n",
       "\t 29.88627 & 15.10 & 84.56 & 0 & 13.18 & 99.62208 & 3198.529 &  7.49 &  4240 &   5.0572317 & 1878.3468 & 25 & 752618 & -13.13390 & 27.84933\\\\\n",
       "\t 27.90000 & 14.60 & 83.77 & 0 & 14.01 & 97.56267 & 3323.385 &  7.45 &  4690 &   4.6979924 & 1762.4278 & 25 & 752618 & -13.13390 & 27.84933\\\\\n",
       "\t 31.10000 & 14.00 & 83.09 & 0 & 13.00 & 97.30539 & 3115.068 &  7.41 &  4960 &   2.9203751 & 1338.2909 & 25 & 752618 & -13.13390 & 27.84933\\\\\n",
       "\t 35.42545 & 13.40 & 83.07 & 0 & 10.97 & 94.40620 & 2846.699 &  7.33 &  5320 &   3.7766791 & 1280.8065 & 25 & 752618 & -13.13390 & 27.84933\\\\\n",
       "\t 40.30000 & 12.50 & 81.89 & 0 & 12.64 & 87.53463 & 3202.072 &  7.44 &  6810 &   3.5043361 & 1535.1966 & 25 & 752618 & -13.13390 & 27.84933\\\\\n",
       "\t 40.31789 & 11.90 & 82.28 & 0 & 13.89 & 86.11284 & 3494.537 &  7.35 &  7730 &   4.0344939 & 1516.3684 & 25 & 752618 & -13.13390 & 27.84933\\\\\n",
       "\t 43.00000 & 11.20 & 84.50 & 0 & 12.62 & 86.02590 & 2983.882 &  7.09 &  6800 &   1.4413060 & 1305.0010 & 25 & 752618 & -13.13390 & 27.84933\\\\\n",
       "\t 44.52448 & 10.40 &    NA & 0 & 13.10 & 86.75497 & 3099.083 &    NA &    NA &  -2.7850551 &  985.1324 & 25 & 752618 & -13.13390 & 27.84933\\\\\n",
       "\t 33.65489 & 33.50 & 69.26 & 0 &  3.44 & 51.03858 & 4919.523 &  9.39 & 13700 &  -3.0591898 &  563.0575 & 38 & 390757 & -19.01544 & 29.15486\\\\\n",
       "\t 34.17284 & 33.60 & 71.53 & 0 &  3.25 & 42.87599 & 4614.958 &  9.23 & 13900 &   1.4396154 &  568.3863 & 38 & 390757 & -19.01544 & 29.15486\\\\\n",
       "\t 34.20000 & 33.50 & 74.30 & 0 &  4.14 & 50.12106 & 4561.243 &  9.96 & 12490 &  -8.8940236 &  530.5304 & 38 & 390757 & -19.01544 & 29.15486\\\\\n",
       "\t 35.18835 & 32.80 & 77.83 & 0 &  5.56 & 65.10538 & 4397.342 & 11.47 & 10180 & -16.9950747 &  478.0076 & 38 & 390757 & -19.01544 & 29.15486\\\\\n",
       "\t 35.69060 & 32.20 & 81.58 & 0 &  5.78 & 61.42402 & 4045.232 & 11.90 &  9770 &  -5.8075381 &  482.9985 & 38 & 390757 & -19.01544 & 29.15486\\\\\n",
       "\t 36.19231 & 31.70 & 80.15 & 0 &  5.20 & 57.52213 & 4160.413 & 13.24 & 10510 &  -5.7110837 &  476.5554 & 38 & 390757 & -19.01544 & 29.15486\\\\\n",
       "\t 37.20000 & 31.40 & 78.59 & 0 &  5.45 & 70.96355 & 4158.782 & 14.09 &  9830 &  -3.4614952 &  447.8547 & 38 & 390757 & -19.01544 & 29.15486\\\\\n",
       "\t 37.20401 & 31.00 & 77.97 & 0 &  5.49 & 74.69388 & 4036.720 & 14.40 &  9760 &  -3.6533269 &  431.7873 & 38 & 390757 & -19.01544 & 29.15486\\\\\n",
       "\t 37.71934 & 30.50 & 81.86 & 0 &  5.79 & 78.34912 & 3324.860 & 16.34 &  7600 & -17.6689463 &  356.6932 & 38 & 390757 & -19.01544 & 29.15486\\\\\n",
       "\t 43.36908 & 30.50 & 82.09 & 0 &  5.54 & 77.91843 & 3254.282 & 15.00 &  7750 &  12.0195599 &  771.5990 & 38 & 390757 & -19.01544 & 29.15486\\\\\n",
       "\t 38.78255 & 30.15 & 82.27 & 0 &  5.95 & 70.49764 & 3592.672 & 12.71 &  9600 &  19.6753231 &  948.3315 & 38 & 390757 & -19.01544 & 29.15486\\\\\n",
       "\t 36.90000 & 30.10 & 79.27 & 0 &  5.51 & 61.63311 & 3860.790 & 11.77 & 11410 &  14.1939130 & 1093.6534 & 38 & 390757 & -19.01544 & 29.15486\\\\\n",
       "\t 44.00000 & 29.80 & 77.50 & 0 &  5.68 & 63.60582 & 4106.950 & 10.42 & 12010 &  16.6654288 & 1304.9680 & 38 & 390757 & -19.01544 & 29.15486\\\\\n",
       "\t 40.49838 & 29.80 & 78.87 & 0 &  5.36 & 57.88337 & 4085.332 & 10.48 & 12280 &   1.9894928 & 1429.9985 & 38 & 390757 & -19.01544 & 29.15486\\\\\n",
       "\t 32.30000 & 29.50 & 80.27 & 0 &  5.79 & 59.62925 & 3940.886 & 10.40 & 12080 &   2.3769293 & 1434.8963 & 38 & 390757 & -19.01544 & 29.15486\\\\\n",
       "\t 33.70000 & 29.50 & 80.82 & 0 &  5.37 & 57.18850 & 3860.920 & 10.36 & 12430 &   1.7798727 & 1445.0697 & 38 & 390757 & -19.01544 & 29.15486\\\\\n",
       "\t 42.56173 & 29.80 & 81.90 & 0 &  3.32 & 48.68035 & 3227.680 & 10.00 & 11020 &   0.7558693 & 1464.5890 & 38 & 390757 & -19.01544 & 29.15486\\\\\n",
       "\t 44.17863 & 29.80 & 82.46 & 0 &  4.30 & 58.50341 & 3068.012 &  9.51 & 10340 &   4.7094922 & 1235.1890 & 38 & 390757 & -19.01544 & 29.15486\\\\\n",
       "\t 45.57265 & 29.90 & 80.23 & 0 &  5.46 & 59.41241 & 3441.986 &  9.83 & 12380 &   4.8242105 & 1254.6423 & 38 & 390757 & -19.01544 & 29.15486\\\\\n",
       "\t 46.78148 & 30.10 & 81.50 & 0 &  4.58 & 55.58253 & 3003.655 & 10.47 & 11760 &  -6.1442363 & 1316.7407 & 38 & 390757 & -19.01544 & 29.15486\\\\\n",
       "\t 52.74767 & 30.40 & 81.90 & 0 &  4.19 & 55.20422 & 2680.132 & 10.00 &    NA &  -6.2487482 & 1214.5098 & 38 & 390757 & -19.01544 & 29.15486\\\\\n",
       "\\end{tabular}\n"
      ],
      "text/markdown": [
       "\n",
       "A data.frame: 3649 × 15\n",
       "\n",
       "| Access_elec &lt;dbl&gt; | Access_fuels &lt;dbl&gt; | Renewable_energy &lt;dbl&gt; | Elec_nuclear &lt;dbl&gt; | Elec_renew &lt;dbl&gt; | Low_carbon &lt;dbl&gt; | Primary_energy &lt;dbl&gt; | Energy_intensity &lt;dbl&gt; | Value_co2 &lt;dbl&gt; | gdp_growth &lt;dbl&gt; | gdp_capita &lt;dbl&gt; | Density &lt;dbl&gt; | Land_area &lt;int&gt; | Latitude &lt;dbl&gt; | Longitude &lt;dbl&gt; |\n",
       "|---|---|---|---|---|---|---|---|---|---|---|---|---|---|---|\n",
       "|   1.613591 |  6.20 | 44.99 | 0 | 0.31 | 65.95744 |   302.5948 | 1.64 |  760 |         NA |        NA |  60 | 652230 | 33.93911 | 67.70995 |\n",
       "|   4.074574 |  7.20 | 45.60 | 0 | 0.50 | 84.74577 |   236.8919 | 1.74 |  730 |         NA |        NA |  60 | 652230 | 33.93911 | 67.70995 |\n",
       "|   9.409158 |  8.20 | 37.83 | 0 | 0.56 | 81.15942 |   210.8622 | 1.40 | 1030 |         NA |  179.4266 |  60 | 652230 | 33.93911 | 67.70995 |\n",
       "|  14.738506 |  9.50 | 36.66 | 0 | 0.63 | 67.02128 |   229.9682 | 1.40 | 1220 |  8.8322778 |  190.6838 |  60 | 652230 | 33.93911 | 67.70995 |\n",
       "|  20.064968 | 10.90 | 44.24 | 0 | 0.56 | 62.92135 |   204.2312 | 1.20 | 1030 |  1.4141180 |  211.3821 |  60 | 652230 | 33.93911 | 67.70995 |\n",
       "|  25.390894 | 12.20 | 33.88 | 0 | 0.59 | 63.44086 |   252.0691 | 1.41 | 1550 | 11.2297148 |  242.0313 |  60 | 652230 | 33.93911 | 67.70995 |\n",
       "|  30.718690 | 13.85 | 31.89 | 0 | 0.64 | 76.19048 |   304.4209 | 1.50 | 1760 |  5.3574033 |  263.7336 |  60 | 652230 | 33.93911 | 67.70995 |\n",
       "|  36.051010 | 15.30 | 28.78 | 0 | 0.75 | 78.94737 |   354.2799 | 1.53 | 1770 | 13.8263195 |  359.6932 |  60 | 652230 | 33.93911 | 67.70995 |\n",
       "|  42.400000 | 16.70 | 21.17 | 0 | 0.54 | 73.97260 |   607.8335 | 1.94 | 3560 |  3.9249838 |  364.6635 |  60 | 652230 | 33.93911 | 67.70995 |\n",
       "|  46.740050 | 18.40 | 16.53 | 0 | 0.78 | 82.97872 |   975.0482 | 2.25 | 4880 | 21.3905284 |  437.2687 |  60 | 652230 | 33.93911 | 67.70995 |\n",
       "|  42.700000 | 20.00 | 15.15 | 0 | 0.75 | 79.78723 |  1182.8920 | 2.46 | 7110 | 14.3624415 |  543.3065 |  60 | 652230 | 33.93911 | 67.70995 |\n",
       "|  43.222020 | 21.80 | 12.61 | 0 | 0.60 | 76.92309 |  1436.1143 | 3.23 | 8930 |  0.4263548 |  591.1900 |  60 | 652230 | 33.93911 | 67.70995 |\n",
       "|  69.100000 | 23.00 | 15.36 | 0 | 0.74 | 84.09091 |  1324.1211 | 2.61 | 8080 | 12.7522871 |  638.8459 |  60 | 652230 | 33.93911 | 67.70995 |\n",
       "|  68.290650 | 24.80 | 16.86 | 0 | 0.89 | 80.18018 |  1060.7926 | 2.46 | 5990 |  5.6007447 |  624.3155 |  60 | 652230 | 33.93911 | 67.70995 |\n",
       "|  89.500000 | 26.10 | 18.93 | 0 | 1.00 | 86.20690 |   868.5762 | 2.25 | 4880 |  2.7245434 |  614.2233 |  60 | 652230 | 33.93911 | 67.70995 |\n",
       "|  71.500000 | 27.40 | 17.53 | 0 | 1.03 | 87.28814 |   970.0803 | 2.37 | 5950 |  1.4513147 |  556.0072 |  60 | 652230 | 33.93911 | 67.70995 |\n",
       "|  97.700000 | 28.60 | 19.92 | 0 | 1.06 | 87.60329 |   862.7911 | 2.24 | 5300 |  2.2603142 |  512.0128 |  60 | 652230 | 33.93911 | 67.70995 |\n",
       "|  97.700000 | 29.70 | 19.21 | 0 | 1.09 | 85.82677 |   829.3120 | 2.30 | 4780 |  2.6470032 |  516.6799 |  60 | 652230 | 33.93911 | 67.70995 |\n",
       "|  96.616135 | 30.90 | 17.96 | 0 | 0.97 | 82.90598 |   924.2509 | 2.44 | 6070 |  1.1892281 |  485.6684 |  60 | 652230 | 33.93911 | 67.70995 |\n",
       "|  97.700000 | 31.90 | 18.51 | 0 | 0.89 | 83.17757 |   802.6126 | 2.41 | 6080 |  3.9116034 |  494.1793 |  60 | 652230 | 33.93911 | 67.70995 |\n",
       "|  97.700000 | 33.20 |    NA | 0 | 0.68 | 85.00000 |   702.8880 |   NA |   NA | -2.3511007 |  516.7479 |  60 | 652230 | 33.93911 | 67.70995 |\n",
       "| 100.000000 | 38.20 |    NA | 0 | 4.55 | 97.01493 |  9029.4375 | 4.13 | 3170 |  6.9462166 | 1126.6833 | 105 |  28748 | 41.15333 | 20.16833 |\n",
       "| 100.000000 | 40.50 |    NA | 0 | 3.52 | 96.43835 |  8635.5320 | 3.89 | 3230 |  8.2933126 | 1281.6598 | 105 |  28748 | 41.15333 | 20.16833 |\n",
       "| 100.000000 | 43.20 |    NA | 0 | 3.48 | 95.60439 |  9443.5550 | 4.10 | 3760 |  4.5365242 | 1425.1242 | 105 |  28748 | 41.15333 | 20.16833 |\n",
       "| 100.000000 | 46.40 |    NA | 0 | 5.12 | 98.08430 | 10756.6120 | 3.80 | 4070 |  5.5286375 | 1846.1201 | 105 |  28748 | 41.15333 | 20.16833 |\n",
       "| 100.000000 | 49.00 |    NA | 0 | 5.41 | 97.65343 | 11586.9510 | 3.96 | 4250 |  5.5146679 | 2373.5813 | 105 |  28748 | 41.15333 | 20.16833 |\n",
       "| 100.000000 | 51.90 |    NA | 0 | 5.32 | 98.70130 | 11545.6160 | 3.75 | 4030 |  5.5264242 | 2673.7866 | 105 |  28748 | 41.15333 | 20.16833 |\n",
       "| 100.000000 | 54.80 |    NA | 0 | 4.95 | 98.21428 | 10976.7280 | 3.46 | 4010 |  5.9026590 | 2972.7429 | 105 |  28748 | 41.15333 | 20.16833 |\n",
       "| 100.000000 | 58.10 |    NA | 0 | 2.76 | 97.52651 |  9534.8740 | 3.12 | 4140 |  5.9832595 | 3595.0381 | 105 |  28748 | 41.15333 | 20.16833 |\n",
       "| 100.000000 | 60.80 |    NA | 0 | 3.76 | 98.17233 | 10499.3280 | 3.01 | 4080 |  7.5000414 | 4370.5399 | 105 |  28748 | 41.15333 | 20.16833 |\n",
       "| ⋮ | ⋮ | ⋮ | ⋮ | ⋮ | ⋮ | ⋮ | ⋮ | ⋮ | ⋮ | ⋮ | ⋮ | ⋮ | ⋮ | ⋮ |\n",
       "| 29.01273 | 15.50 | 84.63 | 0 | 12.26 | 99.51299 | 3116.737 |  7.65 |  4030 |   7.5975932 | 1763.0694 | 25 | 752618 | -13.13390 | 27.84933 |\n",
       "| 29.88627 | 15.10 | 84.56 | 0 | 13.18 | 99.62208 | 3198.529 |  7.49 |  4240 |   5.0572317 | 1878.3468 | 25 | 752618 | -13.13390 | 27.84933 |\n",
       "| 27.90000 | 14.60 | 83.77 | 0 | 14.01 | 97.56267 | 3323.385 |  7.45 |  4690 |   4.6979924 | 1762.4278 | 25 | 752618 | -13.13390 | 27.84933 |\n",
       "| 31.10000 | 14.00 | 83.09 | 0 | 13.00 | 97.30539 | 3115.068 |  7.41 |  4960 |   2.9203751 | 1338.2909 | 25 | 752618 | -13.13390 | 27.84933 |\n",
       "| 35.42545 | 13.40 | 83.07 | 0 | 10.97 | 94.40620 | 2846.699 |  7.33 |  5320 |   3.7766791 | 1280.8065 | 25 | 752618 | -13.13390 | 27.84933 |\n",
       "| 40.30000 | 12.50 | 81.89 | 0 | 12.64 | 87.53463 | 3202.072 |  7.44 |  6810 |   3.5043361 | 1535.1966 | 25 | 752618 | -13.13390 | 27.84933 |\n",
       "| 40.31789 | 11.90 | 82.28 | 0 | 13.89 | 86.11284 | 3494.537 |  7.35 |  7730 |   4.0344939 | 1516.3684 | 25 | 752618 | -13.13390 | 27.84933 |\n",
       "| 43.00000 | 11.20 | 84.50 | 0 | 12.62 | 86.02590 | 2983.882 |  7.09 |  6800 |   1.4413060 | 1305.0010 | 25 | 752618 | -13.13390 | 27.84933 |\n",
       "| 44.52448 | 10.40 |    NA | 0 | 13.10 | 86.75497 | 3099.083 |    NA |    NA |  -2.7850551 |  985.1324 | 25 | 752618 | -13.13390 | 27.84933 |\n",
       "| 33.65489 | 33.50 | 69.26 | 0 |  3.44 | 51.03858 | 4919.523 |  9.39 | 13700 |  -3.0591898 |  563.0575 | 38 | 390757 | -19.01544 | 29.15486 |\n",
       "| 34.17284 | 33.60 | 71.53 | 0 |  3.25 | 42.87599 | 4614.958 |  9.23 | 13900 |   1.4396154 |  568.3863 | 38 | 390757 | -19.01544 | 29.15486 |\n",
       "| 34.20000 | 33.50 | 74.30 | 0 |  4.14 | 50.12106 | 4561.243 |  9.96 | 12490 |  -8.8940236 |  530.5304 | 38 | 390757 | -19.01544 | 29.15486 |\n",
       "| 35.18835 | 32.80 | 77.83 | 0 |  5.56 | 65.10538 | 4397.342 | 11.47 | 10180 | -16.9950747 |  478.0076 | 38 | 390757 | -19.01544 | 29.15486 |\n",
       "| 35.69060 | 32.20 | 81.58 | 0 |  5.78 | 61.42402 | 4045.232 | 11.90 |  9770 |  -5.8075381 |  482.9985 | 38 | 390757 | -19.01544 | 29.15486 |\n",
       "| 36.19231 | 31.70 | 80.15 | 0 |  5.20 | 57.52213 | 4160.413 | 13.24 | 10510 |  -5.7110837 |  476.5554 | 38 | 390757 | -19.01544 | 29.15486 |\n",
       "| 37.20000 | 31.40 | 78.59 | 0 |  5.45 | 70.96355 | 4158.782 | 14.09 |  9830 |  -3.4614952 |  447.8547 | 38 | 390757 | -19.01544 | 29.15486 |\n",
       "| 37.20401 | 31.00 | 77.97 | 0 |  5.49 | 74.69388 | 4036.720 | 14.40 |  9760 |  -3.6533269 |  431.7873 | 38 | 390757 | -19.01544 | 29.15486 |\n",
       "| 37.71934 | 30.50 | 81.86 | 0 |  5.79 | 78.34912 | 3324.860 | 16.34 |  7600 | -17.6689463 |  356.6932 | 38 | 390757 | -19.01544 | 29.15486 |\n",
       "| 43.36908 | 30.50 | 82.09 | 0 |  5.54 | 77.91843 | 3254.282 | 15.00 |  7750 |  12.0195599 |  771.5990 | 38 | 390757 | -19.01544 | 29.15486 |\n",
       "| 38.78255 | 30.15 | 82.27 | 0 |  5.95 | 70.49764 | 3592.672 | 12.71 |  9600 |  19.6753231 |  948.3315 | 38 | 390757 | -19.01544 | 29.15486 |\n",
       "| 36.90000 | 30.10 | 79.27 | 0 |  5.51 | 61.63311 | 3860.790 | 11.77 | 11410 |  14.1939130 | 1093.6534 | 38 | 390757 | -19.01544 | 29.15486 |\n",
       "| 44.00000 | 29.80 | 77.50 | 0 |  5.68 | 63.60582 | 4106.950 | 10.42 | 12010 |  16.6654288 | 1304.9680 | 38 | 390757 | -19.01544 | 29.15486 |\n",
       "| 40.49838 | 29.80 | 78.87 | 0 |  5.36 | 57.88337 | 4085.332 | 10.48 | 12280 |   1.9894928 | 1429.9985 | 38 | 390757 | -19.01544 | 29.15486 |\n",
       "| 32.30000 | 29.50 | 80.27 | 0 |  5.79 | 59.62925 | 3940.886 | 10.40 | 12080 |   2.3769293 | 1434.8963 | 38 | 390757 | -19.01544 | 29.15486 |\n",
       "| 33.70000 | 29.50 | 80.82 | 0 |  5.37 | 57.18850 | 3860.920 | 10.36 | 12430 |   1.7798727 | 1445.0697 | 38 | 390757 | -19.01544 | 29.15486 |\n",
       "| 42.56173 | 29.80 | 81.90 | 0 |  3.32 | 48.68035 | 3227.680 | 10.00 | 11020 |   0.7558693 | 1464.5890 | 38 | 390757 | -19.01544 | 29.15486 |\n",
       "| 44.17863 | 29.80 | 82.46 | 0 |  4.30 | 58.50341 | 3068.012 |  9.51 | 10340 |   4.7094922 | 1235.1890 | 38 | 390757 | -19.01544 | 29.15486 |\n",
       "| 45.57265 | 29.90 | 80.23 | 0 |  5.46 | 59.41241 | 3441.986 |  9.83 | 12380 |   4.8242105 | 1254.6423 | 38 | 390757 | -19.01544 | 29.15486 |\n",
       "| 46.78148 | 30.10 | 81.50 | 0 |  4.58 | 55.58253 | 3003.655 | 10.47 | 11760 |  -6.1442363 | 1316.7407 | 38 | 390757 | -19.01544 | 29.15486 |\n",
       "| 52.74767 | 30.40 | 81.90 | 0 |  4.19 | 55.20422 | 2680.132 | 10.00 |    NA |  -6.2487482 | 1214.5098 | 38 | 390757 | -19.01544 | 29.15486 |\n",
       "\n"
      ],
      "text/plain": [
       "     Access_elec Access_fuels Renewable_energy Elec_nuclear Elec_renew\n",
       "1      1.613591   6.20        44.99            0            0.31      \n",
       "2      4.074574   7.20        45.60            0            0.50      \n",
       "3      9.409158   8.20        37.83            0            0.56      \n",
       "4     14.738506   9.50        36.66            0            0.63      \n",
       "5     20.064968  10.90        44.24            0            0.56      \n",
       "6     25.390894  12.20        33.88            0            0.59      \n",
       "7     30.718690  13.85        31.89            0            0.64      \n",
       "8     36.051010  15.30        28.78            0            0.75      \n",
       "9     42.400000  16.70        21.17            0            0.54      \n",
       "10    46.740050  18.40        16.53            0            0.78      \n",
       "11    42.700000  20.00        15.15            0            0.75      \n",
       "12    43.222020  21.80        12.61            0            0.60      \n",
       "13    69.100000  23.00        15.36            0            0.74      \n",
       "14    68.290650  24.80        16.86            0            0.89      \n",
       "15    89.500000  26.10        18.93            0            1.00      \n",
       "16    71.500000  27.40        17.53            0            1.03      \n",
       "17    97.700000  28.60        19.92            0            1.06      \n",
       "18    97.700000  29.70        19.21            0            1.09      \n",
       "19    96.616135  30.90        17.96            0            0.97      \n",
       "20    97.700000  31.90        18.51            0            0.89      \n",
       "21    97.700000  33.20           NA            0            0.68      \n",
       "22   100.000000  38.20           NA            0            4.55      \n",
       "23   100.000000  40.50           NA            0            3.52      \n",
       "24   100.000000  43.20           NA            0            3.48      \n",
       "25   100.000000  46.40           NA            0            5.12      \n",
       "26   100.000000  49.00           NA            0            5.41      \n",
       "27   100.000000  51.90           NA            0            5.32      \n",
       "28   100.000000  54.80           NA            0            4.95      \n",
       "29   100.000000  58.10           NA            0            2.76      \n",
       "30   100.000000  60.80           NA            0            3.76      \n",
       "⋮    ⋮           ⋮            ⋮                ⋮            ⋮         \n",
       "3620 29.01273    15.50        84.63            0            12.26     \n",
       "3621 29.88627    15.10        84.56            0            13.18     \n",
       "3622 27.90000    14.60        83.77            0            14.01     \n",
       "3623 31.10000    14.00        83.09            0            13.00     \n",
       "3624 35.42545    13.40        83.07            0            10.97     \n",
       "3625 40.30000    12.50        81.89            0            12.64     \n",
       "3626 40.31789    11.90        82.28            0            13.89     \n",
       "3627 43.00000    11.20        84.50            0            12.62     \n",
       "3628 44.52448    10.40           NA            0            13.10     \n",
       "3629 33.65489    33.50        69.26            0             3.44     \n",
       "3630 34.17284    33.60        71.53            0             3.25     \n",
       "3631 34.20000    33.50        74.30            0             4.14     \n",
       "3632 35.18835    32.80        77.83            0             5.56     \n",
       "3633 35.69060    32.20        81.58            0             5.78     \n",
       "3634 36.19231    31.70        80.15            0             5.20     \n",
       "3635 37.20000    31.40        78.59            0             5.45     \n",
       "3636 37.20401    31.00        77.97            0             5.49     \n",
       "3637 37.71934    30.50        81.86            0             5.79     \n",
       "3638 43.36908    30.50        82.09            0             5.54     \n",
       "3639 38.78255    30.15        82.27            0             5.95     \n",
       "3640 36.90000    30.10        79.27            0             5.51     \n",
       "3641 44.00000    29.80        77.50            0             5.68     \n",
       "3642 40.49838    29.80        78.87            0             5.36     \n",
       "3643 32.30000    29.50        80.27            0             5.79     \n",
       "3644 33.70000    29.50        80.82            0             5.37     \n",
       "3645 42.56173    29.80        81.90            0             3.32     \n",
       "3646 44.17863    29.80        82.46            0             4.30     \n",
       "3647 45.57265    29.90        80.23            0             5.46     \n",
       "3648 46.78148    30.10        81.50            0             4.58     \n",
       "3649 52.74767    30.40        81.90            0             4.19     \n",
       "     Low_carbon Primary_energy Energy_intensity Value_co2 gdp_growth \n",
       "1    65.95744     302.5948     1.64              760              NA \n",
       "2    84.74577     236.8919     1.74              730              NA \n",
       "3    81.15942     210.8622     1.40             1030              NA \n",
       "4    67.02128     229.9682     1.40             1220       8.8322778 \n",
       "5    62.92135     204.2312     1.20             1030       1.4141180 \n",
       "6    63.44086     252.0691     1.41             1550      11.2297148 \n",
       "7    76.19048     304.4209     1.50             1760       5.3574033 \n",
       "8    78.94737     354.2799     1.53             1770      13.8263195 \n",
       "9    73.97260     607.8335     1.94             3560       3.9249838 \n",
       "10   82.97872     975.0482     2.25             4880      21.3905284 \n",
       "11   79.78723    1182.8920     2.46             7110      14.3624415 \n",
       "12   76.92309    1436.1143     3.23             8930       0.4263548 \n",
       "13   84.09091    1324.1211     2.61             8080      12.7522871 \n",
       "14   80.18018    1060.7926     2.46             5990       5.6007447 \n",
       "15   86.20690     868.5762     2.25             4880       2.7245434 \n",
       "16   87.28814     970.0803     2.37             5950       1.4513147 \n",
       "17   87.60329     862.7911     2.24             5300       2.2603142 \n",
       "18   85.82677     829.3120     2.30             4780       2.6470032 \n",
       "19   82.90598     924.2509     2.44             6070       1.1892281 \n",
       "20   83.17757     802.6126     2.41             6080       3.9116034 \n",
       "21   85.00000     702.8880       NA               NA      -2.3511007 \n",
       "22   97.01493    9029.4375     4.13             3170       6.9462166 \n",
       "23   96.43835    8635.5320     3.89             3230       8.2933126 \n",
       "24   95.60439    9443.5550     4.10             3760       4.5365242 \n",
       "25   98.08430   10756.6120     3.80             4070       5.5286375 \n",
       "26   97.65343   11586.9510     3.96             4250       5.5146679 \n",
       "27   98.70130   11545.6160     3.75             4030       5.5264242 \n",
       "28   98.21428   10976.7280     3.46             4010       5.9026590 \n",
       "29   97.52651    9534.8740     3.12             4140       5.9832595 \n",
       "30   98.17233   10499.3280     3.01             4080       7.5000414 \n",
       "⋮    ⋮          ⋮              ⋮                ⋮         ⋮          \n",
       "3620 99.51299   3116.737        7.65             4030       7.5975932\n",
       "3621 99.62208   3198.529        7.49             4240       5.0572317\n",
       "3622 97.56267   3323.385        7.45             4690       4.6979924\n",
       "3623 97.30539   3115.068        7.41             4960       2.9203751\n",
       "3624 94.40620   2846.699        7.33             5320       3.7766791\n",
       "3625 87.53463   3202.072        7.44             6810       3.5043361\n",
       "3626 86.11284   3494.537        7.35             7730       4.0344939\n",
       "3627 86.02590   2983.882        7.09             6800       1.4413060\n",
       "3628 86.75497   3099.083          NA               NA      -2.7850551\n",
       "3629 51.03858   4919.523        9.39            13700      -3.0591898\n",
       "3630 42.87599   4614.958        9.23            13900       1.4396154\n",
       "3631 50.12106   4561.243        9.96            12490      -8.8940236\n",
       "3632 65.10538   4397.342       11.47            10180     -16.9950747\n",
       "3633 61.42402   4045.232       11.90             9770      -5.8075381\n",
       "3634 57.52213   4160.413       13.24            10510      -5.7110837\n",
       "3635 70.96355   4158.782       14.09             9830      -3.4614952\n",
       "3636 74.69388   4036.720       14.40             9760      -3.6533269\n",
       "3637 78.34912   3324.860       16.34             7600     -17.6689463\n",
       "3638 77.91843   3254.282       15.00             7750      12.0195599\n",
       "3639 70.49764   3592.672       12.71             9600      19.6753231\n",
       "3640 61.63311   3860.790       11.77            11410      14.1939130\n",
       "3641 63.60582   4106.950       10.42            12010      16.6654288\n",
       "3642 57.88337   4085.332       10.48            12280       1.9894928\n",
       "3643 59.62925   3940.886       10.40            12080       2.3769293\n",
       "3644 57.18850   3860.920       10.36            12430       1.7798727\n",
       "3645 48.68035   3227.680       10.00            11020       0.7558693\n",
       "3646 58.50341   3068.012        9.51            10340       4.7094922\n",
       "3647 59.41241   3441.986        9.83            12380       4.8242105\n",
       "3648 55.58253   3003.655       10.47            11760      -6.1442363\n",
       "3649 55.20422   2680.132       10.00               NA      -6.2487482\n",
       "     gdp_capita Density Land_area Latitude  Longitude\n",
       "1           NA   60     652230    33.93911  67.70995 \n",
       "2           NA   60     652230    33.93911  67.70995 \n",
       "3     179.4266   60     652230    33.93911  67.70995 \n",
       "4     190.6838   60     652230    33.93911  67.70995 \n",
       "5     211.3821   60     652230    33.93911  67.70995 \n",
       "6     242.0313   60     652230    33.93911  67.70995 \n",
       "7     263.7336   60     652230    33.93911  67.70995 \n",
       "8     359.6932   60     652230    33.93911  67.70995 \n",
       "9     364.6635   60     652230    33.93911  67.70995 \n",
       "10    437.2687   60     652230    33.93911  67.70995 \n",
       "11    543.3065   60     652230    33.93911  67.70995 \n",
       "12    591.1900   60     652230    33.93911  67.70995 \n",
       "13    638.8459   60     652230    33.93911  67.70995 \n",
       "14    624.3155   60     652230    33.93911  67.70995 \n",
       "15    614.2233   60     652230    33.93911  67.70995 \n",
       "16    556.0072   60     652230    33.93911  67.70995 \n",
       "17    512.0128   60     652230    33.93911  67.70995 \n",
       "18    516.6799   60     652230    33.93911  67.70995 \n",
       "19    485.6684   60     652230    33.93911  67.70995 \n",
       "20    494.1793   60     652230    33.93911  67.70995 \n",
       "21    516.7479   60     652230    33.93911  67.70995 \n",
       "22   1126.6833  105      28748    41.15333  20.16833 \n",
       "23   1281.6598  105      28748    41.15333  20.16833 \n",
       "24   1425.1242  105      28748    41.15333  20.16833 \n",
       "25   1846.1201  105      28748    41.15333  20.16833 \n",
       "26   2373.5813  105      28748    41.15333  20.16833 \n",
       "27   2673.7866  105      28748    41.15333  20.16833 \n",
       "28   2972.7429  105      28748    41.15333  20.16833 \n",
       "29   3595.0381  105      28748    41.15333  20.16833 \n",
       "30   4370.5399  105      28748    41.15333  20.16833 \n",
       "⋮    ⋮          ⋮       ⋮         ⋮         ⋮        \n",
       "3620 1763.0694  25      752618    -13.13390 27.84933 \n",
       "3621 1878.3468  25      752618    -13.13390 27.84933 \n",
       "3622 1762.4278  25      752618    -13.13390 27.84933 \n",
       "3623 1338.2909  25      752618    -13.13390 27.84933 \n",
       "3624 1280.8065  25      752618    -13.13390 27.84933 \n",
       "3625 1535.1966  25      752618    -13.13390 27.84933 \n",
       "3626 1516.3684  25      752618    -13.13390 27.84933 \n",
       "3627 1305.0010  25      752618    -13.13390 27.84933 \n",
       "3628  985.1324  25      752618    -13.13390 27.84933 \n",
       "3629  563.0575  38      390757    -19.01544 29.15486 \n",
       "3630  568.3863  38      390757    -19.01544 29.15486 \n",
       "3631  530.5304  38      390757    -19.01544 29.15486 \n",
       "3632  478.0076  38      390757    -19.01544 29.15486 \n",
       "3633  482.9985  38      390757    -19.01544 29.15486 \n",
       "3634  476.5554  38      390757    -19.01544 29.15486 \n",
       "3635  447.8547  38      390757    -19.01544 29.15486 \n",
       "3636  431.7873  38      390757    -19.01544 29.15486 \n",
       "3637  356.6932  38      390757    -19.01544 29.15486 \n",
       "3638  771.5990  38      390757    -19.01544 29.15486 \n",
       "3639  948.3315  38      390757    -19.01544 29.15486 \n",
       "3640 1093.6534  38      390757    -19.01544 29.15486 \n",
       "3641 1304.9680  38      390757    -19.01544 29.15486 \n",
       "3642 1429.9985  38      390757    -19.01544 29.15486 \n",
       "3643 1434.8963  38      390757    -19.01544 29.15486 \n",
       "3644 1445.0697  38      390757    -19.01544 29.15486 \n",
       "3645 1464.5890  38      390757    -19.01544 29.15486 \n",
       "3646 1235.1890  38      390757    -19.01544 29.15486 \n",
       "3647 1254.6423  38      390757    -19.01544 29.15486 \n",
       "3648 1316.7407  38      390757    -19.01544 29.15486 \n",
       "3649 1214.5098  38      390757    -19.01544 29.15486 "
      ]
     },
     "metadata": {},
     "output_type": "display_data"
    }
   ],
   "source": [
    "#On enlève Entity et Year\n",
    "energynaQuant = energyna[,3:18]\n",
    "#On enlève Electricity from fossil fuel\n",
    "energynaQuant = energynaQuant[,-4]\n",
    "energynaQuant"
   ]
  }
 ],
 "metadata": {
  "kernelspec": {
   "display_name": "R",
   "language": "R",
   "name": "ir"
  },
  "language_info": {
   "codemirror_mode": "r",
   "file_extension": ".r",
   "mimetype": "text/x-r-source",
   "name": "R",
   "pygments_lexer": "r",
   "version": "4.3.3"
  }
 },
 "nbformat": 4,
 "nbformat_minor": 5
}
