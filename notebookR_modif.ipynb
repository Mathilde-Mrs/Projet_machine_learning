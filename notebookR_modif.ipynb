{
 "cells": [
  {
   "cell_type": "markdown",
   "id": "4f5bac2f-a34d-41db-991c-c147d72a9561",
   "metadata": {
    "tags": []
   },
   "source": [
    "# Projet Machine Learning : Prédiction de l'émission de CO2"
   ]
  },
  {
   "cell_type": "code",
   "execution_count": 92,
   "id": "c9b10311-6a63-4dcb-896c-da6a42650d9f",
   "metadata": {
    "tags": []
   },
   "outputs": [],
   "source": [
    "library(ggplot2)\n",
    "library(reshape2)\n",
    "library(gridExtra)\n",
    "library(corrplot)\n",
    "library(FactoMineR)\n",
    "library(factoextra)\n",
    "library(ggpubr)\n",
    "library(crosstable)\n",
    "library(GGally)\n",
    "library(glmnet)\n",
    "library(e1071)\n",
    "library(rpart) \n",
    "library(randomForest)\n",
    "library(DescTools)"
   ]
  },
  {
   "cell_type": "code",
   "execution_count": 93,
   "id": "f967f7bd-f053-4937-a4fa-75d761eccc8c",
   "metadata": {
    "tags": []
   },
   "outputs": [],
   "source": [
    "energy = read.csv(\"global-data-on-sustainable-energy (1).csv\")"
   ]
  },
  {
   "cell_type": "code",
   "execution_count": 94,
   "id": "890381da-c13c-4e74-bd05-028e940e43d6",
   "metadata": {
    "tags": []
   },
   "outputs": [
    {
     "data": {
      "text/html": [
       "<table class=\"dataframe\">\n",
       "<caption>A data.frame: 6 × 21</caption>\n",
       "<thead>\n",
       "\t<tr><th></th><th scope=col>Entity</th><th scope=col>Year</th><th scope=col>Access.to.electricity....of.population.</th><th scope=col>Access.to.clean.fuels.for.cooking</th><th scope=col>Renewable.electricity.generating.capacity.per.capita</th><th scope=col>Financial.flows.to.developing.countries..US...</th><th scope=col>Renewable.energy.share.in.the.total.final.energy.consumption....</th><th scope=col>Electricity.from.fossil.fuels..TWh.</th><th scope=col>Electricity.from.nuclear..TWh.</th><th scope=col>Electricity.from.renewables..TWh.</th><th scope=col>⋯</th><th scope=col>Primary.energy.consumption.per.capita..kWh.person.</th><th scope=col>Energy.intensity.level.of.primary.energy..MJ..2017.PPP.GDP.</th><th scope=col>Value_co2_emissions_kt_by_country</th><th scope=col>Renewables....equivalent.primary.energy.</th><th scope=col>gdp_growth</th><th scope=col>gdp_per_capita</th><th scope=col>Density.n.P.Km2.</th><th scope=col>Land.Area.Km2.</th><th scope=col>Latitude</th><th scope=col>Longitude</th></tr>\n",
       "\t<tr><th></th><th scope=col>&lt;chr&gt;</th><th scope=col>&lt;int&gt;</th><th scope=col>&lt;dbl&gt;</th><th scope=col>&lt;dbl&gt;</th><th scope=col>&lt;dbl&gt;</th><th scope=col>&lt;dbl&gt;</th><th scope=col>&lt;dbl&gt;</th><th scope=col>&lt;dbl&gt;</th><th scope=col>&lt;dbl&gt;</th><th scope=col>&lt;dbl&gt;</th><th scope=col>⋯</th><th scope=col>&lt;dbl&gt;</th><th scope=col>&lt;dbl&gt;</th><th scope=col>&lt;dbl&gt;</th><th scope=col>&lt;dbl&gt;</th><th scope=col>&lt;dbl&gt;</th><th scope=col>&lt;dbl&gt;</th><th scope=col>&lt;chr&gt;</th><th scope=col>&lt;int&gt;</th><th scope=col>&lt;dbl&gt;</th><th scope=col>&lt;dbl&gt;</th></tr>\n",
       "</thead>\n",
       "<tbody>\n",
       "\t<tr><th scope=row>1</th><td>Afghanistan</td><td>2000</td><td> 1.613591</td><td> 6.2</td><td>9.22</td><td>   20000</td><td>44.99</td><td>0.16</td><td>0</td><td>0.31</td><td>⋯</td><td>302.5948</td><td>1.64</td><td> 760</td><td>NA</td><td>       NA</td><td>      NA</td><td>60</td><td>652230</td><td>33.93911</td><td>67.70995</td></tr>\n",
       "\t<tr><th scope=row>2</th><td>Afghanistan</td><td>2001</td><td> 4.074574</td><td> 7.2</td><td>8.86</td><td>  130000</td><td>45.60</td><td>0.09</td><td>0</td><td>0.50</td><td>⋯</td><td>236.8919</td><td>1.74</td><td> 730</td><td>NA</td><td>       NA</td><td>      NA</td><td>60</td><td>652230</td><td>33.93911</td><td>67.70995</td></tr>\n",
       "\t<tr><th scope=row>3</th><td>Afghanistan</td><td>2002</td><td> 9.409158</td><td> 8.2</td><td>8.47</td><td> 3950000</td><td>37.83</td><td>0.13</td><td>0</td><td>0.56</td><td>⋯</td><td>210.8622</td><td>1.40</td><td>1030</td><td>NA</td><td>       NA</td><td>179.4266</td><td>60</td><td>652230</td><td>33.93911</td><td>67.70995</td></tr>\n",
       "\t<tr><th scope=row>4</th><td>Afghanistan</td><td>2003</td><td>14.738506</td><td> 9.5</td><td>8.09</td><td>25970000</td><td>36.66</td><td>0.31</td><td>0</td><td>0.63</td><td>⋯</td><td>229.9682</td><td>1.40</td><td>1220</td><td>NA</td><td> 8.832278</td><td>190.6838</td><td>60</td><td>652230</td><td>33.93911</td><td>67.70995</td></tr>\n",
       "\t<tr><th scope=row>5</th><td>Afghanistan</td><td>2004</td><td>20.064968</td><td>10.9</td><td>7.75</td><td>      NA</td><td>44.24</td><td>0.33</td><td>0</td><td>0.56</td><td>⋯</td><td>204.2312</td><td>1.20</td><td>1030</td><td>NA</td><td> 1.414118</td><td>211.3821</td><td>60</td><td>652230</td><td>33.93911</td><td>67.70995</td></tr>\n",
       "\t<tr><th scope=row>6</th><td>Afghanistan</td><td>2005</td><td>25.390894</td><td>12.2</td><td>7.51</td><td> 9830000</td><td>33.88</td><td>0.34</td><td>0</td><td>0.59</td><td>⋯</td><td>252.0691</td><td>1.41</td><td>1550</td><td>NA</td><td>11.229715</td><td>242.0313</td><td>60</td><td>652230</td><td>33.93911</td><td>67.70995</td></tr>\n",
       "</tbody>\n",
       "</table>\n"
      ],
      "text/latex": [
       "A data.frame: 6 × 21\n",
       "\\begin{tabular}{r|lllllllllllllllllllll}\n",
       "  & Entity & Year & Access.to.electricity....of.population. & Access.to.clean.fuels.for.cooking & Renewable.electricity.generating.capacity.per.capita & Financial.flows.to.developing.countries..US... & Renewable.energy.share.in.the.total.final.energy.consumption.... & Electricity.from.fossil.fuels..TWh. & Electricity.from.nuclear..TWh. & Electricity.from.renewables..TWh. & ⋯ & Primary.energy.consumption.per.capita..kWh.person. & Energy.intensity.level.of.primary.energy..MJ..2017.PPP.GDP. & Value\\_co2\\_emissions\\_kt\\_by\\_country & Renewables....equivalent.primary.energy. & gdp\\_growth & gdp\\_per\\_capita & Density.n.P.Km2. & Land.Area.Km2. & Latitude & Longitude\\\\\n",
       "  & <chr> & <int> & <dbl> & <dbl> & <dbl> & <dbl> & <dbl> & <dbl> & <dbl> & <dbl> & ⋯ & <dbl> & <dbl> & <dbl> & <dbl> & <dbl> & <dbl> & <chr> & <int> & <dbl> & <dbl>\\\\\n",
       "\\hline\n",
       "\t1 & Afghanistan & 2000 &  1.613591 &  6.2 & 9.22 &    20000 & 44.99 & 0.16 & 0 & 0.31 & ⋯ & 302.5948 & 1.64 &  760 & NA &        NA &       NA & 60 & 652230 & 33.93911 & 67.70995\\\\\n",
       "\t2 & Afghanistan & 2001 &  4.074574 &  7.2 & 8.86 &   130000 & 45.60 & 0.09 & 0 & 0.50 & ⋯ & 236.8919 & 1.74 &  730 & NA &        NA &       NA & 60 & 652230 & 33.93911 & 67.70995\\\\\n",
       "\t3 & Afghanistan & 2002 &  9.409158 &  8.2 & 8.47 &  3950000 & 37.83 & 0.13 & 0 & 0.56 & ⋯ & 210.8622 & 1.40 & 1030 & NA &        NA & 179.4266 & 60 & 652230 & 33.93911 & 67.70995\\\\\n",
       "\t4 & Afghanistan & 2003 & 14.738506 &  9.5 & 8.09 & 25970000 & 36.66 & 0.31 & 0 & 0.63 & ⋯ & 229.9682 & 1.40 & 1220 & NA &  8.832278 & 190.6838 & 60 & 652230 & 33.93911 & 67.70995\\\\\n",
       "\t5 & Afghanistan & 2004 & 20.064968 & 10.9 & 7.75 &       NA & 44.24 & 0.33 & 0 & 0.56 & ⋯ & 204.2312 & 1.20 & 1030 & NA &  1.414118 & 211.3821 & 60 & 652230 & 33.93911 & 67.70995\\\\\n",
       "\t6 & Afghanistan & 2005 & 25.390894 & 12.2 & 7.51 &  9830000 & 33.88 & 0.34 & 0 & 0.59 & ⋯ & 252.0691 & 1.41 & 1550 & NA & 11.229715 & 242.0313 & 60 & 652230 & 33.93911 & 67.70995\\\\\n",
       "\\end{tabular}\n"
      ],
      "text/markdown": [
       "\n",
       "A data.frame: 6 × 21\n",
       "\n",
       "| <!--/--> | Entity &lt;chr&gt; | Year &lt;int&gt; | Access.to.electricity....of.population. &lt;dbl&gt; | Access.to.clean.fuels.for.cooking &lt;dbl&gt; | Renewable.electricity.generating.capacity.per.capita &lt;dbl&gt; | Financial.flows.to.developing.countries..US... &lt;dbl&gt; | Renewable.energy.share.in.the.total.final.energy.consumption.... &lt;dbl&gt; | Electricity.from.fossil.fuels..TWh. &lt;dbl&gt; | Electricity.from.nuclear..TWh. &lt;dbl&gt; | Electricity.from.renewables..TWh. &lt;dbl&gt; | ⋯ ⋯ | Primary.energy.consumption.per.capita..kWh.person. &lt;dbl&gt; | Energy.intensity.level.of.primary.energy..MJ..2017.PPP.GDP. &lt;dbl&gt; | Value_co2_emissions_kt_by_country &lt;dbl&gt; | Renewables....equivalent.primary.energy. &lt;dbl&gt; | gdp_growth &lt;dbl&gt; | gdp_per_capita &lt;dbl&gt; | Density.n.P.Km2. &lt;chr&gt; | Land.Area.Km2. &lt;int&gt; | Latitude &lt;dbl&gt; | Longitude &lt;dbl&gt; |\n",
       "|---|---|---|---|---|---|---|---|---|---|---|---|---|---|---|---|---|---|---|---|---|---|\n",
       "| 1 | Afghanistan | 2000 |  1.613591 |  6.2 | 9.22 |    20000 | 44.99 | 0.16 | 0 | 0.31 | ⋯ | 302.5948 | 1.64 |  760 | NA |        NA |       NA | 60 | 652230 | 33.93911 | 67.70995 |\n",
       "| 2 | Afghanistan | 2001 |  4.074574 |  7.2 | 8.86 |   130000 | 45.60 | 0.09 | 0 | 0.50 | ⋯ | 236.8919 | 1.74 |  730 | NA |        NA |       NA | 60 | 652230 | 33.93911 | 67.70995 |\n",
       "| 3 | Afghanistan | 2002 |  9.409158 |  8.2 | 8.47 |  3950000 | 37.83 | 0.13 | 0 | 0.56 | ⋯ | 210.8622 | 1.40 | 1030 | NA |        NA | 179.4266 | 60 | 652230 | 33.93911 | 67.70995 |\n",
       "| 4 | Afghanistan | 2003 | 14.738506 |  9.5 | 8.09 | 25970000 | 36.66 | 0.31 | 0 | 0.63 | ⋯ | 229.9682 | 1.40 | 1220 | NA |  8.832278 | 190.6838 | 60 | 652230 | 33.93911 | 67.70995 |\n",
       "| 5 | Afghanistan | 2004 | 20.064968 | 10.9 | 7.75 |       NA | 44.24 | 0.33 | 0 | 0.56 | ⋯ | 204.2312 | 1.20 | 1030 | NA |  1.414118 | 211.3821 | 60 | 652230 | 33.93911 | 67.70995 |\n",
       "| 6 | Afghanistan | 2005 | 25.390894 | 12.2 | 7.51 |  9830000 | 33.88 | 0.34 | 0 | 0.59 | ⋯ | 252.0691 | 1.41 | 1550 | NA | 11.229715 | 242.0313 | 60 | 652230 | 33.93911 | 67.70995 |\n",
       "\n"
      ],
      "text/plain": [
       "  Entity      Year Access.to.electricity....of.population.\n",
       "1 Afghanistan 2000  1.613591                              \n",
       "2 Afghanistan 2001  4.074574                              \n",
       "3 Afghanistan 2002  9.409158                              \n",
       "4 Afghanistan 2003 14.738506                              \n",
       "5 Afghanistan 2004 20.064968                              \n",
       "6 Afghanistan 2005 25.390894                              \n",
       "  Access.to.clean.fuels.for.cooking\n",
       "1  6.2                             \n",
       "2  7.2                             \n",
       "3  8.2                             \n",
       "4  9.5                             \n",
       "5 10.9                             \n",
       "6 12.2                             \n",
       "  Renewable.electricity.generating.capacity.per.capita\n",
       "1 9.22                                                \n",
       "2 8.86                                                \n",
       "3 8.47                                                \n",
       "4 8.09                                                \n",
       "5 7.75                                                \n",
       "6 7.51                                                \n",
       "  Financial.flows.to.developing.countries..US...\n",
       "1    20000                                      \n",
       "2   130000                                      \n",
       "3  3950000                                      \n",
       "4 25970000                                      \n",
       "5       NA                                      \n",
       "6  9830000                                      \n",
       "  Renewable.energy.share.in.the.total.final.energy.consumption....\n",
       "1 44.99                                                           \n",
       "2 45.60                                                           \n",
       "3 37.83                                                           \n",
       "4 36.66                                                           \n",
       "5 44.24                                                           \n",
       "6 33.88                                                           \n",
       "  Electricity.from.fossil.fuels..TWh. Electricity.from.nuclear..TWh.\n",
       "1 0.16                                0                             \n",
       "2 0.09                                0                             \n",
       "3 0.13                                0                             \n",
       "4 0.31                                0                             \n",
       "5 0.33                                0                             \n",
       "6 0.34                                0                             \n",
       "  Electricity.from.renewables..TWh. ⋯\n",
       "1 0.31                              ⋯\n",
       "2 0.50                              ⋯\n",
       "3 0.56                              ⋯\n",
       "4 0.63                              ⋯\n",
       "5 0.56                              ⋯\n",
       "6 0.59                              ⋯\n",
       "  Primary.energy.consumption.per.capita..kWh.person.\n",
       "1 302.5948                                          \n",
       "2 236.8919                                          \n",
       "3 210.8622                                          \n",
       "4 229.9682                                          \n",
       "5 204.2312                                          \n",
       "6 252.0691                                          \n",
       "  Energy.intensity.level.of.primary.energy..MJ..2017.PPP.GDP.\n",
       "1 1.64                                                       \n",
       "2 1.74                                                       \n",
       "3 1.40                                                       \n",
       "4 1.40                                                       \n",
       "5 1.20                                                       \n",
       "6 1.41                                                       \n",
       "  Value_co2_emissions_kt_by_country Renewables....equivalent.primary.energy.\n",
       "1  760                              NA                                      \n",
       "2  730                              NA                                      \n",
       "3 1030                              NA                                      \n",
       "4 1220                              NA                                      \n",
       "5 1030                              NA                                      \n",
       "6 1550                              NA                                      \n",
       "  gdp_growth gdp_per_capita Density.n.P.Km2. Land.Area.Km2. Latitude Longitude\n",
       "1        NA        NA       60               652230         33.93911 67.70995 \n",
       "2        NA        NA       60               652230         33.93911 67.70995 \n",
       "3        NA  179.4266       60               652230         33.93911 67.70995 \n",
       "4  8.832278  190.6838       60               652230         33.93911 67.70995 \n",
       "5  1.414118  211.3821       60               652230         33.93911 67.70995 \n",
       "6 11.229715  242.0313       60               652230         33.93911 67.70995 "
      ]
     },
     "metadata": {},
     "output_type": "display_data"
    }
   ],
   "source": [
    "head(energy)"
   ]
  },
  {
   "cell_type": "markdown",
   "id": "3bbea78b-d8bc-45f0-9ec8-4fe73ca2ef0c",
   "metadata": {},
   "source": [
    "## Renomination des variables pour plus de clarté dans les graphiques "
   ]
  },
  {
   "cell_type": "code",
   "execution_count": 95,
   "id": "198bd8aa-3549-471c-a5f8-a0619c0677a8",
   "metadata": {},
   "outputs": [
    {
     "name": "stdout",
     "output_type": "stream",
     "text": [
      " [1] \"Entity\"                \"Year\"                  \"Access_elec\"          \n",
      " [4] \"Access_fuels\"          \"Renewable_elec\"        \"Financial_flows\"      \n",
      " [7] \"Renewable_energy\"      \"Elec_fossil\"           \"Elec_nuclear\"         \n",
      "[10] \"Elec_renew\"            \"Low_carbon\"            \"Primary_energy\"       \n",
      "[13] \"Energy_intensity\"      \"Value_co2\"             \"Renewables_equivalent\"\n",
      "[16] \"gdp_growth\"            \"gdp_capita\"            \"Density\"              \n",
      "[19] \"Land_area\"             \"Latitude\"              \"Longitude\"            \n"
     ]
    }
   ],
   "source": [
    "# Accès et modification des noms des colonnes\n",
    "column_names=names(energy)\n",
    "#print(column_names)\n",
    "new_column_names=c(\"Entity\", \"Year\",\"Access_elec\",\"Access_fuels\",\"Renewable_elec\",\"Financial_flows\",\"Renewable_energy\",\"Elec_fossil\",\"Elec_nuclear\",\"Elec_renew\",\"Low_carbon\",\"Primary_energy\",\"Energy_intensity\",\"Value_co2\",\"Renewables_equivalent\",\"gdp_growth\",\"gdp_capita\",\"Density\",\"Land_area\",\"Latitude\",\"Longitude\")  # Remplacez ... par les nouveaux noms des colonnes\n",
    "\n",
    "# Réassigner les noms des colonnes\n",
    "names(energy)=new_column_names\n",
    "print(names(energy))"
   ]
  },
  {
   "cell_type": "markdown",
   "id": "8e945483-2382-420a-9cb0-3dd55bed4d94",
   "metadata": {},
   "source": [
    "# Analyse exploratoire"
   ]
  },
  {
   "cell_type": "markdown",
   "id": "465358e3-1a35-4f5c-be96-f1f422edf3b4",
   "metadata": {},
   "source": [
    "## Question 1 "
   ]
  },
  {
   "cell_type": "markdown",
   "id": "ee92bf08-aea7-4d4f-8035-c49fd8c19b74",
   "metadata": {
    "tags": []
   },
   "source": [
    "### Nature des différentes variables"
   ]
  },
  {
   "cell_type": "code",
   "execution_count": 96,
   "id": "4be7a48a-d9a2-47c0-abbc-74a0538dbf35",
   "metadata": {
    "tags": []
   },
   "outputs": [
    {
     "name": "stdout",
     "output_type": "stream",
     "text": [
      "'data.frame':\t3649 obs. of  21 variables:\n",
      " $ Entity               : chr  \"Afghanistan\" \"Afghanistan\" \"Afghanistan\" \"Afghanistan\" ...\n",
      " $ Year                 : int  2000 2001 2002 2003 2004 2005 2006 2007 2008 2009 ...\n",
      " $ Access_elec          : num  1.61 4.07 9.41 14.74 20.06 ...\n",
      " $ Access_fuels         : num  6.2 7.2 8.2 9.5 10.9 ...\n",
      " $ Renewable_elec       : num  9.22 8.86 8.47 8.09 7.75 7.51 7.4 7.25 7.49 7.5 ...\n",
      " $ Financial_flows      : num  20000 130000 3950000 25970000 NA ...\n",
      " $ Renewable_energy     : num  45 45.6 37.8 36.7 44.2 ...\n",
      " $ Elec_fossil          : num  0.16 0.09 0.13 0.31 0.33 0.34 0.2 0.2 0.19 0.16 ...\n",
      " $ Elec_nuclear         : num  0 0 0 0 0 0 0 0 0 0 ...\n",
      " $ Elec_renew           : num  0.31 0.5 0.56 0.63 0.56 0.59 0.64 0.75 0.54 0.78 ...\n",
      " $ Low_carbon           : num  66 84.7 81.2 67 62.9 ...\n",
      " $ Primary_energy       : num  303 237 211 230 204 ...\n",
      " $ Energy_intensity     : num  1.64 1.74 1.4 1.4 1.2 1.41 1.5 1.53 1.94 2.25 ...\n",
      " $ Value_co2            : num  760 730 1030 1220 1030 ...\n",
      " $ Renewables_equivalent: num  NA NA NA NA NA NA NA NA NA NA ...\n",
      " $ gdp_growth           : num  NA NA NA 8.83 1.41 ...\n",
      " $ gdp_capita           : num  NA NA 179 191 211 ...\n",
      " $ Density              : chr  \"60\" \"60\" \"60\" \"60\" ...\n",
      " $ Land_area            : int  652230 652230 652230 652230 652230 652230 652230 652230 652230 652230 ...\n",
      " $ Latitude             : num  33.9 33.9 33.9 33.9 33.9 ...\n",
      " $ Longitude            : num  67.7 67.7 67.7 67.7 67.7 ...\n"
     ]
    }
   ],
   "source": [
    "str(energy)"
   ]
  },
  {
   "cell_type": "markdown",
   "id": "01efd354-5c67-4f74-bb97-d79d5ab7c45f",
   "metadata": {
    "tags": []
   },
   "source": [
    "Nous pouvons voir ici que toutes les variables sont quantitatives à l'exception de \"Entity\" et \"Density\". Cette dernière devrait être plutôt être une variable quanitative"
   ]
  },
  {
   "cell_type": "markdown",
   "id": "47a0ccd4-5098-431f-9030-d6dca77944d8",
   "metadata": {
    "tags": []
   },
   "source": [
    "### Convertir Year en une variable qualitative"
   ]
  },
  {
   "cell_type": "code",
   "execution_count": 97,
   "id": "a3e540a2-e623-46ca-88c8-98e51573c53e",
   "metadata": {
    "tags": []
   },
   "outputs": [],
   "source": [
    "energy$Year = as.factor(energy$Year)"
   ]
  },
  {
   "cell_type": "markdown",
   "id": "a48cda5d-3b12-430d-af16-421dca33af7d",
   "metadata": {
    "tags": []
   },
   "source": [
    "### Convertir Density en une variable numérique"
   ]
  },
  {
   "cell_type": "code",
   "execution_count": 98,
   "id": "aeb43c67-469b-451f-95cb-c68b0b62db3b",
   "metadata": {
    "tags": []
   },
   "outputs": [],
   "source": [
    "energy$Density = as.numeric(gsub(\",\",\"\",energy$Density))"
   ]
  },
  {
   "cell_type": "code",
   "execution_count": 99,
   "id": "df9eb5b1-fa1a-4f8c-bbda-7041e814a029",
   "metadata": {
    "tags": []
   },
   "outputs": [
    {
     "name": "stdout",
     "output_type": "stream",
     "text": [
      "'data.frame':\t3649 obs. of  21 variables:\n",
      " $ Entity               : chr  \"Afghanistan\" \"Afghanistan\" \"Afghanistan\" \"Afghanistan\" ...\n",
      " $ Year                 : Factor w/ 21 levels \"2000\",\"2001\",..: 1 2 3 4 5 6 7 8 9 10 ...\n",
      " $ Access_elec          : num  1.61 4.07 9.41 14.74 20.06 ...\n",
      " $ Access_fuels         : num  6.2 7.2 8.2 9.5 10.9 ...\n",
      " $ Renewable_elec       : num  9.22 8.86 8.47 8.09 7.75 7.51 7.4 7.25 7.49 7.5 ...\n",
      " $ Financial_flows      : num  20000 130000 3950000 25970000 NA ...\n",
      " $ Renewable_energy     : num  45 45.6 37.8 36.7 44.2 ...\n",
      " $ Elec_fossil          : num  0.16 0.09 0.13 0.31 0.33 0.34 0.2 0.2 0.19 0.16 ...\n",
      " $ Elec_nuclear         : num  0 0 0 0 0 0 0 0 0 0 ...\n",
      " $ Elec_renew           : num  0.31 0.5 0.56 0.63 0.56 0.59 0.64 0.75 0.54 0.78 ...\n",
      " $ Low_carbon           : num  66 84.7 81.2 67 62.9 ...\n",
      " $ Primary_energy       : num  303 237 211 230 204 ...\n",
      " $ Energy_intensity     : num  1.64 1.74 1.4 1.4 1.2 1.41 1.5 1.53 1.94 2.25 ...\n",
      " $ Value_co2            : num  760 730 1030 1220 1030 ...\n",
      " $ Renewables_equivalent: num  NA NA NA NA NA NA NA NA NA NA ...\n",
      " $ gdp_growth           : num  NA NA NA 8.83 1.41 ...\n",
      " $ gdp_capita           : num  NA NA 179 191 211 ...\n",
      " $ Density              : num  60 60 60 60 60 60 60 60 60 60 ...\n",
      " $ Land_area            : int  652230 652230 652230 652230 652230 652230 652230 652230 652230 652230 ...\n",
      " $ Latitude             : num  33.9 33.9 33.9 33.9 33.9 ...\n",
      " $ Longitude            : num  67.7 67.7 67.7 67.7 67.7 ...\n"
     ]
    }
   ],
   "source": [
    "str(energy)"
   ]
  },
  {
   "cell_type": "markdown",
   "id": "b14be4fb-e27a-4495-9504-35bdbd60283f",
   "metadata": {},
   "source": [
    "## Question 2"
   ]
  },
  {
   "cell_type": "markdown",
   "id": "fecbc816-086a-4895-8195-275f902b89cf",
   "metadata": {
    "tags": []
   },
   "source": [
    "### Taux de valeurs manquantes"
   ]
  },
  {
   "cell_type": "code",
   "execution_count": 100,
   "id": "474f5aec-aca7-4835-bdca-61605b26ead8",
   "metadata": {
    "tags": []
   },
   "outputs": [
    {
     "data": {
      "text/html": [
       "9.10621305249971"
      ],
      "text/latex": [
       "9.10621305249971"
      ],
      "text/markdown": [
       "9.10621305249971"
      ],
      "text/plain": [
       "[1] 9.106213"
      ]
     },
     "metadata": {},
     "output_type": "display_data"
    }
   ],
   "source": [
    "sum(is.na(energy))*100/(21*3649)"
   ]
  },
  {
   "cell_type": "markdown",
   "id": "70a987cc-5a91-49ae-996e-ca092ce61fc6",
   "metadata": {},
   "source": [
    "### Taux de valeurs manquantes par colonne"
   ]
  },
  {
   "cell_type": "code",
   "execution_count": 101,
   "id": "bd551502-c729-4948-a7fd-70dfbe9b8474",
   "metadata": {
    "tags": []
   },
   "outputs": [
    {
     "name": "stdout",
     "output_type": "stream",
     "text": [
      "Renewables_equivalent       Financial_flows        Renewable_elec \n",
      "                 2137                  2089                   931 \n",
      "            Value_co2            gdp_growth            gdp_capita \n",
      "                  428                   317                   282 \n",
      "     Energy_intensity      Renewable_energy          Access_fuels \n",
      "                  207                   194                   169 \n",
      "         Elec_nuclear            Low_carbon           Elec_fossil \n",
      "                  126                    42                    21 \n",
      "           Elec_renew           Access_elec               Density \n",
      "                   21                    10                     1 \n",
      "            Land_area              Latitude             Longitude \n",
      "                    1                     1                     1 \n",
      "               Entity                  Year        Primary_energy \n",
      "                    0                     0                     0 \n",
      "Renewables_equivalent       Financial_flows        Renewable_elec \n",
      "          58.56399013           57.24856125           25.51383941 \n",
      "            Value_co2            gdp_growth            gdp_capita \n",
      "          11.72924089            8.68731159            7.72814470 \n",
      "     Energy_intensity      Renewable_energy          Access_fuels \n",
      "           5.67278706            5.31652508            4.63140586 \n",
      "         Elec_nuclear            Low_carbon           Elec_fossil \n",
      "           3.45300082            1.15100027            0.57550014 \n",
      "           Elec_renew           Access_elec               Density \n",
      "           0.57550014            0.27404768            0.02740477 \n",
      "            Land_area              Latitude             Longitude \n",
      "           0.02740477            0.02740477            0.02740477 \n",
      "               Entity                  Year        Primary_energy \n",
      "           0.00000000            0.00000000            0.00000000 \n"
     ]
    }
   ],
   "source": [
    "#tx = colMeans(is.na(energy))*100\n",
    "missing = sort(colSums(is.na(energy)),decreasing = TRUE )\n",
    "tx = missing*100/(3649) \n",
    "print(missing)\n",
    "print(tx)"
   ]
  },
  {
   "cell_type": "markdown",
   "id": "85fa90c6-f711-49d4-bf11-7fca9f168359",
   "metadata": {
    "tags": []
   },
   "source": [
    "### Suppression des variables corrompues"
   ]
  },
  {
   "cell_type": "code",
   "execution_count": 102,
   "id": "090dc4c6-b6a8-4b3b-b37c-489024ae350f",
   "metadata": {
    "tags": []
   },
   "outputs": [],
   "source": [
    "energy$Renewable_elec = NULL\n",
    "energy$Financial_flows= NULL\n",
    "energy$Renewables_equivalent = NULL"
   ]
  },
  {
   "cell_type": "markdown",
   "id": "38b81ead-ba76-4750-9d38-f33edd161f5e",
   "metadata": {},
   "source": [
    "## Question 3 "
   ]
  },
  {
   "cell_type": "markdown",
   "id": "e15380a0-50e6-41ab-ae15-172d00e7b46b",
   "metadata": {},
   "source": [
    "### Suppression des individus ayant des valeurs manquantes"
   ]
  },
  {
   "cell_type": "code",
   "execution_count": 103,
   "id": "9857c280-26e2-40d6-bdce-989442358e55",
   "metadata": {
    "tags": []
   },
   "outputs": [],
   "source": [
    "complete_energy = na.omit(energy)"
   ]
  },
  {
   "cell_type": "code",
   "execution_count": 104,
   "id": "59a7b102-bfca-4c51-a219-38138b7a3eaa",
   "metadata": {
    "tags": []
   },
   "outputs": [
    {
     "name": "stdout",
     "output_type": "stream",
     "text": [
      "'data.frame':\t2868 obs. of  18 variables:\n",
      " $ Entity          : chr  \"Afghanistan\" \"Afghanistan\" \"Afghanistan\" \"Afghanistan\" ...\n",
      " $ Year            : Factor w/ 21 levels \"2000\",\"2001\",..: 4 5 6 7 8 9 10 11 12 13 ...\n",
      " $ Access_elec     : num  14.7 20.1 25.4 30.7 36.1 ...\n",
      " $ Access_fuels    : num  9.5 10.9 12.2 13.8 15.3 ...\n",
      " $ Renewable_energy: num  36.7 44.2 33.9 31.9 28.8 ...\n",
      " $ Elec_fossil     : num  0.31 0.33 0.34 0.2 0.2 0.19 0.16 0.19 0.18 0.14 ...\n",
      " $ Elec_nuclear    : num  0 0 0 0 0 0 0 0 0 0 ...\n",
      " $ Elec_renew      : num  0.63 0.56 0.59 0.64 0.75 0.54 0.78 0.75 0.6 0.74 ...\n",
      " $ Low_carbon      : num  67 62.9 63.4 76.2 78.9 ...\n",
      " $ Primary_energy  : num  230 204 252 304 354 ...\n",
      " $ Energy_intensity: num  1.4 1.2 1.41 1.5 1.53 1.94 2.25 2.46 3.23 2.61 ...\n",
      " $ Value_co2       : num  1220 1030 1550 1760 1770 ...\n",
      " $ gdp_growth      : num  8.83 1.41 11.23 5.36 13.83 ...\n",
      " $ gdp_capita      : num  191 211 242 264 360 ...\n",
      " $ Density         : num  60 60 60 60 60 60 60 60 60 60 ...\n",
      " $ Land_area       : int  652230 652230 652230 652230 652230 652230 652230 652230 652230 652230 ...\n",
      " $ Latitude        : num  33.9 33.9 33.9 33.9 33.9 ...\n",
      " $ Longitude       : num  67.7 67.7 67.7 67.7 67.7 ...\n",
      " - attr(*, \"na.action\")= 'omit' Named int [1:781] 1 2 3 21 22 23 24 25 26 27 ...\n",
      "  ..- attr(*, \"names\")= chr [1:781] \"1\" \"2\" \"3\" \"21\" ...\n"
     ]
    }
   ],
   "source": [
    "str(complete_energy)"
   ]
  },
  {
   "cell_type": "markdown",
   "id": "2272b11b-89ce-4010-92c6-2d3b11e6238a",
   "metadata": {},
   "source": [
    "Il y a bien 2868 observations."
   ]
  },
  {
   "cell_type": "code",
   "execution_count": 105,
   "id": "3152e443-3646-4f85-9b10-e6196e57a335",
   "metadata": {
    "tags": []
   },
   "outputs": [
    {
     "data": {
      "text/html": [
       "0"
      ],
      "text/latex": [
       "0"
      ],
      "text/markdown": [
       "0"
      ],
      "text/plain": [
       "[1] 0"
      ]
     },
     "metadata": {},
     "output_type": "display_data"
    }
   ],
   "source": [
    "sum(is.na(complete_energy))*100/(21*3649)"
   ]
  },
  {
   "cell_type": "markdown",
   "id": "763bddaf-4f2e-4515-af2c-03fa2cc34833",
   "metadata": {},
   "source": [
    "On retrouve bien un taux de valeurs manquantes nul. "
   ]
  },
  {
   "cell_type": "markdown",
   "id": "a2453d18-cc3b-42ff-9fe0-da6315df86b3",
   "metadata": {},
   "source": [
    "## Question 5"
   ]
  },
  {
   "cell_type": "markdown",
   "id": "f67646dc-d9ba-4426-80f3-98326d335877",
   "metadata": {
    "tags": []
   },
   "source": [
    "### Hétérogénéité d'émission de CO2 de pays"
   ]
  },
  {
   "cell_type": "code",
   "execution_count": 106,
   "id": "93e4e21d-6b9a-4599-b05f-c8c4fcd546de",
   "metadata": {},
   "outputs": [
    {
     "data": {
      "image/png": "[encoded data removed]",
      "text/plain": [
       "plot without title"
      ]
     },
     "metadata": {
      "image/png": {
       "height": 600,
       "width": 900
      }
     },
     "output_type": "display_data"
    }
   ],
   "source": [
    "ggplot(complete_energy) + \n",
    "  aes(x = Year, y = Value_co2, color = Entity, group = Entity) + \n",
    "  geom_line() + \n",
    "  theme(legend.position = \"right\")\n",
    "#complete energy avec les valeurs transformées mais on garde value_Co2"
   ]
  },
  {
   "cell_type": "code",
   "execution_count": 107,
   "id": "d02b38ed-5e28-4616-bddc-216df979fd4a",
   "metadata": {
    "tags": []
   },
   "outputs": [
    {
     "data": {
      "text/html": [
       "'ecart type'"
      ],
      "text/latex": [
       "'ecart type'"
      ],
      "text/markdown": [
       "'ecart type'"
      ],
      "text/plain": [
       "[1] \"ecart type\""
      ]
     },
     "metadata": {},
     "output_type": "display_data"
    },
    {
     "data": {
      "text/html": [
       "818020.245912554"
      ],
      "text/latex": [
       "818020.245912554"
      ],
      "text/markdown": [
       "818020.245912554"
      ],
      "text/plain": [
       "[1] 818020.2"
      ]
     },
     "metadata": {},
     "output_type": "display_data"
    },
    {
     "data": {
      "text/html": [
       "'moyenne :'"
      ],
      "text/latex": [
       "'moyenne :'"
      ],
      "text/markdown": [
       "'moyenne :'"
      ],
      "text/plain": [
       "[1] \"moyenne :\""
      ]
     },
     "metadata": {},
     "output_type": "display_data"
    },
    {
     "data": {
      "text/html": [
       "168818.21810476"
      ],
      "text/latex": [
       "168818.21810476"
      ],
      "text/markdown": [
       "168818.21810476"
      ],
      "text/plain": [
       "[1] 168818.2"
      ]
     },
     "metadata": {},
     "output_type": "display_data"
    },
    {
     "data": {
      "text/html": [
       "'min'"
      ],
      "text/latex": [
       "'min'"
      ],
      "text/markdown": [
       "'min'"
      ],
      "text/plain": [
       "[1] \"min\""
      ]
     },
     "metadata": {},
     "output_type": "display_data"
    },
    {
     "data": {
      "text/html": [
       "30"
      ],
      "text/latex": [
       "30"
      ],
      "text/markdown": [
       "30"
      ],
      "text/plain": [
       "[1] 30"
      ]
     },
     "metadata": {},
     "output_type": "display_data"
    },
    {
     "data": {
      "text/html": [
       "'max'"
      ],
      "text/latex": [
       "'max'"
      ],
      "text/markdown": [
       "'max'"
      ],
      "text/plain": [
       "[1] \"max\""
      ]
     },
     "metadata": {},
     "output_type": "display_data"
    },
    {
     "data": {
      "text/html": [
       "10707219.73"
      ],
      "text/latex": [
       "10707219.73"
      ],
      "text/markdown": [
       "10707219.73"
      ],
      "text/plain": [
       "[1] 10707220"
      ]
     },
     "metadata": {},
     "output_type": "display_data"
    }
   ],
   "source": [
    "paste('ecart type')\n",
    "sd(complete_energy$Value_co2)\n",
    "paste('moyenne :')\n",
    "mean(complete_energy$Value_co2)\n",
    "paste('min')\n",
    "min(complete_energy$Value_co2)\n",
    "paste('max')\n",
    "max(complete_energy$Value_co2)"
   ]
  },
  {
   "cell_type": "markdown",
   "id": "e5371fd4-a71d-4a83-9882-dd4ea8bbab0e",
   "metadata": {},
   "source": [
    "Ici nous pouvons observer que l'écart type de la variable Value CO2 est très grande, ce qui témoigne d'une hétérogéneité des valeurs par rapport à la répartition moyenne. De plus le graphique que les 5 pays ayant une emission de CO2 la plus importante sont : Chine / Etats-Unis / Inde / Japon / Allemagne"
   ]
  },
  {
   "cell_type": "markdown",
   "id": "23ff02d8-5b45-4bc6-acd4-156e7e53b5b6",
   "metadata": {},
   "source": [
    "### Les pays les plus émetteurs de CO2"
   ]
  },
  {
   "cell_type": "code",
   "execution_count": 108,
   "id": "98f30cd3-43d9-4cdd-a82e-b5881f55dc1c",
   "metadata": {
    "tags": []
   },
   "outputs": [
    {
     "data": {
      "text/html": [
       "<table class=\"dataframe\">\n",
       "<caption>A data.frame: 6 × 2</caption>\n",
       "<thead>\n",
       "\t<tr><th></th><th scope=col>Entity</th><th scope=col>Value_co2</th></tr>\n",
       "\t<tr><th></th><th scope=col>&lt;chr&gt;</th><th scope=col>&lt;dbl&gt;</th></tr>\n",
       "</thead>\n",
       "<tbody>\n",
       "\t<tr><th scope=row>28</th><td>China        </td><td>7636642.5</td></tr>\n",
       "\t<tr><th scope=row>143</th><td>United States</td><td>5329538.5</td></tr>\n",
       "\t<tr><th scope=row>63</th><td>India        </td><td>1633979.0</td></tr>\n",
       "\t<tr><th scope=row>69</th><td>Japan        </td><td>1183734.5</td></tr>\n",
       "\t<tr><th scope=row>51</th><td>Germany      </td><td> 773644.5</td></tr>\n",
       "\t<tr><th scope=row>25</th><td>Canada       </td><td> 547644.5</td></tr>\n",
       "</tbody>\n",
       "</table>\n"
      ],
      "text/latex": [
       "A data.frame: 6 × 2\n",
       "\\begin{tabular}{r|ll}\n",
       "  & Entity & Value\\_co2\\\\\n",
       "  & <chr> & <dbl>\\\\\n",
       "\\hline\n",
       "\t28 & China         & 7636642.5\\\\\n",
       "\t143 & United States & 5329538.5\\\\\n",
       "\t63 & India         & 1633979.0\\\\\n",
       "\t69 & Japan         & 1183734.5\\\\\n",
       "\t51 & Germany       &  773644.5\\\\\n",
       "\t25 & Canada        &  547644.5\\\\\n",
       "\\end{tabular}\n"
      ],
      "text/markdown": [
       "\n",
       "A data.frame: 6 × 2\n",
       "\n",
       "| <!--/--> | Entity &lt;chr&gt; | Value_co2 &lt;dbl&gt; |\n",
       "|---|---|---|\n",
       "| 28 | China         | 7636642.5 |\n",
       "| 143 | United States | 5329538.5 |\n",
       "| 63 | India         | 1633979.0 |\n",
       "| 69 | Japan         | 1183734.5 |\n",
       "| 51 | Germany       |  773644.5 |\n",
       "| 25 | Canada        |  547644.5 |\n",
       "\n"
      ],
      "text/plain": [
       "    Entity        Value_co2\n",
       "28  China         7636642.5\n",
       "143 United States 5329538.5\n",
       "63  India         1633979.0\n",
       "69  Japan         1183734.5\n",
       "51  Germany        773644.5\n",
       "25  Canada         547644.5"
      ]
     },
     "metadata": {},
     "output_type": "display_data"
    },
    {
     "data": {
      "image/png": "[encoded data removed]",
      "text/plain": [
       "plot without title"
      ]
     },
     "metadata": {
      "image/png": {
       "height": 600,
       "width": 900
      }
     },
     "output_type": "display_data"
    }
   ],
   "source": [
    "Moy = aggregate(data=complete_energy,Value_co2~Entity,FUN=mean)\n",
    "index = order(Moy$Value_co2, decreasing = TRUE )\n",
    "Moy_classe = Moy[index,]\n",
    "head(Moy_classe)\n",
    "barplot(Moy[,2])"
   ]
  },
  {
   "cell_type": "code",
   "execution_count": 109,
   "id": "9153bb3b-0c89-461f-9819-e24677440b93",
   "metadata": {
    "tags": []
   },
   "outputs": [],
   "source": []
  },
  {
   "cell_type": "markdown",
   "id": "ac179192-32c4-47fd-8d02-55c65418d124",
   "metadata": {},
   "source": [
    "## Question 4"
   ]
  },
  {
   "cell_type": "markdown",
   "id": "552beaaf-66dc-42f3-942b-4901a6697ce2",
   "metadata": {},
   "source": [
    "### Analyse descriptive unidimensionnelle"
   ]
  },
  {
   "cell_type": "markdown",
   "id": "2e67a75c-0f95-4f62-a1ce-082c337b172b",
   "metadata": {},
   "source": [
    "#### Variables qualitatives : Year et Entity "
   ]
  },
  {
   "cell_type": "code",
   "execution_count": 110,
   "id": "46262bea-9f9f-438a-9907-284663d959ef",
   "metadata": {
    "tags": []
   },
   "outputs": [
    {
     "name": "stdout",
     "output_type": "stream",
     "text": [
      "\n",
      "2000 2001 2002 2003 2004 2005 2006 2007 2008 2009 2010 2011 2012 2013 2014 2015 \n",
      " 137  138  140  141  141  141  141  144  144  144  145  145  144  145  147  147 \n",
      "2016 2017 2018 2019 2020 \n",
      " 146  146  146  146    0 \n"
     ]
    },
    {
     "data": {
      "image/png": "[encoded data removed]",
      "text/plain": [
       "plot without title"
      ]
     },
     "metadata": {
      "image/png": {
       "height": 600,
       "width": 900
      }
     },
     "output_type": "display_data"
    }
   ],
   "source": [
    "occ_y = table(complete_energy$Year)\n",
    "print(occ_y)\n",
    "barplot(occ_y, col=\"gold\")"
   ]
  },
  {
   "cell_type": "markdown",
   "id": "5c080fa6-dff9-49b1-9ba8-9c78d2a8417e",
   "metadata": {},
   "source": [
    "Chaque année n'a pas le même nombre d'observations."
   ]
  },
  {
   "cell_type": "code",
   "execution_count": 111,
   "id": "a559e97b-2f8d-4888-9608-aa3d60716c39",
   "metadata": {
    "tags": []
   },
   "outputs": [
    {
     "data": {
      "image/png": "[encoded data removed]",
      "text/plain": [
       "plot without title"
      ]
     },
     "metadata": {
      "image/png": {
       "height": 600,
       "width": 900
      }
     },
     "output_type": "display_data"
    }
   ],
   "source": [
    "occ_e = table(complete_energy$Entity)\n",
    "#print(occ_e)\n",
    "barplot(occ_e,col = \"darkorchid\")\n"
   ]
  },
  {
   "cell_type": "code",
   "execution_count": 112,
   "id": "95dab1e5-4f01-4f2c-a686-a9e42b7ff688",
   "metadata": {
    "tags": []
   },
   "outputs": [
    {
     "data": {
      "image/png": "[encoded data removed]",
      "text/plain": [
       "plot without title"
      ]
     },
     "metadata": {
      "image/png": {
       "height": 600,
       "width": 900
      }
     },
     "output_type": "display_data"
    }
   ],
   "source": [
    "occ_e20 = occ_e[occ_e<20]\n",
    "barplot(occ_e20,col = \"darkorchid\")"
   ]
  },
  {
   "cell_type": "markdown",
   "id": "7b13d740-0e48-4d47-b300-c61e271ef65e",
   "metadata": {},
   "source": [
    "Chaque pays n'a pas le même nombre d'observations. Il y en a 12 qui n'ont pas été observés durant les 20 années de l'étude"
   ]
  },
  {
   "cell_type": "markdown",
   "id": "07498e18-6982-4431-be54-144d47c99868",
   "metadata": {},
   "source": [
    "#### Pour les variables quantitatives"
   ]
  },
  {
   "cell_type": "code",
   "execution_count": 113,
   "id": "58a205a1-19a8-425e-9b7a-bcac72dca9b9",
   "metadata": {
    "tags": []
   },
   "outputs": [
    {
     "data": {
      "text/plain": [
       "    Entity               Year       Access_elec       Access_fuels   \n",
       " Length:2868        2014   : 147   Min.   :  1.252   Min.   :  0.00  \n",
       " Class :character   2015   : 147   1st Qu.: 53.238   1st Qu.: 22.07  \n",
       " Mode  :character   2016   : 146   Median : 97.000   Median : 81.55  \n",
       "                    2017   : 146   Mean   : 76.585   Mean   : 62.17  \n",
       "                    2018   : 146   3rd Qu.:100.000   3rd Qu.:100.00  \n",
       "                    2019   : 146   Max.   :100.000   Max.   :100.00  \n",
       "                    (Other):1990                                     \n",
       " Renewable_energy  Elec_fossil        Elec_nuclear      Elec_renew     \n",
       " Min.   : 0.000   Min.   :   0.000   Min.   :  0.00   Min.   :   0.00  \n",
       " 1st Qu.: 9.188   1st Qu.:   0.290   1st Qu.:  0.00   1st Qu.:   0.09  \n",
       " Median :28.790   Median :   2.995   Median :  0.00   Median :   1.68  \n",
       " Mean   :35.802   Mean   :  76.694   Mean   : 15.34   Mean   :  26.60  \n",
       " 3rd Qu.:60.667   3rd Qu.:  25.788   3rd Qu.:  0.00   3rd Qu.:  10.10  \n",
       " Max.   :96.040   Max.   :5098.220   Max.   :809.41   Max.   :2014.57  \n",
       "                                                                       \n",
       "   Low_carbon      Primary_energy     Energy_intensity   gdp_growth     \n",
       " Min.   :  0.000   Min.   :   105.1   Min.   : 1.030   Min.   :-36.658  \n",
       " 1st Qu.:  6.091   1st Qu.:  2780.0   1st Qu.: 3.280   1st Qu.:  1.771  \n",
       " Median : 35.010   Median : 11922.8   Median : 4.400   Median :  3.788  \n",
       " Mean   : 39.629   Mean   : 26082.5   Mean   : 5.418   Mean   :  3.895  \n",
       " 3rd Qu.: 66.879   3rd Qu.: 31838.6   3rd Qu.: 6.140   3rd Qu.:  5.957  \n",
       " Max.   :100.000   Max.   :262585.7   Max.   :32.570   Max.   : 63.380  \n",
       "                                                                        \n",
       "   gdp_capita          Density         Land_area          Latitude      \n",
       " Min.   :   111.9   Min.   :   2.0   Min.   :     21   Min.   :-40.901  \n",
       " 1st Qu.:  1209.8   1st Qu.:  31.0   1st Qu.:  29743   1st Qu.:  1.651  \n",
       " Median :  4168.1   Median :  83.0   Median : 131957   Median : 17.061  \n",
       " Mean   : 12577.0   Mean   : 228.2   Mean   : 658167   Mean   : 18.140  \n",
       " 3rd Qu.: 14828.3   3rd Qu.: 206.0   3rd Qu.: 488100   3rd Qu.: 39.400  \n",
       " Max.   :123514.2   Max.   :8358.0   Max.   :9984670   Max.   : 64.963  \n",
       "                                                                        \n",
       "   Longitude      \n",
       " Min.   :-175.20  \n",
       " 1st Qu.: -10.94  \n",
       " Median :  18.64  \n",
       " Mean   :  12.97  \n",
       " 3rd Qu.:  43.68  \n",
       " Max.   : 178.07  \n",
       "                  "
      ]
     },
     "metadata": {},
     "output_type": "display_data"
    }
   ],
   "source": [
    "summary(complete_energy)"
   ]
  },
  {
   "cell_type": "code",
   "execution_count": 114,
   "id": "6dd22646-8911-4a4d-9dde-1b266a5cc381",
   "metadata": {
    "tags": []
   },
   "outputs": [
    {
     "data": {
      "image/png": "[encoded data removed]",
      "text/plain": [
       "Plot with title “Longitude”"
      ]
     },
     "metadata": {
      "image/png": {
       "height": 600,
       "width": 900
      }
     },
     "output_type": "display_data"
    }
   ],
   "source": [
    "par(mfrow = c(6,3) , mar = c(4,4,2,1))\n",
    "\n",
    "for (i in 3:length(names(complete_energy))) {\n",
    "    dfi = complete_energy[,c(i)]\n",
    "    hist(dfi, main=names(complete_energy)[i],xlab='Values')\n",
    "}"
   ]
  },
  {
   "cell_type": "code",
   "execution_count": 115,
   "id": "a7b9161f-dc42-461a-b271-2205831738b6",
   "metadata": {
    "tags": []
   },
   "outputs": [
    {
     "data": {
      "image/png": "[encoded data removed]",
      "text/plain": [
       "plot without title"
      ]
     },
     "metadata": {
      "image/png": {
       "height": 600,
       "width": 900
      }
     },
     "output_type": "display_data"
    }
   ],
   "source": [
    "options(repr.plot.width = 15, repr.plot.height = 10)\n",
    "\n",
    "df = complete_energy[,-c(1,2)]\n",
    "boxplot(df)"
   ]
  },
  {
   "cell_type": "code",
   "execution_count": 116,
   "id": "84cae828-ba87-46a1-b704-a583a084279c",
   "metadata": {
    "tags": []
   },
   "outputs": [
    {
     "name": "stderr",
     "output_type": "stream",
     "text": [
      "Warning message in min(x):\n",
      "“aucun argument trouvé pour min ; Inf est renvoyé”\n",
      "Warning message in max(x):\n",
      "“aucun argument pour max ; -Inf est renvoyé”\n"
     ]
    },
    {
     "ename": "ERROR",
     "evalue": "Error in plot.window(xlim = xlim, ylim = ylim, log = log, yaxs = pars$yaxs): valeurs finies requises pour 'ylim'\n",
     "output_type": "error",
     "traceback": [
      "Error in plot.window(xlim = xlim, ylim = ylim, log = log, yaxs = pars$yaxs): valeurs finies requises pour 'ylim'\nTraceback:\n",
      "1. boxplot(df$Value_co2)",
      "2. boxplot.default(df$Value_co2)",
      "3. do.call(bxp, c(list(z, notch = notch, width = width, varwidth = varwidth, \n .     log = log, border = border, pars = pars, outline = outline, \n .     horizontal = horizontal, add = add, ann = ann, at = at), \n .     args[namedargs]), quote = TRUE)",
      "4. (function (z, notch = FALSE, width = NULL, varwidth = FALSE, \n .     outline = TRUE, notch.frac = 0.5, log = \"\", border = par(\"fg\"), \n .     pars = NULL, frame.plot = axes, horizontal = FALSE, ann = TRUE, \n .     add = FALSE, at = NULL, show.names = NULL, ...) \n . {\n .     pars <- as.list(pars)\n .     if (...length()) {\n .         nmsA <- names(args <- list(...))\n .         if (anyDuplicated(nmsA)) {\n .             iD <- duplicated(nmsA)\n .             warning(sprintf(ngettext(sum(iD), \"Duplicated argument %s is disregarded\", \n .                 \"Duplicated arguments %s are disregarded\"), sub(\"^list\\\\((.*)\\\\)\", \n .                 \"\\\\1\", deparse(args[iD]))), domain = NA)\n .             nmsA <- names(args <- args[!iD])\n .         }\n .         pars[nmsA] <- args\n .     }\n .     bplt <- function(x, wid, stats, out, conf, notch, xlog, i) {\n .         ok <- TRUE\n .         if (!anyNA(stats)) {\n .             xP <- if (xlog) \n .                 function(x, w) x * exp(w)\n .             else function(x, w) x + w\n .             wid <- wid/2\n .             if (notch) {\n .                 ok <- stats[2L] <= conf[1L] && conf[2L] <= stats[4L]\n .                 xx <- xP(x, wid * c(-1, 1, 1, notch.frac, 1, \n .                   1, -1, -1, -notch.frac, -1))\n .                 yy <- c(stats[c(2, 2)], conf[1L], stats[3L], \n .                   conf[2L], stats[c(4, 4)], conf[2L], stats[3L], \n .                   conf[1L])\n .             }\n .             else {\n .                 xx <- xP(x, wid * c(-1, 1, 1, -1))\n .                 yy <- stats[c(2, 2, 4, 4)]\n .             }\n .             if (!notch) \n .                 notch.frac <- 1\n .             wntch <- notch.frac * wid\n .             xypolygon(xx, yy, lty = \"blank\", col = boxfill[i])\n .             xysegments(xP(x, -wntch), stats[3L], xP(x, +wntch), \n .                 stats[3L], lty = medlty[i], lwd = medlwd[i], \n .                 col = medcol[i], lend = 1)\n .             xypoints(x, stats[3L], pch = medpch[i], cex = medcex[i], \n .                 col = medcol[i], bg = medbg[i])\n .             xysegments(rep.int(x, 2), stats[c(1, 5)], rep.int(x, \n .                 2), stats[c(2, 4)], lty = whisklty[i], lwd = whisklwd[i], \n .                 col = whiskcol[i])\n .             xysegments(rep.int(xP(x, -wid * staplewex[i]), 2), \n .                 stats[c(1, 5)], rep.int(xP(x, +wid * staplewex[i]), \n .                   2), stats[c(1, 5)], lty = staplelty[i], lwd = staplelwd[i], \n .                 col = staplecol[i])\n .             xypolygon(xx, yy, lty = boxlty[i], lwd = boxlwd[i], \n .                 border = boxcol[i])\n .             if ((nout <- length(out))) {\n .                 xysegments(rep(x - wid * outwex, nout), out, \n .                   rep(x + wid * outwex, nout), out, lty = outlty[i], \n .                   lwd = outlwd[i], col = outcol[i])\n .                 xypoints(rep.int(x, nout), out, pch = outpch[i], \n .                   lwd = outlwd[i], cex = outcex[i], col = outcol[i], \n .                   bg = outbg[i])\n .             }\n .             if (any(inf <- !is.finite(out))) {\n .                 warning(sprintf(ngettext(length(unique(out[inf])), \n .                   \"Outlier (%s) in boxplot %d is not drawn\", \n .                   \"Outliers (%s) in boxplot %d are not drawn\"), \n .                   paste(unique(out[inf]), collapse = \", \"), i), \n .                   domain = NA)\n .             }\n .         }\n .         return(ok)\n .     }\n .     if (!is.list(z) || 0L == (n <- length(z$n))) \n .         stop(\"invalid first argument\")\n .     if (is.null(at)) \n .         at <- 1L:n\n .     else if (length(at) != n) \n .         stop(gettextf(\"'at' must have same length as 'z$n', i.e. %d\", \n .             n), domain = NA)\n .     if (is.null(z$out)) \n .         z$out <- numeric()\n .     if (is.null(z$group) || !outline) \n .         z$group <- integer()\n .     if (is.null(pars$ylim)) \n .         ylim <- range(z$stats[is.finite(z$stats)], if (outline) z$out[is.finite(z$out)], \n .             if (notch) z$conf[is.finite(z$conf)])\n .     else {\n .         ylim <- pars$ylim\n .         pars$ylim <- NULL\n .     }\n .     if (length(border) == 0L) \n .         border <- par(\"fg\")\n .     dev.hold()\n .     on.exit(dev.flush())\n .     if (!add) {\n .         if (is.null(pars$xlim)) \n .             xlim <- range(at, finite = TRUE) + c(-0.5, 0.5)\n .         else {\n .             xlim <- pars$xlim\n .             pars$xlim <- NULL\n .         }\n .         plot.new()\n .         if (horizontal) \n .             plot.window(ylim = xlim, xlim = ylim, log = log, \n .                 xaxs = pars$yaxs)\n .         else plot.window(xlim = xlim, ylim = ylim, log = log, \n .             yaxs = pars$yaxs)\n .     }\n .     xlog <- (par(\"ylog\") && horizontal) || (par(\"xlog\") && !horizontal)\n .     pcycle <- function(p, def1, def2 = NULL) rep(if (length(p)) p else if (length(def1)) def1 else def2, \n .         length.out = n)\n .     p <- function(sym) pars[[sym, exact = TRUE]]\n .     boxlty <- pcycle(pars$boxlty, p(\"lty\"), par(\"lty\"))\n .     boxlwd <- pcycle(pars$boxlwd, p(\"lwd\"), par(\"lwd\"))\n .     boxcol <- pcycle(pars$boxcol, border)\n .     boxfill <- pcycle(pars$boxfill, par(\"bg\"))\n .     boxwex <- pcycle(pars$boxwex, 0.8 * {\n .         if (n <= 1) \n .             1\n .         else stats::quantile(diff(sort(if (xlog) \n .             log(at)\n .         else at)), 0.1)\n .     })\n .     medlty <- pcycle(pars$medlty, p(\"lty\"), par(\"lty\"))\n .     medlwd <- pcycle(pars$medlwd, 3 * p(\"lwd\"), 3 * par(\"lwd\"))\n .     medpch <- pcycle(pars$medpch, NA_integer_)\n .     medcex <- pcycle(pars$medcex, p(\"cex\"), par(\"cex\"))\n .     medcol <- pcycle(pars$medcol, border)\n .     medbg <- pcycle(pars$medbg, p(\"bg\"), par(\"bg\"))\n .     whisklty <- pcycle(pars$whisklty, p(\"lty\"), \"dashed\")\n .     whisklwd <- pcycle(pars$whisklwd, p(\"lwd\"), par(\"lwd\"))\n .     whiskcol <- pcycle(pars$whiskcol, border)\n .     staplelty <- pcycle(pars$staplelty, p(\"lty\"), par(\"lty\"))\n .     staplelwd <- pcycle(pars$staplelwd, p(\"lwd\"), par(\"lwd\"))\n .     staplecol <- pcycle(pars$staplecol, border)\n .     staplewex <- pcycle(pars$staplewex, 0.5)\n .     outlty <- pcycle(pars$outlty, \"blank\")\n .     outlwd <- pcycle(pars$outlwd, p(\"lwd\"), par(\"lwd\"))\n .     outpch <- pcycle(pars$outpch, p(\"pch\"), par(\"pch\"))\n .     outcex <- pcycle(pars$outcex, p(\"cex\"), par(\"cex\"))\n .     outcol <- pcycle(pars$outcol, border)\n .     outbg <- pcycle(pars$outbg, p(\"bg\"), par(\"bg\"))\n .     outwex <- pcycle(pars$outwex, 0.5)\n .     width <- if (!is.null(width)) {\n .         if (length(width) != n || anyNA(width) || any(width <= \n .             0)) \n .             stop(\"invalid boxplot widths\")\n .         boxwex * width/max(width)\n .     }\n .     else if (varwidth) \n .         boxwex * sqrt(z$n/max(z$n))\n .     else if (n == 1) \n .         0.5 * boxwex\n .     else rep.int(boxwex, n)\n .     if (horizontal) {\n .         xypoints <- function(x, y, ...) points(y, x, ...)\n .         xypolygon <- function(x, y, ...) polygon(y, x, ...)\n .         xysegments <- function(x0, y0, x1, y1, ...) segments(y0, \n .             x0, y1, x1, ...)\n .     }\n .     else {\n .         xypoints <- points\n .         xypolygon <- polygon\n .         xysegments <- segments\n .     }\n .     ok <- TRUE\n .     for (i in 1L:n) ok <- ok & bplt(at[i], wid = width[i], stats = z$stats[, \n .         i], out = z$out[z$group == i], conf = z$conf[, i], notch = notch, \n .         xlog = xlog, i = i)\n .     if (!ok) \n .         warning(\"some notches went outside hinges ('box'): maybe set notch=FALSE\")\n .     axes <- is.null(pars$axes)\n .     if (!axes) {\n .         axes <- pars$axes\n .         pars$axes <- NULL\n .     }\n .     if (axes) {\n .         ax.pars <- pars[names(pars) %in% c(\"xaxt\", \"yaxt\", \"xaxp\", \n .             \"yaxp\", \"gap.axis\", \"las\", \"cex.axis\", \"col.axis\", \n .             \"format\")]\n .         if (is.null(show.names)) \n .             show.names <- n > 1\n .         if (show.names) \n .             do.call(\"axis\", c(list(side = 1 + horizontal, at = at, \n .                 labels = z$names), ax.pars), quote = TRUE)\n .         do.call(\"Axis\", c(list(x = z$stats, side = 2 - horizontal), \n .             ax.pars), quote = TRUE)\n .     }\n .     if (ann) \n .         do.call(title, pars[names(pars) %in% c(\"main\", \"cex.main\", \n .             \"col.main\", \"sub\", \"cex.sub\", \"col.sub\", \"xlab\", \n .             \"ylab\", \"cex.lab\", \"col.lab\")], quote = TRUE)\n .     if (frame.plot) \n .         box()\n .     invisible(at)\n . })(base::quote(list(stats = structure(c(NA_real_, NA_real_, NA_real_, \n . NA_real_, NA_real_), dim = c(5L, 1L)), n = 0, conf = structure(c(NA_real_, \n . NA_real_), dim = 2:1), out = numeric(0), group = numeric(0), \n .     names = \"1\")), notch = base::quote(FALSE), width = base::quote(NULL), \n .     varwidth = base::quote(FALSE), log = base::quote(\"\"), border = base::quote(\"black\"), \n .     pars = base::quote(list(boxwex = 0.8, staplewex = 0.5, outwex = 0.5, \n .         boxfill = \"lightgray\")), outline = base::quote(TRUE), \n .     horizontal = base::quote(FALSE), add = base::quote(FALSE), \n .     ann = base::quote(TRUE), at = base::quote(NULL))",
      "5. plot.window(xlim = xlim, ylim = ylim, log = log, yaxs = pars$yaxs)"
     ]
    },
    {
     "data": {
      "image/png": "[encoded data removed]",
      "text/plain": [
       "plot without title"
      ]
     },
     "metadata": {
      "image/png": {
       "height": 600,
       "width": 900
      }
     },
     "output_type": "display_data"
    }
   ],
   "source": [
    "boxplot(df$Value_co2)"
   ]
  },
  {
   "cell_type": "markdown",
   "id": "69888a60-5ae8-4fb7-86c2-f60b783dfae6",
   "metadata": {},
   "source": [
    "Les échelles de valeurs sont très différentes en fonction des variables que nous regardons dans notre energyset, nos avons choisi de nous focaliser sur Value_CO2 et nous voyons que celle-ci est composée de beaucoup d'outliers. Donc l'observation en boxplot n'est pas forcément pertinente."
   ]
  },
  {
   "cell_type": "markdown",
   "id": "2694fd2f-fdfb-4cf7-98f7-d15e07e3d79c",
   "metadata": {},
   "source": [
    "##### Transformation des variables"
   ]
  },
  {
   "cell_type": "code",
   "execution_count": null,
   "id": "10fbdef0-73b5-4a9b-9f69-37ba51f8876c",
   "metadata": {
    "tags": []
   },
   "outputs": [],
   "source": [
    "complete_energy[, \"SAccess_elec\"] = log(complete_energy[, \"Access_elec\"])\n",
    "\n",
    "g1 = ggplot(complete_energy,aes(x=Access_elec))+ geom_histogram(aes(y=..density..),binwidth = 5)+geom_density(alpha=.1,col=\"blue\") \n",
    "g2 = ggplot(complete_energy,aes(x=SAccess_elec))+ geom_histogram(aes(y=..density..),binwidth = 0.2)+geom_density(alpha=.1, col=\"blue\") \n",
    "\n",
    "grid.arrange(g1,g2,ncol=2)"
   ]
  },
  {
   "cell_type": "code",
   "execution_count": null,
   "id": "ab2337b4-b8f7-4d47-a500-396ba82987f0",
   "metadata": {
    "tags": []
   },
   "outputs": [],
   "source": [
    "complete_energy[, \"SAccess_fuels\"] = log(1+complete_energy[, \"Access_fuels\"])\n",
    "\n",
    "g1 = ggplot(complete_energy,aes(x=Access_fuels))+ geom_histogram(aes(y=..density..),binwidth = 5)+geom_density(alpha=.1,col=\"blue\") \n",
    "g2 = ggplot(complete_energy,aes(x=SAccess_fuels))+ geom_histogram(aes(y=..density..),binwidth = 0.2)+geom_density(alpha=.1, col=\"blue\") \n",
    "\n",
    "grid.arrange(g1,g2,ncol=2)"
   ]
  },
  {
   "cell_type": "code",
   "execution_count": null,
   "id": "5f7008d4-0de6-41bb-a3bf-7a1f5ba8d08d",
   "metadata": {
    "tags": []
   },
   "outputs": [],
   "source": [
    "complete_energy[, \"SRenewable_energy\"] = sqrt(complete_energy[, \"Renewable_energy\"])\n",
    "\n",
    "g1 = ggplot(complete_energy,aes(x=Renewable_energy))+ geom_histogram(aes(y=..density..),binwidth = 5)+geom_density(alpha=.1,col=\"blue\") \n",
    "g2 = ggplot(complete_energy,aes(x=SRenewable_energy))+ geom_histogram(aes(y=..density..),binwidth = 0.5)+geom_density(alpha=.1, col=\"blue\") \n",
    "grid.arrange(g1,g2,ncol=2)"
   ]
  },
  {
   "cell_type": "code",
   "execution_count": null,
   "id": "222bff85-ee83-47a1-9d0c-c845ec9f4c17",
   "metadata": {
    "tags": []
   },
   "outputs": [],
   "source": [
    "complete_energy[, \"SElec_fossil\"] = sqrt(complete_energy[, \"Elec_fossil\"])\n",
    "\n",
    "g1 = ggplot(complete_energy,aes(x=Elec_fossil))+ geom_histogram(aes(y=..density..),binwidth = 25)+geom_density(alpha=.1,col=\"blue\") \n",
    "g2 = ggplot(complete_energy,aes(x=SElec_fossil))+ geom_histogram(aes(y=..density..),binwidth = 1)+geom_density(alpha=.1, col=\"blue\") \n",
    "\n",
    "grid.arrange(g1,g2,ncol=2)"
   ]
  },
  {
   "cell_type": "code",
   "execution_count": null,
   "id": "1b7d172f-7cac-4146-b92c-97b8e4aa40e8",
   "metadata": {
    "tags": []
   },
   "outputs": [],
   "source": [
    "complete_energy[, \"SElec_nuclear\"] = log(1+complete_energy[, \"Elec_nuclear\"])\n",
    "\n",
    "g1 = ggplot(complete_energy,aes(x=Elec_nuclear))+ geom_histogram(aes(y=..density..),binwidth = 25)+geom_density(alpha=.1,col=\"blue\") \n",
    "g2 = ggplot(complete_energy,aes(x=SElec_nuclear))+ geom_histogram(aes(y=..density..),binwidth = 0.5)+geom_density(alpha=.1, col=\"blue\") \n",
    "\n",
    "grid.arrange(g1,g2,ncol=2)"
   ]
  },
  {
   "cell_type": "code",
   "execution_count": null,
   "id": "51c0d9cb-b7a7-413d-87ec-395cab357bd9",
   "metadata": {
    "tags": []
   },
   "outputs": [],
   "source": [
    "complete_energy[, \"SElec_renew\"] = log(1+complete_energy[, \"Elec_renew\"])\n",
    "\n",
    "g1 = ggplot(complete_energy,aes(x=Elec_renew))+ geom_histogram(aes(y=..density..),binwidth = 10)+geom_density(alpha=.1,col=\"blue\") \n",
    "g2 = ggplot(complete_energy,aes(x=SElec_renew))+ geom_histogram(aes(y=..density..),binwidth = 0.5)+geom_density(alpha=.1, col=\"blue\") \n",
    "\n",
    "grid.arrange(g1,g2,ncol=2)"
   ]
  },
  {
   "cell_type": "code",
   "execution_count": null,
   "id": "c12e26b0-3e24-4cd7-82d3-898fbd827284",
   "metadata": {
    "tags": []
   },
   "outputs": [],
   "source": [
    "complete_energy[, \"SLow_carbon\"] = sqrt(complete_energy[, \"Low_carbon\"])\n",
    "\n",
    "g1 = ggplot(complete_energy,aes(x=Low_carbon))+ geom_histogram(aes(y=..density..),binwidth = 5)+geom_density(alpha=.1,col=\"blue\") \n",
    "g2 = ggplot(complete_energy,aes(x=SLow_carbon))+ geom_histogram(aes(y=..density..),binwidth = 0.2)+geom_density(alpha=.1, col=\"blue\") \n",
    "\n",
    "grid.arrange(g1,g2,ncol=2)"
   ]
  },
  {
   "cell_type": "code",
   "execution_count": null,
   "id": "e0f19320-9a1c-43cf-9d06-33ee3f0f6b39",
   "metadata": {
    "tags": []
   },
   "outputs": [],
   "source": [
    "complete_energy[, \"SPrimary_energy\"] = log(complete_energy[, \"Primary_energy\"])\n",
    "\n",
    "g1 = ggplot(complete_energy,aes(x=Primary_energy))+ geom_histogram(aes(y=..density..),binwidth = 10000)+geom_density(alpha=.1,col=\"blue\") \n",
    "g2 = ggplot(complete_energy,aes(x=SPrimary_energy))+ geom_histogram(aes(y=..density..),binwidth = 0.2)+geom_density(alpha=.1, col=\"blue\") \n",
    "\n",
    "grid.arrange(g1,g2,ncol=2)"
   ]
  },
  {
   "cell_type": "code",
   "execution_count": null,
   "id": "d9ff2f5e-238b-4a3d-8227-a8cd324be761",
   "metadata": {
    "tags": []
   },
   "outputs": [],
   "source": [
    "complete_energy[, \"SEnergy_intensity\"] = log(complete_energy[, \"Energy_intensity\"])\n",
    "\n",
    "g1 = ggplot(complete_energy,aes(x=Energy_intensity))+ geom_histogram(aes(y=..density..),binwidth = 1)+geom_density(alpha=.1,col=\"blue\") \n",
    "g2 = ggplot(complete_energy,aes(x=SEnergy_intensity))+ geom_histogram(aes(y=..density..),binwidth = 0.2)+geom_density(alpha=.1, col=\"blue\") \n",
    "\n",
    "grid.arrange(g1,g2,ncol=2)"
   ]
  },
  {
   "cell_type": "code",
   "execution_count": null,
   "id": "3ae708b5-780a-4099-a653-38c5f6c36c9b",
   "metadata": {
    "tags": []
   },
   "outputs": [],
   "source": [
    "complete_energy[, \"Sgdp_capita\"] = log(sqrt(complete_energy[, \"gdp_capita\"]))\n",
    "\n",
    "g1 = ggplot(complete_energy,aes(x=gdp_capita))+ geom_histogram(aes(y=..density..),binwidth = 6000)+geom_density(alpha=.1,col=\"blue\") \n",
    "g2 = ggplot(complete_energy,aes(x=Sgdp_capita))+ geom_histogram(aes(y=..density..),binwidth = 0.2)+geom_density(alpha=.1, col=\"blue\") \n",
    "\n",
    "grid.arrange(g1,g2,ncol=2)"
   ]
  },
  {
   "cell_type": "code",
   "execution_count": null,
   "id": "10f7c530-b912-4cb9-9636-cb1344b432af",
   "metadata": {
    "tags": []
   },
   "outputs": [],
   "source": [
    "complete_energy[, \"SDensity\"] = log(complete_energy[, \"Density\"])\n",
    "\n",
    "g1 = ggplot(complete_energy,aes(x=Density))+ geom_histogram(aes(y=..density..),binwidth = 25)+geom_density(alpha=.1,col=\"blue\") \n",
    "g2 = ggplot(complete_energy,aes(x=SDensity))+ geom_histogram(aes(y=..density..),binwidth = 0.3)+geom_density(alpha=.1, col=\"blue\") \n",
    "\n",
    "grid.arrange(g1,g2,ncol=2)"
   ]
  },
  {
   "cell_type": "code",
   "execution_count": null,
   "id": "21e9bb1a-cf61-4b87-85fd-d75b81f50d34",
   "metadata": {
    "tags": []
   },
   "outputs": [],
   "source": [
    "complete_energy[, \"SLand_area\"] = log(complete_energy[, \"Land_area\"])\n",
    "\n",
    "g1 = ggplot(complete_energy,aes(x=Land_area))+ geom_histogram(aes(y=..density..),binwidth = 200000)+geom_density(alpha=.1,col=\"blue\") \n",
    "g2 = ggplot(complete_energy,aes(x=SLand_area))+ geom_histogram(aes(y=..density..),binwidth = 0.3)+geom_density(alpha=.1, col=\"blue\") \n",
    "\n",
    "grid.arrange(g1,g2,ncol=2)"
   ]
  },
  {
   "cell_type": "markdown",
   "id": "bca43738-730b-4d1d-a53e-65604277d6bc",
   "metadata": {},
   "source": [
    "## Question 5"
   ]
  },
  {
   "cell_type": "code",
   "execution_count": null,
   "id": "0efa73ae-6c34-43a9-9497-efd4990798b8",
   "metadata": {
    "tags": []
   },
   "outputs": [],
   "source": [
    "complete_energy[, \"SValue_co2\"] = log(complete_energy[, \"Value_co2\"])\n",
    "\n",
    "g1 = ggplot(complete_energy,aes(x=Value_co2))+ geom_histogram(aes(y=..density..),binwidth = 100000)+geom_density(alpha=.1,col=\"blue\") \n",
    "g2 = ggplot(complete_energy,aes(x=SValue_co2))+ geom_histogram(aes(y=..density..),binwidth = 0.3)+geom_density(alpha=.1, col=\"blue\") \n",
    "\n",
    "grid.arrange(g1,g2,ncol=2)"
   ]
  },
  {
   "cell_type": "code",
   "execution_count": null,
   "id": "072444bb-4e34-490a-b072-d9c3b1db6a58",
   "metadata": {
    "tags": []
   },
   "outputs": [],
   "source": [
    "complete_energy[, \"SAccess_elec\"] = log(complete_energy[, \"Access_elec\"])\n",
    "\n",
    "g1 = ggplot(complete_energy,aes(x=Access_elec))+ geom_histogram(aes(y=..density..),binwidth = 5)+geom_density(alpha=.1,col=\"blue\") \n",
    "g2 = ggplot(complete_energy,aes(x=SAccess_elec))+ geom_histogram(aes(y=..density..),binwidth =0.3)+geom_density(alpha=.1, col=\"blue\") \n",
    "\n",
    "grid.arrange(g1,g2,ncol=2)\n",
    "\n",
    "#Pourquoi deux fois ? "
   ]
  },
  {
   "cell_type": "code",
   "execution_count": null,
   "id": "3d603eb7-c29b-4e82-9c08-bf3d4f781800",
   "metadata": {
    "tags": []
   },
   "outputs": [],
   "source": [
    "#for (i in 3:length(names(complete_energy))) {\n",
    "\n",
    "#complete_energy[, \"SAccess.to.electricity....of.population.\"] = log(complete_energy[, \"Access.to.electricity....of.population.\"])\n",
    "\n",
    "#g1 = ggplot(complete_energy,aes(x=Access.to.electricity....of.population.))+ geom_histogram(aes(y=..density..),binwidth = 5)+geom_density(alpha=.1,col=\"blue\") \n",
    "#g2 = ggplot(complete_energy,aes(x=SAccess.to.electricity....of.population.))+ geom_histogram(aes(y=..density..),binwidth = 0.2)+geom_density(alpha=.1, col=\"blue\") \n",
    "\n",
    "#grid.arrange(g1,g2,ncol=2)\n",
    "    \n",
    "#}"
   ]
  },
  {
   "cell_type": "code",
   "execution_count": null,
   "id": "05e93765-4f1e-44be-ba91-e1f32b1b1e9c",
   "metadata": {},
   "outputs": [],
   "source": [
    "#summary(complete_energy)"
   ]
  },
  {
   "cell_type": "code",
   "execution_count": 117,
   "id": "268b285f-966b-433f-bdce-074db76b5e03",
   "metadata": {
    "tags": []
   },
   "outputs": [],
   "source": [
    "complete_energy = complete_energy[-c(3,4,5,6,7,8,9,10,11,14,15,16)]"
   ]
  },
  {
   "cell_type": "code",
   "execution_count": null,
   "id": "964d3f1c-ed27-4c01-bda9-88bbc7f1bf5f",
   "metadata": {},
   "outputs": [],
   "source": [
    "summary(complete_energy)"
   ]
  },
  {
   "cell_type": "code",
   "execution_count": null,
   "id": "6f910650-982e-4f82-86e6-3d3c7e17fa22",
   "metadata": {
    "tags": []
   },
   "outputs": [],
   "source": [
    "boxplot(complete_energy[,-c(1,2)])"
   ]
  },
  {
   "cell_type": "markdown",
   "id": "55bc30a6-18e9-4583-a769-e79e07555b43",
   "metadata": {},
   "source": [
    "On affiche toutes les variables, mais comme elles n'ont pas la même échelle, c'est difficile à interpréter."
   ]
  },
  {
   "cell_type": "code",
   "execution_count": null,
   "id": "fe2a0cba-ab6c-4802-9198-4cc9bc947962",
   "metadata": {
    "tags": []
   },
   "outputs": [],
   "source": [
    "boxplot(complete_energy[,-c(1:6,11)])"
   ]
  },
  {
   "cell_type": "code",
   "execution_count": null,
   "id": "ae311f99-100c-4a82-b1c1-3f927afffaa2",
   "metadata": {
    "tags": []
   },
   "outputs": [],
   "source": [
    "boxplot(complete_energy[,c(5:6)])"
   ]
  },
  {
   "cell_type": "code",
   "execution_count": null,
   "id": "e95583c6",
   "metadata": {},
   "outputs": [],
   "source": [
    "boxplot(complete_energy[,c(11)]) #nuclear"
   ]
  },
  {
   "cell_type": "code",
   "execution_count": null,
   "id": "6b666f15",
   "metadata": {},
   "outputs": [],
   "source": [
    "boxplot(complete_energy[,c(4)]) #gdp growth"
   ]
  },
  {
   "cell_type": "markdown",
   "id": "ad169af2-64ba-497f-9478-eef4cdf766bd",
   "metadata": {
    "tags": []
   },
   "source": [
    "On ne regarde à présent que les variables transformée. L'échelle est meilleure"
   ]
  },
  {
   "cell_type": "markdown",
   "id": "c6bbdde5-4e57-447e-987e-faad50987e93",
   "metadata": {},
   "source": [
    "## Question 6 "
   ]
  },
  {
   "cell_type": "markdown",
   "id": "8b7e628b-e212-4735-9212-d64be1d7352b",
   "metadata": {},
   "source": [
    "### Analyse descriptive multidimensionnelle"
   ]
  },
  {
   "cell_type": "markdown",
   "id": "564c723a",
   "metadata": {},
   "source": [
    "#### Variable quantitative"
   ]
  },
  {
   "cell_type": "code",
   "execution_count": null,
   "id": "d9a9a3a6-8c79-4011-921c-56f53fabaa07",
   "metadata": {},
   "outputs": [],
   "source": [
    "numeric_energy =complete_energy[sapply(complete_energy, is.numeric)]\n",
    "mcor <- cor(numeric_energy)\n",
    "par(mfrow=c(1,1), mar=c(5,5,2,2))\n",
    "corrplot(mcor, order=\"hclust\", tl.col=\"black\")"
   ]
  },
  {
   "cell_type": "code",
   "execution_count": null,
   "id": "e2c4d110-5c5f-430d-8251-91852085b996",
   "metadata": {
    "tags": []
   },
   "outputs": [],
   "source": [
    "#par(mfrow = c(6,3) , mar = c(4,4,2,1))\n",
    "\n",
    "#for (i in 3:length(names(complete_energy))) {\n",
    " #   dfi = complete_energy[,c(2,i)]\n",
    "   # plot(dfi, main=names(complete_energy)[i],xlab='Values')\n",
    "#}"
   ]
  },
  {
   "cell_type": "markdown",
   "id": "6801feb5",
   "metadata": {},
   "source": [
    "#### Variable qualitative"
   ]
  },
  {
   "cell_type": "markdown",
   "id": "2f46da06",
   "metadata": {},
   "source": [
    "Pour cette étude, nous avons essayé plusieurs techniques pour visualiser nos données. Cependant nous avons pu remarquer que le nombre d'observations par pays n'est pas identique en fonction des années, ce qui ne rend pas forcément fiable nos exploitations.En effet, nous avons également essayé d'afficher des boxplots de l'ensemble des variables en fonction de Year, mais ce n'était pas très pertinent.   "
   ]
  },
  {
   "cell_type": "code",
   "execution_count": null,
   "id": "d2daa184",
   "metadata": {},
   "outputs": [],
   "source": [
    "quali= xtabs(~Year + Entity, data = complete_energy)\n",
    "mosaicplot(quali)"
   ]
  },
  {
   "cell_type": "markdown",
   "id": "f84cb7ba",
   "metadata": {},
   "source": [
    "## Question 8"
   ]
  },
  {
   "cell_type": "markdown",
   "id": "e1a06edf",
   "metadata": {},
   "source": [
    "### Dépendance entre Year et la variable à prédire"
   ]
  },
  {
   "cell_type": "code",
   "execution_count": null,
   "id": "29ef807b",
   "metadata": {},
   "outputs": [],
   "source": [
    "numeric_energy =complete_energy[sapply(complete_energy, is.numeric)]\n",
    "mcor <- cor(numeric_energy)\n",
    "mcor"
   ]
  },
  {
   "cell_type": "markdown",
   "id": "476bc810",
   "metadata": {},
   "source": [
    "Ici, nous avons la matrice de corrélation entre toutes les variables de notre energyset. En effet, on peut voir que la corrélation entre la variable Year et Value_co2_emissions_kt_by_country semble faible. Sa valeur faut 0.02055306\t"
   ]
  },
  {
   "cell_type": "markdown",
   "id": "bcffd812",
   "metadata": {},
   "source": [
    "On voit ici que la corrélation entre les variables Year et Value_co2 est très faible. En effet, on obtient un coefficient de corélation proche de 0, ce qui montre que les deux variables ne sont pas coorélées."
   ]
  },
  {
   "cell_type": "code",
   "execution_count": null,
   "id": "fc54af5c",
   "metadata": {},
   "outputs": [],
   "source": [
    "correlation_value=cor(as.numeric(complete_energy$Year), complete_energy$SValue_co2)\n",
    "print(correlation_value) # méthode pour avoir le coefficient directement\n",
    "#Est ce qu'on fait avec SValue ou pas ? "
   ]
  },
  {
   "cell_type": "code",
   "execution_count": null,
   "id": "311ae4df",
   "metadata": {},
   "outputs": [],
   "source": [
    "options(corrplot.width = 20, corrplot.height = 20)\n",
    "corrplot(mcor, order=\"hclust\", tl.col=\"black\")"
   ]
  },
  {
   "cell_type": "markdown",
   "id": "7c109fa8",
   "metadata": {},
   "source": [
    "Ce graphique nous donne la corrélation entre chaque point. En effet, on peut par exemple voir que la variable Value_co2_emissions_kt_by_country est bien corrélée car elle est proche de 1. Au contraire, la longitude n'est pas bine représentée, on peut pas avoir réellement confiance en ses valeurs. \n",
    "De plus, si nous comparons les variables Electricity.from.renewables et Value_co2_emissions_kt_by_country, l'angle entre les deux est très faible, ce qui signifie qu'elles sont bien corrélées en elles. A l'inverse, les variables Value_co2_emissions_kt_by_country et Renewable.energy.share.in.the.total.final.energy.consumption ont un angle quasi droit entre elles, ce qui indique qu'elles sont indépendantes."
   ]
  },
  {
   "cell_type": "markdown",
   "id": "447a8c22-bb07-47f5-8a46-c1f01b0264bb",
   "metadata": {},
   "source": [
    "## Question 7"
   ]
  },
  {
   "cell_type": "code",
   "execution_count": null,
   "id": "e6a8f11b",
   "metadata": {},
   "outputs": [],
   "source": [
    "str(complete_energy)"
   ]
  },
  {
   "cell_type": "markdown",
   "id": "2c10c699-80b7-483b-8da1-02dab43e5ad5",
   "metadata": {},
   "source": [
    "### Analyse en composante principale"
   ]
  },
  {
   "cell_type": "code",
   "execution_count": null,
   "id": "09d1637c-be68-4664-8622-dd88fb22f6a6",
   "metadata": {
    "tags": []
   },
   "outputs": [],
   "source": [
    "energy_pca = scale(complete_energy[,-c(1,2,3)], center = TRUE, scale = TRUE)\n",
    "head(energy_pca)"
   ]
  },
  {
   "cell_type": "code",
   "execution_count": null,
   "id": "fe4e7e64-b081-4f4f-bd60-377629afb9ad",
   "metadata": {
    "tags": []
   },
   "outputs": [],
   "source": [
    "resultat_pca = PCA(energy_pca,ncp=16)\n",
    "get_eig(resultat_pca)"
   ]
  },
  {
   "cell_type": "code",
   "execution_count": null,
   "id": "0dfebb76-ad4d-4f3b-8041-c638e3e62b6c",
   "metadata": {
    "tags": []
   },
   "outputs": [],
   "source": [
    "fviz_screeplot(resultat_pca, addlabels=TRUE, ylim=c(0,40))"
   ]
  },
  {
   "cell_type": "code",
   "execution_count": null,
   "id": "a170e29e",
   "metadata": {},
   "outputs": [],
   "source": [
    "boxplot(resultat_pca$ind$coord)"
   ]
  },
  {
   "cell_type": "markdown",
   "id": "c78a97a3",
   "metadata": {},
   "source": [
    "Nous pouvons en effet voir par cette ACP, que la première composante explique 33.3% des valeurs du energy set.La deuxième composante, elle représente 18.9%. Nous pourrions réduire notre dimension à 2 car avec ces deux-ci, nous expliquons pratiquement la moitié du energy set. Il faudrait ajouter 4 dimensions pour avoir 80% des valeurs expliquées. "
   ]
  },
  {
   "cell_type": "code",
   "execution_count": null,
   "id": "0f0586de-52c6-4793-b97b-aaef1e27c94a",
   "metadata": {
    "tags": []
   },
   "outputs": [],
   "source": [
    "var=get_pca_var(resultat_pca)\n",
    "fviz_pca_var(resultat_pca,col.var= \"contrib\",gradient.cols=c(\"grey\", \"red\"))"
   ]
  },
  {
   "cell_type": "code",
   "execution_count": null,
   "id": "909495d5",
   "metadata": {},
   "outputs": [],
   "source": [
    "corrplot(resultat_pca$var$cor, is.corr=FALSE)"
   ]
  },
  {
   "cell_type": "markdown",
   "id": "be6464b8",
   "metadata": {},
   "source": [
    "Dim 1 : Corrélée positivement avec Access_to_Electricity, Access_Clean_Fuel, Primary_energy_consumption, gdp_per_capita / Négativement avec Renewable_share\n",
    "\n",
    "Dim 2 : Corrélée positivement Land_Area, Electricity_renewables\n",
    "\n",
    "Dim 4 : Corrélée positivement Density\n",
    "\n",
    "Dim 5 : Corrélée positivement gdp_growth\n",
    "\n",
    "Dim 6 Corrélée positivement Latitude"
   ]
  },
  {
   "cell_type": "markdown",
   "id": "4f6b18d2-98c8-4fc8-b6be-fd6529e997d9",
   "metadata": {},
   "source": [
    "# Modélisation"
   ]
  },
  {
   "cell_type": "code",
   "execution_count": null,
   "id": "078b183d-595a-4f93-82ab-169ca3baefbe",
   "metadata": {
    "tags": []
   },
   "outputs": [],
   "source": [
    "complete_energy$SElec_fossil = NULL"
   ]
  },
  {
   "cell_type": "markdown",
   "id": "14d17bc1-ac54-4c30-8206-d5ac92c85a5b",
   "metadata": {},
   "source": [
    "## Question 1"
   ]
  },
  {
   "cell_type": "markdown",
   "id": "89ccdb39-d8a0-41dc-a670-8bcabaec4b47",
   "metadata": {},
   "source": [
    "### Diviser échantillon d'apprentissage / de test"
   ]
  },
  {
   "cell_type": "code",
   "execution_count": 63,
   "id": "b46e3f36-ee49-4a99-b4fe-3733fccec56d",
   "metadata": {
    "tags": []
   },
   "outputs": [],
   "source": [
    "complete_energy$Entity = as.factor(complete_energy$Entity)\n",
    "complete_energy$Year = as.factor(complete_energy$Year)\n",
    "\n",
    "MEntity <- model.matrix(~ Entity -1, data = complete_energy)\n",
    "MYear <- model.matrix(~ Year-1, data = complete_energy)\n",
    "\n",
    "data <- cbind(complete_energy[,-c(1,2)], MEntity, MYear)"
   ]
  },
  {
   "cell_type": "code",
   "execution_count": 64,
   "id": "7c803a7c-ae5b-4f10-9bd9-90c1bc23e8f9",
   "metadata": {
    "tags": []
   },
   "outputs": [
    {
     "name": "stdout",
     "output_type": "stream",
     "text": [
      "'data.frame':\t2294 obs. of  185 variables:\n",
      " $ Value_co2                     : num  1220 1030 1760 3560 4880 ...\n",
      " $ gdp_growth                    : num  8.83 1.41 5.36 3.92 21.39 ...\n",
      " $ Latitude                      : num  33.9 33.9 33.9 33.9 33.9 ...\n",
      " $ Longitude                     : num  67.7 67.7 67.7 67.7 67.7 ...\n",
      " $ SAccess_elec                  : num  2.69 3 3.42 3.75 3.84 ...\n",
      " $ SAccess_fuels                 : num  2.35 2.48 2.7 2.87 2.97 ...\n",
      " $ SRenewable_energy             : num  6.05 6.65 5.65 4.6 4.07 ...\n",
      " $ SElec_nuclear                 : num  0 0 0 0 0 0 0 0 0 0 ...\n",
      " $ SElec_renew                   : num  0.489 0.445 0.495 0.432 0.577 ...\n",
      " $ SLow_carbon                   : num  8.19 7.93 8.73 8.6 9.11 ...\n",
      " $ SPrimary_energy               : num  5.44 5.32 5.72 6.41 6.88 ...\n",
      " $ SEnergy_intensity             : num  0.336 0.182 0.405 0.663 0.811 ...\n",
      " $ Sgdp_capita                   : num  2.63 2.68 2.79 2.95 3.04 ...\n",
      " $ SDensity                      : num  4.09 4.09 4.09 4.09 4.09 ...\n",
      " $ SLand_area                    : num  13.4 13.4 13.4 13.4 13.4 ...\n",
      " $ SValue_co2                    : num  7.11 6.94 7.47 8.18 8.49 ...\n",
      " $ EntityAfghanistan             : num  1 1 1 1 1 1 1 1 1 1 ...\n",
      " $ EntityAlgeria                 : num  0 0 0 0 0 0 0 0 0 0 ...\n",
      " $ EntityAngola                  : num  0 0 0 0 0 0 0 0 0 0 ...\n",
      " $ EntityAntigua and Barbuda     : num  0 0 0 0 0 0 0 0 0 0 ...\n",
      " $ EntityArgentina               : num  0 0 0 0 0 0 0 0 0 0 ...\n",
      " $ EntityArmenia                 : num  0 0 0 0 0 0 0 0 0 0 ...\n",
      " $ EntityAustralia               : num  0 0 0 0 0 0 0 0 0 0 ...\n",
      " $ EntityAustria                 : num  0 0 0 0 0 0 0 0 0 0 ...\n",
      " $ EntityAzerbaijan              : num  0 0 0 0 0 0 0 0 0 0 ...\n",
      " $ EntityBahrain                 : num  0 0 0 0 0 0 0 0 0 0 ...\n",
      " $ EntityBangladesh              : num  0 0 0 0 0 0 0 0 0 0 ...\n",
      " $ EntityBarbados                : num  0 0 0 0 0 0 0 0 0 0 ...\n",
      " $ EntityBelarus                 : num  0 0 0 0 0 0 0 0 0 0 ...\n",
      " $ EntityBelgium                 : num  0 0 0 0 0 0 0 0 0 0 ...\n",
      " $ EntityBelize                  : num  0 0 0 0 0 0 0 0 0 0 ...\n",
      " $ EntityBenin                   : num  0 0 0 0 0 0 0 0 0 0 ...\n",
      " $ EntityBhutan                  : num  0 0 0 0 0 0 0 0 0 0 ...\n",
      " $ EntityBosnia and Herzegovina  : num  0 0 0 0 0 0 0 0 0 0 ...\n",
      " $ EntityBotswana                : num  0 0 0 0 0 0 0 0 0 0 ...\n",
      " $ EntityBrazil                  : num  0 0 0 0 0 0 0 0 0 0 ...\n",
      " $ EntityBurkina Faso            : num  0 0 0 0 0 0 0 0 0 0 ...\n",
      " $ EntityBurundi                 : num  0 0 0 0 0 0 0 0 0 0 ...\n",
      " $ EntityCambodia                : num  0 0 0 0 0 0 0 0 0 0 ...\n",
      " $ EntityCameroon                : num  0 0 0 0 0 0 0 0 0 0 ...\n",
      " $ EntityCanada                  : num  0 0 0 0 0 0 0 0 0 0 ...\n",
      " $ EntityCentral African Republic: num  0 0 0 0 0 0 0 0 0 0 ...\n",
      " $ EntityChad                    : num  0 0 0 0 0 0 0 0 0 0 ...\n",
      " $ EntityChina                   : num  0 0 0 0 0 0 0 0 0 0 ...\n",
      " $ EntityColombia                : num  0 0 0 0 0 0 0 0 0 0 ...\n",
      " $ EntityComoros                 : num  0 0 0 0 0 0 0 0 0 0 ...\n",
      " $ EntityCosta Rica              : num  0 0 0 0 0 0 0 0 0 0 ...\n",
      " $ EntityCroatia                 : num  0 0 0 0 0 0 0 0 0 0 ...\n",
      " $ EntityCuba                    : num  0 0 0 0 0 0 0 0 0 0 ...\n",
      " $ EntityCyprus                  : num  0 0 0 0 0 0 0 0 0 0 ...\n",
      " $ EntityDenmark                 : num  0 0 0 0 0 0 0 0 0 0 ...\n",
      " $ EntityDjibouti                : num  0 0 0 0 0 0 0 0 0 0 ...\n",
      " $ EntityDominica                : num  0 0 0 0 0 0 0 0 0 0 ...\n",
      " $ EntityDominican Republic      : num  0 0 0 0 0 0 0 0 0 0 ...\n",
      " $ EntityEcuador                 : num  0 0 0 0 0 0 0 0 0 0 ...\n",
      " $ EntityEl Salvador             : num  0 0 0 0 0 0 0 0 0 0 ...\n",
      " $ EntityEquatorial Guinea       : num  0 0 0 0 0 0 0 0 0 0 ...\n",
      " $ EntityEritrea                 : num  0 0 0 0 0 0 0 0 0 0 ...\n",
      " $ EntityEstonia                 : num  0 0 0 0 0 0 0 0 0 0 ...\n",
      " $ EntityEswatini                : num  0 0 0 0 0 0 0 0 0 0 ...\n",
      " $ EntityEthiopia                : num  0 0 0 0 0 0 0 0 0 0 ...\n",
      " $ EntityFiji                    : num  0 0 0 0 0 0 0 0 0 0 ...\n",
      " $ EntityFinland                 : num  0 0 0 0 0 0 0 0 0 0 ...\n",
      " $ EntityFrance                  : num  0 0 0 0 0 0 0 0 0 0 ...\n",
      " $ EntityGabon                   : num  0 0 0 0 0 0 0 0 0 0 ...\n",
      " $ EntityGeorgia                 : num  0 0 0 0 0 0 0 0 0 0 ...\n",
      " $ EntityGermany                 : num  0 0 0 0 0 0 0 0 0 0 ...\n",
      " $ EntityGhana                   : num  0 0 0 0 0 0 0 0 0 0 ...\n",
      " $ EntityGreece                  : num  0 0 0 0 0 0 0 0 0 0 ...\n",
      " $ EntityGrenada                 : num  0 0 0 0 0 0 0 0 0 0 ...\n",
      " $ EntityGuatemala               : num  0 0 0 0 0 0 0 0 0 0 ...\n",
      " $ EntityGuinea                  : num  0 0 0 0 0 0 0 0 0 0 ...\n",
      " $ EntityGuinea-Bissau           : num  0 0 0 0 0 0 0 0 0 0 ...\n",
      " $ EntityGuyana                  : num  0 0 0 0 0 0 0 0 0 0 ...\n",
      " $ EntityHaiti                   : num  0 0 0 0 0 0 0 0 0 0 ...\n",
      " $ EntityHonduras                : num  0 0 0 0 0 0 0 0 0 0 ...\n",
      " $ EntityHungary                 : num  0 0 0 0 0 0 0 0 0 0 ...\n",
      " $ EntityIceland                 : num  0 0 0 0 0 0 0 0 0 0 ...\n",
      " $ EntityIndia                   : num  0 0 0 0 0 0 0 0 0 0 ...\n",
      " $ EntityIraq                    : num  0 0 0 0 0 0 0 0 0 0 ...\n",
      " $ EntityIreland                 : num  0 0 0 0 0 0 0 0 0 0 ...\n",
      " $ EntityIsrael                  : num  0 0 0 0 0 0 0 0 0 0 ...\n",
      " $ EntityItaly                   : num  0 0 0 0 0 0 0 0 0 0 ...\n",
      " $ EntityJamaica                 : num  0 0 0 0 0 0 0 0 0 0 ...\n",
      " $ EntityJapan                   : num  0 0 0 0 0 0 0 0 0 0 ...\n",
      " $ EntityJordan                  : num  0 0 0 0 0 0 0 0 0 0 ...\n",
      " $ EntityKenya                   : num  0 0 0 0 0 0 0 0 0 0 ...\n",
      " $ EntityKiribati                : num  0 0 0 0 0 0 0 0 0 0 ...\n",
      " $ EntityKuwait                  : num  0 0 0 0 0 0 0 0 0 0 ...\n",
      " $ EntityLatvia                  : num  0 0 0 0 0 0 0 0 0 0 ...\n",
      " $ EntityLesotho                 : num  0 0 0 0 0 0 0 0 0 0 ...\n",
      " $ EntityLiberia                 : num  0 0 0 0 0 0 0 0 0 0 ...\n",
      " $ EntityLithuania               : num  0 0 0 0 0 0 0 0 0 0 ...\n",
      " $ EntityLuxembourg              : num  0 0 0 0 0 0 0 0 0 0 ...\n",
      " $ EntityMadagascar              : num  0 0 0 0 0 0 0 0 0 0 ...\n",
      " $ EntityMalawi                  : num  0 0 0 0 0 0 0 0 0 0 ...\n",
      " $ EntityMaldives                : num  0 0 0 0 0 0 0 0 0 0 ...\n",
      " $ EntityMali                    : num  0 0 0 0 0 0 0 0 0 0 ...\n",
      " $ EntityMalta                   : num  0 0 0 0 0 0 0 0 0 0 ...\n",
      "  [list output truncated]\n",
      "'data.frame':\t574 obs. of  185 variables:\n",
      " $ Value_co2                     : num  2080 61660 5420 3600 40 ...\n",
      " $ gdp_growth                    : num  6.94 3.82 3.49 9.6 2.01 ...\n",
      " $ Latitude                      : num  -13.13 39.4 9.75 40.07 1.84 ...\n",
      " $ Longitude                     : num  27.85 -8.22 -83.75 45.04 -157.38 ...\n",
      " $ SAccess_elec                  : num  2.92 4.61 4.59 4.61 4.1 ...\n",
      " $ SAccess_fuels                 : num  2.78 4.62 4.5 4.42 1.03 ...\n",
      " $ SRenewable_energy             : num  9.44 4.49 5.67 2.33 6.98 ...\n",
      " $ SElec_nuclear                 : num  0 0 0 1.1 0 ...\n",
      " $ SElec_renew                   : num  2.217 2.63 2.052 0.673 0 ...\n",
      " $ SLow_carbon                   : num  9.95 5.45 9.92 7.28 0 ...\n",
      " $ SPrimary_energy               : num  8.01 10.26 9.28 9.13 7.6 ...\n",
      " $ SEnergy_intensity             : num  2.47 1.19 0.85 1.82 1.75 ...\n",
      " $ Sgdp_capita                   : num  3.04 4.67 4.14 3.27 3.46 ...\n",
      " $ SDensity                      : num  3.22 4.71 4.61 4.64 4.99 ...\n",
      " $ SLand_area                    : num  13.5 11.4 10.8 10.3 6.7 ...\n",
      " $ SValue_co2                    : num  7.64 11.03 8.6 8.19 3.69 ...\n",
      " $ EntityAfghanistan             : num  0 0 0 0 0 0 0 0 0 0 ...\n",
      " $ EntityAlgeria                 : num  0 0 0 0 0 0 0 0 0 0 ...\n",
      " $ EntityAngola                  : num  0 0 0 0 0 0 0 0 0 0 ...\n",
      " $ EntityAntigua and Barbuda     : num  0 0 0 0 0 0 0 0 0 0 ...\n",
      " $ EntityArgentina               : num  0 0 0 0 0 0 0 0 0 0 ...\n",
      " $ EntityArmenia                 : num  0 0 0 1 0 0 0 0 0 0 ...\n",
      " $ EntityAustralia               : num  0 0 0 0 0 0 0 1 0 0 ...\n",
      " $ EntityAustria                 : num  0 0 0 0 0 0 0 0 0 0 ...\n",
      " $ EntityAzerbaijan              : num  0 0 0 0 0 0 0 0 0 0 ...\n",
      " $ EntityBahrain                 : num  0 0 0 0 0 0 0 0 0 0 ...\n",
      " $ EntityBangladesh              : num  0 0 0 0 0 0 0 0 0 0 ...\n",
      " $ EntityBarbados                : num  0 0 0 0 0 0 0 0 0 0 ...\n",
      " $ EntityBelarus                 : num  0 0 0 0 0 0 0 0 0 0 ...\n",
      " $ EntityBelgium                 : num  0 0 0 0 0 0 0 0 0 0 ...\n",
      " $ EntityBelize                  : num  0 0 0 0 0 0 0 0 0 0 ...\n",
      " $ EntityBenin                   : num  0 0 0 0 0 0 0 0 0 1 ...\n",
      " $ EntityBhutan                  : num  0 0 0 0 0 0 0 0 0 0 ...\n",
      " $ EntityBosnia and Herzegovina  : num  0 0 0 0 0 0 0 0 0 0 ...\n",
      " $ EntityBotswana                : num  0 0 0 0 0 0 0 0 0 0 ...\n",
      " $ EntityBrazil                  : num  0 0 0 0 0 0 0 0 0 0 ...\n",
      " $ EntityBurkina Faso            : num  0 0 0 0 0 0 0 0 0 0 ...\n",
      " $ EntityBurundi                 : num  0 0 0 0 0 0 0 0 0 0 ...\n",
      " $ EntityCambodia                : num  0 0 0 0 0 0 0 0 0 0 ...\n",
      " $ EntityCameroon                : num  0 0 0 0 0 0 0 0 0 0 ...\n",
      " $ EntityCanada                  : num  0 0 0 0 0 0 0 0 0 0 ...\n",
      " $ EntityCentral African Republic: num  0 0 0 0 0 0 0 0 0 0 ...\n",
      " $ EntityChad                    : num  0 0 0 0 0 0 0 0 0 0 ...\n",
      " $ EntityChina                   : num  0 0 0 0 0 0 0 0 0 0 ...\n",
      " $ EntityColombia                : num  0 0 0 0 0 0 0 0 0 0 ...\n",
      " $ EntityComoros                 : num  0 0 0 0 0 0 0 0 0 0 ...\n",
      " $ EntityCosta Rica              : num  0 0 1 0 0 0 0 0 0 0 ...\n",
      " $ EntityCroatia                 : num  0 0 0 0 0 0 0 0 0 0 ...\n",
      " $ EntityCuba                    : num  0 0 0 0 0 0 0 0 0 0 ...\n",
      " $ EntityCyprus                  : num  0 0 0 0 0 0 0 0 0 0 ...\n",
      " $ EntityDenmark                 : num  0 0 0 0 0 0 0 0 0 0 ...\n",
      " $ EntityDjibouti                : num  0 0 0 0 0 0 0 0 0 0 ...\n",
      " $ EntityDominica                : num  0 0 0 0 0 0 0 0 0 0 ...\n",
      " $ EntityDominican Republic      : num  0 0 0 0 0 0 0 0 0 0 ...\n",
      " $ EntityEcuador                 : num  0 0 0 0 0 0 0 0 0 0 ...\n",
      " $ EntityEl Salvador             : num  0 0 0 0 0 0 0 0 0 0 ...\n",
      " $ EntityEquatorial Guinea       : num  0 0 0 0 0 0 0 0 0 0 ...\n",
      " $ EntityEritrea                 : num  0 0 0 0 0 0 0 0 0 0 ...\n",
      " $ EntityEstonia                 : num  0 0 0 0 0 0 0 0 0 0 ...\n",
      " $ EntityEswatini                : num  0 0 0 0 0 0 0 0 0 0 ...\n",
      " $ EntityEthiopia                : num  0 0 0 0 0 0 0 0 0 0 ...\n",
      " $ EntityFiji                    : num  0 0 0 0 0 0 0 0 0 0 ...\n",
      " $ EntityFinland                 : num  0 0 0 0 0 0 0 0 0 0 ...\n",
      " $ EntityFrance                  : num  0 0 0 0 0 0 0 0 0 0 ...\n",
      " $ EntityGabon                   : num  0 0 0 0 0 0 0 0 0 0 ...\n",
      " $ EntityGeorgia                 : num  0 0 0 0 0 0 0 0 0 0 ...\n",
      " $ EntityGermany                 : num  0 0 0 0 0 0 0 0 0 0 ...\n",
      " $ EntityGhana                   : num  0 0 0 0 0 0 0 0 0 0 ...\n",
      " $ EntityGreece                  : num  0 0 0 0 0 0 0 0 0 0 ...\n",
      " $ EntityGrenada                 : num  0 0 0 0 0 0 0 0 0 0 ...\n",
      " $ EntityGuatemala               : num  0 0 0 0 0 0 0 0 0 0 ...\n",
      " $ EntityGuinea                  : num  0 0 0 0 0 0 0 0 0 0 ...\n",
      " $ EntityGuinea-Bissau           : num  0 0 0 0 0 0 0 0 0 0 ...\n",
      " $ EntityGuyana                  : num  0 0 0 0 0 0 0 0 0 0 ...\n",
      " $ EntityHaiti                   : num  0 0 0 0 0 0 0 0 0 0 ...\n",
      " $ EntityHonduras                : num  0 0 0 0 0 0 0 0 0 0 ...\n",
      " $ EntityHungary                 : num  0 0 0 0 0 0 0 0 0 0 ...\n",
      " $ EntityIceland                 : num  0 0 0 0 0 0 0 0 0 0 ...\n",
      " $ EntityIndia                   : num  0 0 0 0 0 0 0 0 0 0 ...\n",
      " $ EntityIraq                    : num  0 0 0 0 0 0 0 0 0 0 ...\n",
      " $ EntityIreland                 : num  0 0 0 0 0 0 0 0 0 0 ...\n",
      " $ EntityIsrael                  : num  0 0 0 0 0 0 0 0 0 0 ...\n",
      " $ EntityItaly                   : num  0 0 0 0 0 0 0 0 0 0 ...\n",
      " $ EntityJamaica                 : num  0 0 0 0 0 0 0 0 0 0 ...\n",
      " $ EntityJapan                   : num  0 0 0 0 0 0 0 0 0 0 ...\n",
      " $ EntityJordan                  : num  0 0 0 0 0 0 0 0 1 0 ...\n",
      " $ EntityKenya                   : num  0 0 0 0 0 0 0 0 0 0 ...\n",
      " $ EntityKiribati                : num  0 0 0 0 1 0 0 0 0 0 ...\n",
      " $ EntityKuwait                  : num  0 0 0 0 0 0 0 0 0 0 ...\n",
      " $ EntityLatvia                  : num  0 0 0 0 0 0 0 0 0 0 ...\n",
      " $ EntityLesotho                 : num  0 0 0 0 0 0 0 0 0 0 ...\n",
      " $ EntityLiberia                 : num  0 0 0 0 0 0 0 0 0 0 ...\n",
      " $ EntityLithuania               : num  0 0 0 0 0 0 0 0 0 0 ...\n",
      " $ EntityLuxembourg              : num  0 0 0 0 0 0 0 0 0 0 ...\n",
      " $ EntityMadagascar              : num  0 0 0 0 0 0 0 0 0 0 ...\n",
      " $ EntityMalawi                  : num  0 0 0 0 0 0 0 0 0 0 ...\n",
      " $ EntityMaldives                : num  0 0 0 0 0 0 0 0 0 0 ...\n",
      " $ EntityMali                    : num  0 0 0 0 0 0 0 0 0 0 ...\n",
      " $ EntityMalta                   : num  0 0 0 0 0 0 0 0 0 0 ...\n",
      "  [list output truncated]\n"
     ]
    }
   ],
   "source": [
    "set.seed(183) # initialisation du générateur\n",
    "\n",
    "# Extraction des échantillons\n",
    "test.ratio <- .2   # part de l'échantillon test\n",
    "npop <- nrow(data) # nombre de lignes dans les données\n",
    "nvar <- ncol(data) # nombre de colonnes\n",
    "\n",
    "# taille de l'échantillon test\n",
    "ntest <- ceiling(npop * test.ratio) \n",
    "\n",
    "# indices de l'échantillon test\n",
    "testi <- sample(1:npop, ntest)\n",
    "# indices de l'échantillon d'apprentissage\n",
    "appri <- setdiff(1:npop, testi) \n",
    "\n",
    "# construction de l'échantillon d'apprentissage\n",
    "datappr <- data[appri,] \n",
    "# construction de l'échantillon test\n",
    "datestr <- data[testi, ] \n",
    "\n",
    "# vérification\n",
    "str(datappr)\n",
    "str(datestr)\n",
    "#summary(datappr) "
   ]
  },
  {
   "cell_type": "code",
   "execution_count": 65,
   "id": "6b38c627-5fed-4671-89f9-81ce2d05c974",
   "metadata": {},
   "outputs": [
    {
     "data": {
      "text/html": [
       "<table class=\"dataframe\">\n",
       "<caption>A data.frame: 0 × 18</caption>\n",
       "<thead>\n",
       "\t<tr><th scope=col>Entity</th><th scope=col>Year</th><th scope=col>Value_co2</th><th scope=col>gdp_growth</th><th scope=col>Latitude</th><th scope=col>Longitude</th><th scope=col>SAccess_elec</th><th scope=col>SAccess_fuels</th><th scope=col>SRenewable_energy</th><th scope=col>SElec_nuclear</th><th scope=col>SElec_renew</th><th scope=col>SLow_carbon</th><th scope=col>SPrimary_energy</th><th scope=col>SEnergy_intensity</th><th scope=col>Sgdp_capita</th><th scope=col>SDensity</th><th scope=col>SLand_area</th><th scope=col>SValue_co2</th></tr>\n",
       "\t<tr><th scope=col>&lt;fct&gt;</th><th scope=col>&lt;fct&gt;</th><th scope=col>&lt;dbl&gt;</th><th scope=col>&lt;dbl&gt;</th><th scope=col>&lt;dbl&gt;</th><th scope=col>&lt;dbl&gt;</th><th scope=col>&lt;dbl&gt;</th><th scope=col>&lt;dbl&gt;</th><th scope=col>&lt;dbl&gt;</th><th scope=col>&lt;dbl&gt;</th><th scope=col>&lt;dbl&gt;</th><th scope=col>&lt;dbl&gt;</th><th scope=col>&lt;dbl&gt;</th><th scope=col>&lt;dbl&gt;</th><th scope=col>&lt;dbl&gt;</th><th scope=col>&lt;dbl&gt;</th><th scope=col>&lt;dbl&gt;</th><th scope=col>&lt;dbl&gt;</th></tr>\n",
       "</thead>\n",
       "<tbody>\n",
       "</tbody>\n",
       "</table>\n"
      ],
      "text/latex": [
       "A data.frame: 0 × 18\n",
       "\\begin{tabular}{llllllllllllllllll}\n",
       " Entity & Year & Value\\_co2 & gdp\\_growth & Latitude & Longitude & SAccess\\_elec & SAccess\\_fuels & SRenewable\\_energy & SElec\\_nuclear & SElec\\_renew & SLow\\_carbon & SPrimary\\_energy & SEnergy\\_intensity & Sgdp\\_capita & SDensity & SLand\\_area & SValue\\_co2\\\\\n",
       " <fct> & <fct> & <dbl> & <dbl> & <dbl> & <dbl> & <dbl> & <dbl> & <dbl> & <dbl> & <dbl> & <dbl> & <dbl> & <dbl> & <dbl> & <dbl> & <dbl> & <dbl>\\\\\n",
       "\\hline\n",
       "\\end{tabular}\n"
      ],
      "text/markdown": [
       "\n",
       "A data.frame: 0 × 18\n",
       "\n",
       "| Entity &lt;fct&gt; | Year &lt;fct&gt; | Value_co2 &lt;dbl&gt; | gdp_growth &lt;dbl&gt; | Latitude &lt;dbl&gt; | Longitude &lt;dbl&gt; | SAccess_elec &lt;dbl&gt; | SAccess_fuels &lt;dbl&gt; | SRenewable_energy &lt;dbl&gt; | SElec_nuclear &lt;dbl&gt; | SElec_renew &lt;dbl&gt; | SLow_carbon &lt;dbl&gt; | SPrimary_energy &lt;dbl&gt; | SEnergy_intensity &lt;dbl&gt; | Sgdp_capita &lt;dbl&gt; | SDensity &lt;dbl&gt; | SLand_area &lt;dbl&gt; | SValue_co2 &lt;dbl&gt; |\n",
       "|---|---|---|---|---|---|---|---|---|---|---|---|---|---|---|---|---|---|\n",
       "\n"
      ],
      "text/plain": [
       "     Entity Year Value_co2 gdp_growth Latitude Longitude SAccess_elec\n",
       "     SAccess_fuels SRenewable_energy SElec_nuclear SElec_renew SLow_carbon\n",
       "     SPrimary_energy SEnergy_intensity Sgdp_capita SDensity SLand_area\n",
       "     SValue_co2"
      ]
     },
     "metadata": {},
     "output_type": "display_data"
    },
    {
     "ename": "ERROR",
     "evalue": "Error in data.frame(..., check.names = FALSE): les arguments impliquent des nombres de lignes différents : 0, 3\n",
     "output_type": "error",
     "traceback": [
      "Error in data.frame(..., check.names = FALSE): les arguments impliquent des nombres de lignes différents : 0, 3\nTraceback:\n",
      "1. cbind(china_data[, -c(1, 2)], MEntity, MYear)",
      "2. cbind(deparse.level, ...)",
      "3. data.frame(..., check.names = FALSE)",
      "4. stop(gettextf(\"arguments imply differing number of rows: %s\", \n .     paste(unique(nrows), collapse = \", \")), domain = NA)"
     ]
    }
   ],
   "source": [
    "china_data =subset(complete_energy, SValue_co2>500000)\n",
    "china_data\n",
    "china_data$Entity = as.factor(china_data$Entity)\n",
    "china_data$Year = as.factor(china_data$Year)\n",
    "\n",
    "MYear = model.matrix(~ Year -1, data = china_data)\n",
    "MEntity <- model.matrix(~ c(\"China\",\"United States\",\"Germany\" )-1, data = china_data)\n",
    "\n",
    "data_s = cbind(china_data[, -c(1, 2)], MEntity, MYear)\n",
    "data_s\n",
    "\n",
    "set.seed(183) # initialisation du générateur\n",
    "\n",
    "# Extraction des échantillons\n",
    "test.ratio <- .2   # part de l'échantillon test\n",
    "npop <- nrow(data_s) # nombre de lignes dans les données\n",
    "nvar <- ncol(data_s) # nombre de colonnes\n",
    "\n",
    "# taille de l'échantillon test\n",
    "ntest <- ceiling(npop * test.ratio) \n",
    "\n",
    "# indices de l'échantillon test\n",
    "testi <- sample(1:npop, ntest)\n",
    "# indices de l'échantillon d'apprentissage\n",
    "appri <- setdiff(1:npop, testi) \n",
    "\n",
    "# construction de l'échantillon d'apprentissage\n",
    "datappr2 <- data_s[appri,] \n",
    "# construction de l'échantillon test\n",
    "datestr2 <- data_s[testi, ] \n",
    "\n",
    "# vérification\n",
    "str(datappr2)\n",
    "str(datestr2)\n",
    "#summary(datappr) "
   ]
  },
  {
   "cell_type": "markdown",
   "id": "664a4080-57dd-47fb-8a00-9107f6ba82cb",
   "metadata": {},
   "source": [
    "Permet de tester notre modèle sur des données encore non traitées Eviter le sur ajustement. "
   ]
  },
  {
   "cell_type": "markdown",
   "id": "760cf2dd-dfff-4c45-9f21-e5860a23ebcd",
   "metadata": {},
   "source": [
    "## Question 2"
   ]
  },
  {
   "cell_type": "markdown",
   "id": "b91d711e-91b1-4d36-8aa4-5fd25e8f6651",
   "metadata": {},
   "source": [
    "### Modèle linéaire"
   ]
  },
  {
   "cell_type": "markdown",
   "id": "f54d3d47-f66f-4c28-9c93-ae57407dea9a",
   "metadata": {},
   "source": [
    "#### Sans sélection de variable"
   ]
  },
  {
   "cell_type": "code",
   "execution_count": null,
   "id": "3324426f-996e-4619-9b72-d4f3cc5e29e9",
   "metadata": {
    "tags": []
   },
   "outputs": [],
   "source": [
    "# estimation du modèle sans interaction\n",
    "reg.lm <-aov(SValue_co2 ~ . , data = datappr)\n",
    "# Extraction des résidus et des valeurs ajustées de ce modèle\n",
    "res.lm <- reg.lm$residuals\n",
    "fit.lm <- reg.lm$fitted.values\n",
    "\n",
    "plot(fit.lm,datappr$SValue_co2)"
   ]
  },
  {
   "cell_type": "code",
   "execution_count": null,
   "id": "622bef88-4d12-4f02-abdb-a1d7a9d48d13",
   "metadata": {
    "tags": []
   },
   "outputs": [],
   "source": [
    "# estimation du modèle sans interaction\n",
    "reg.lm <-aov(SValue_co2 ~ . , data = datappr2)\n",
    "# Extraction des résidus et des valeurs ajustées de ce modèle\n",
    "res.lm <- reg.lm$residuals\n",
    "fit.lm <- reg.lm$fitted.values\n",
    "\n",
    "plot(fit.lm,datappr2$SValue_co2)"
   ]
  },
  {
   "cell_type": "markdown",
   "id": "226120ab-9bdb-44af-9225-a6c90e475f59",
   "metadata": {},
   "source": [
    "##### MSE et R²"
   ]
  },
  {
   "cell_type": "code",
   "execution_count": null,
   "id": "c631ce6a-c55f-4ff4-83ea-681a97c11e8c",
   "metadata": {
    "tags": []
   },
   "outputs": [],
   "source": [
    "MSE = mean((datappr$SValue_co2 - fit.lm)^2)\n",
    "paste(\"MSE =\", MSE)\n",
    "\n",
    "# Calculer le coefficient de détermination R² (R2 score)\n",
    "\n",
    "SS_Residual <- sum((datappr$SValue_co2 - fit.lm)^2)\n",
    "SS_Total <- sum((datappr$SValue_co2 - mean(datappr$SValue_co2))^2)\n",
    "R2 <- 1 - (SS_Residual / SS_Total)\n",
    "paste(\"R2 =\", R2)\n"
   ]
  },
  {
   "cell_type": "markdown",
   "id": "7de12904-e8b3-4272-a8f8-947706561222",
   "metadata": {},
   "source": [
    "##### Graphe des résidus"
   ]
  },
  {
   "cell_type": "code",
   "execution_count": null,
   "id": "3d59b1cc-3105-4afc-804f-2a88100b2f82",
   "metadata": {
    "tags": []
   },
   "outputs": [],
   "source": [
    "ggplot(data.frame(residuals = res.lm, predicted = fitted(reg.lm)), aes(x = predicted, y = residuals)) +\n",
    "  geom_point() +\n",
    "  geom_hline(yintercept = 0 ,color = \"red\") "
   ]
  },
  {
   "cell_type": "code",
   "execution_count": null,
   "id": "76905480-1ba6-49f8-ab64-5bc06e30e1c6",
   "metadata": {
    "tags": []
   },
   "outputs": [],
   "source": [
    "#summary(reg.lm)\n",
    "#coef(reg.lm)"
   ]
  },
  {
   "cell_type": "markdown",
   "id": "87cbe357-95b0-44b5-b77f-a1b7414fb3e2",
   "metadata": {},
   "source": [
    "#### Avec sélection de variable (AIC)"
   ]
  },
  {
   "cell_type": "code",
   "execution_count": null,
   "id": "f84ecdf1-f620-447b-b153-1bef5916f43e",
   "metadata": {
    "tags": []
   },
   "outputs": [],
   "source": [
    "reg.glm <- glm(SValue_co2 ~ .^2, data = datappr)\n",
    "# Recherche du meilleur modèle au sens \n",
    "# du critère d'Akaïke par méthode descendante\n",
    "reg.glm.step <- step(reg.glm, direction = \"backward\")"
   ]
  },
  {
   "cell_type": "markdown",
   "id": "717a63b4-6f3e-4bda-a88f-ea67d5b5bdd8",
   "metadata": {},
   "source": [
    "#### Avec sélection de variable (LASSO)"
   ]
  },
  {
   "cell_type": "code",
   "execution_count": null,
   "id": "da11dbcf-d4ac-461e-a3f8-678b815c3cf6",
   "metadata": {
    "tags": []
   },
   "outputs": [],
   "source": [
    "# avec des variables quantitatives seulement\n",
    "reg.lasso.quanti <- glmnet(y = datappr[, 16],\n",
    "                           x = as.matrix(datappr[,-16]))\n",
    "# avec toutes les variables, créer d'abord la matrice d'expériences \n",
    "# avec 'model.matrix' (penser à retirer l'intercept du modèle)\n",
    "x.mat <- model.matrix(SValue_co2 ~ . - 1, data = datappr)\n",
    "reg.lasso <- glmnet(y = datappr$SValue_co2, x = x.mat)\n",
    "options(repr.plot.width = 12, repr.plot.height = 10)\n",
    "plot(reg.lasso, xvar = \"lambda\", label = TRUE)"
   ]
  },
  {
   "cell_type": "code",
   "execution_count": null,
   "id": "b7ddb9e2-9d9c-483e-b70c-68a6d06df719",
   "metadata": {
    "tags": []
   },
   "outputs": [],
   "source": [
    "reg.lasso.cv = cv.glmnet(y = datappr[, 16], x = x.mat)\n",
    "#plot(reg.lasso.cv)\n",
    "plot(reg.lasso.cv)"
   ]
  },
  {
   "cell_type": "code",
   "execution_count": null,
   "id": "0eedde28-8fc1-4c65-abf2-c5b0020cec73",
   "metadata": {
    "tags": []
   },
   "outputs": [],
   "source": [
    "# valeur estimée\n",
    "paste(\"CV estimate of lambda :\", round(reg.lasso.cv$lambda.1se, 3))\n",
    "# modèle correspondant\n",
    "#coef(reg.lasso.cv, s = \"lambda.1se\")"
   ]
  },
  {
   "cell_type": "code",
   "execution_count": null,
   "id": "c2bc251f-d775-4383-b540-7bb8d03510d4",
   "metadata": {
    "tags": []
   },
   "outputs": [],
   "source": [
    "plot(reg.lasso, xvar = \"lambda\", label = TRUE,xlim=c(-7,-5),ylim=c(-1,1))\n",
    "abline(v=log(reg.lasso.cv$lambda.1se),col=\"red\")"
   ]
  },
  {
   "cell_type": "code",
   "execution_count": null,
   "id": "70f3c7d9-0c2f-4507-becc-6344cd46a741",
   "metadata": {
    "tags": []
   },
   "outputs": [],
   "source": [
    "# Extraction des valeurs ajustées et des résidus\n",
    "\n",
    "fit.lasso.1se <- predict(reg.lasso.cv, s = \"lambda.1se\", newx = x.mat)\n",
    "res.lasso.1se <- datappr$SValue_co2 - fit.lasso.1se "
   ]
  },
  {
   "cell_type": "markdown",
   "id": "e3bad668-d402-4b48-8e42-f4e5fb688700",
   "metadata": {},
   "source": [
    "##### MSE et R²"
   ]
  },
  {
   "cell_type": "code",
   "execution_count": null,
   "id": "83ab7e88-0489-44c2-98d0-f111c60ef53d",
   "metadata": {
    "tags": []
   },
   "outputs": [],
   "source": [
    "MSE = mean((datappr$SValue_co2 - fit.lasso.1se)^2)\n",
    "paste(\"MSE =\", MSE)\n",
    "\n",
    "# Calculer le coefficient de détermination R² (R2 score)\n",
    "\n",
    "SS_Residual <- sum((datappr$SValue_co2 - fit.lasso.1se)^2)\n",
    "SS_Total <- sum((datappr$SValue_co2 - mean(datappr$SValue_co2))^2)\n",
    "R2 <- 1 - (SS_Residual / SS_Total)\n",
    "paste(\"R2 =\", R2)"
   ]
  },
  {
   "cell_type": "markdown",
   "id": "e104e760-0bc7-4398-99e7-c5a9e7deae5b",
   "metadata": {},
   "source": [
    "##### Graphe des résidus"
   ]
  },
  {
   "cell_type": "code",
   "execution_count": null,
   "id": "d929f326-8c87-443c-87c4-6cc263f89001",
   "metadata": {},
   "outputs": [],
   "source": [
    "\n",
    "ggplot(data.frame(residuals = res.lasso.1se, predicted = fit.lasso.1se), aes(x = fit.lasso.1se, y = res.lasso.1se)) + geom_point()+\n",
    "  geom_hline(yintercept = 0 ,color = \"red\")"
   ]
  },
  {
   "cell_type": "markdown",
   "id": "76c61c57-f745-450d-8231-2670763cb866",
   "metadata": {},
   "source": [
    "### SVM"
   ]
  },
  {
   "cell_type": "markdown",
   "id": "61e15ae7-8c40-46b1-b45f-733b610115d4",
   "metadata": {},
   "source": [
    "On enlève l'année 2020 parce qu'il n'y a jamais aucune donnée dedans"
   ]
  },
  {
   "cell_type": "code",
   "execution_count": null,
   "id": "a6d49d5e-aed6-4d1b-9f0d-19ccf547006f",
   "metadata": {
    "tags": []
   },
   "outputs": [],
   "source": [
    "datappr <- datappr[, !names(data) %in% \"Year2020\"]"
   ]
  },
  {
   "cell_type": "code",
   "execution_count": null,
   "id": "cdaf5b43-5a1e-4407-8552-11f072f9fb29",
   "metadata": {
    "tags": []
   },
   "outputs": [],
   "source": [
    "svm.reg0 = svm(SValue_co2 ~ ., data = datappr)\n",
    "summary(svm.reg0)"
   ]
  },
  {
   "cell_type": "markdown",
   "id": "6518214f-a9dd-47c4-acd8-4420cd73f581",
   "metadata": {},
   "source": [
    "#### Choix du meilleur noyau SVM"
   ]
  },
  {
   "cell_type": "code",
   "execution_count": null,
   "id": "9441f17f-ded8-4820-8f21-de591530e1f4",
   "metadata": {
    "tags": []
   },
   "outputs": [],
   "source": [
    "svm.reg.tune = tune.svm(SValue_co2 ~ ., data = datappr, cost = seq(2, 3, by = 0.5), \n",
    "    gamma = seq(0.1, 0.5, by = 0.1))\n",
    "plot(svm.reg.tune)"
   ]
  },
  {
   "cell_type": "code",
   "execution_count": null,
   "id": "46fd87ae-96cb-4077-9193-1c97ff3799fe",
   "metadata": {
    "tags": []
   },
   "outputs": [],
   "source": [
    "svm.reg.tune = tune.svm(SValue_co2 ~ ., data = datappr, cost = c(1, 1.5, 2, 2.5, 3, 3.5), \n",
    "    gamma = seq(0.02, 0.1, by = 0.02))\n",
    "plot(svm.reg.tune)"
   ]
  },
  {
   "cell_type": "code",
   "execution_count": null,
   "id": "098a71b8-77de-4e4c-81ce-175a408211e2",
   "metadata": {},
   "outputs": [],
   "source": []
  },
  {
   "cell_type": "code",
   "execution_count": null,
   "id": "875691e2-9082-4d98-ac9e-aa2738e2ddd6",
   "metadata": {
    "tags": []
   },
   "outputs": [],
   "source": [
    "#set.seed(2021)\n",
    "svm.reg = svm(SValue_co2~ ., data = datappr, cost = svm.reg.tune$best.parameters$cost, \n",
    "    gamma = svm.reg.tune$best.parameters$gamma, epsilon = 0.25)\n",
    "summary(svm.reg)"
   ]
  },
  {
   "cell_type": "markdown",
   "id": "32deff5a-76e6-42a4-a151-dc713ff2f772",
   "metadata": {},
   "source": [
    "#### Résidus"
   ]
  },
  {
   "cell_type": "code",
   "execution_count": null,
   "id": "59c82dbe-afb6-48dc-a479-19ab3db0759d",
   "metadata": {
    "tags": []
   },
   "outputs": [],
   "source": [
    "fit.svmr=svm.reg$fitted\n",
    "res.svmr=fit.svmr-datappr[,\"SValue_co2\"]\n",
    "gplot.res(fit.svmr,res.svmr,titre=\"\")"
   ]
  },
  {
   "cell_type": "markdown",
   "id": "dd93f98b-23a9-46b9-b973-1cd80a09aff4",
   "metadata": {},
   "source": [
    "### Arbre"
   ]
  },
  {
   "cell_type": "code",
   "execution_count": null,
   "id": "d8ae3e21-efa6-48ca-8b94-de6cd571d46d",
   "metadata": {
    "tags": []
   },
   "outputs": [],
   "source": [
    "tree.reg=rpart(SValue_co2~.,data=datappr,control=rpart.control(cp=0.001))"
   ]
  },
  {
   "cell_type": "code",
   "execution_count": null,
   "id": "1d76081d-3cfc-45d3-837a-266da52a1690",
   "metadata": {
    "tags": []
   },
   "outputs": [],
   "source": [
    "library(rpart.plot)\n",
    "options(repr.plot.width = 15, repr.plot.height = 10)\n",
    "rpart.plot(tree.reg)"
   ]
  },
  {
   "cell_type": "code",
   "execution_count": null,
   "id": "04121e80-e59b-4ad2-84e7-23af0031e033",
   "metadata": {
    "tags": []
   },
   "outputs": [],
   "source": [
    "xmat<-xpred.rpart(tree.reg,xval=10) \n",
    "# one row for each observation and one column for each complexity value\n",
    "\n",
    "# Cross-validation error par valeur de CP\n",
    "CVerr<-apply((xmat-datappr[,\"SValue_co2\"])^2,2,sum)\n",
    "\n",
    "plotcp(tree.reg)"
   ]
  },
  {
   "cell_type": "code",
   "execution_count": null,
   "id": "984ee9bb-3e4e-4e0b-8477-239fc0aa5e67",
   "metadata": {
    "tags": []
   },
   "outputs": [],
   "source": [
    "as.numeric(attributes(which.min(CVerr))$names)\n",
    "tree.reg=rpart(SValue_co2~.,data=datappr,control=rpart.control(cp=as.numeric(attributes(which.min(CVerr))$names)))\n",
    "rpart.plot(tree.reg,type=5,extra=101)"
   ]
  },
  {
   "cell_type": "code",
   "execution_count": null,
   "id": "749449f4-1317-4c30-8d47-7d91c6243d6a",
   "metadata": {
    "tags": []
   },
   "outputs": [],
   "source": [
    "library(partykit)\n",
    "plot(as.party(tree.reg), type=\"simple\")"
   ]
  },
  {
   "cell_type": "code",
   "execution_count": null,
   "id": "8d2fedbe-265d-4986-8ffe-90ef15d32a3d",
   "metadata": {
    "tags": []
   },
   "outputs": [],
   "source": [
    "fit.tree=predict(tree.reg)\n",
    "res.tree=fit.tree-datappr[,\"SValue_co2\"]\n",
    "\n",
    "options(repr.plot.width = 12, repr.plot.height = 4)\n",
    "par(mfrow = c(1, 3))\n",
    "ggplot(data.frame(residuals = res.tree, predicted = fit.tree), aes(x = predicted, y = residuals)) +\n",
    "  geom_point() +\n",
    "  geom_hline(yintercept = 0 ,color = \"red\") +\n",
    "  ggtitle(\"Tree\")"
   ]
  },
  {
   "cell_type": "markdown",
   "id": "43992d5c-e2a7-4fe8-98b2-30c745a0193f",
   "metadata": {},
   "source": [
    "### Random Forest"
   ]
  },
  {
   "cell_type": "code",
   "execution_count": null,
   "id": "94e8d968-e93b-4699-aaae-4a8c9ac1a485",
   "metadata": {
    "tags": []
   },
   "outputs": [],
   "source": [
    "rf.reg=randomForest(SValue_co2~., data=datappr,xtest=datestr[,-c(16,20)],ytest=datestr[,\"SValue_co2\"],\n",
    "   ntree=500,do.trace=50,importance=TRUE)\n",
    "attributes(rf.reg)\n",
    "rf.reg$mtry"
   ]
  },
  {
   "cell_type": "code",
   "execution_count": null,
   "id": "ce3177d0-d61d-4c31-a08b-2b4a1546f54d",
   "metadata": {
    "tags": []
   },
   "outputs": [],
   "source": [
    "rf.reg=randomForest(SValue_co2~.,data=datappr,mtry=5,importance=TRUE,na.action = na.omit)"
   ]
  },
  {
   "cell_type": "code",
   "execution_count": null,
   "id": "5f727f67-34d0-45d2-a4b3-a96ef6f6479d",
   "metadata": {},
   "outputs": [],
   "source": []
  }
 ],
 "metadata": {
  "kernelspec": {
   "display_name": "R",
   "language": "R",
   "name": "ir"
  },
  "language_info": {
   "codemirror_mode": "r",
   "file_extension": ".r",
   "mimetype": "text/x-r-source",
   "name": "R",
   "pygments_lexer": "r",
   "version": "4.3.3"
  }
 },
 "nbformat": 4,
 "nbformat_minor": 5
}
